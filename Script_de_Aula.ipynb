{
  "nbformat": 4,
  "nbformat_minor": 0,
  "metadata": {
    "colab": {
      "name": "Script de Aula.ipynb",
      "provenance": [],
      "collapsed_sections": [],
      "include_colab_link": true
    },
    "kernelspec": {
      "name": "ir",
      "display_name": "R"
    }
  },
  "cells": [
    {
      "cell_type": "markdown",
      "metadata": {
        "id": "view-in-github",
        "colab_type": "text"
      },
      "source": [
        "<a href=\"https://colab.research.google.com/github/ricardorocha86/Topicos-B/blob/main/Script_de_Aula.ipynb\" target=\"_parent\"><img src=\"https://colab.research.google.com/assets/colab-badge.svg\" alt=\"Open In Colab\"/></a>"
      ]
    },
    {
      "cell_type": "markdown",
      "metadata": {
        "id": "D4DTjjfcXXFG"
      },
      "source": [
        "# **MATE56 - Introdução ao Machine Learning**"
      ]
    },
    {
      "cell_type": "markdown",
      "metadata": {
        "id": "PFCp03Cqt3kL"
      },
      "source": [
        "## **AULA 1: Nosso primeiro modelo de Machine Learning** "
      ]
    },
    {
      "cell_type": "code",
      "metadata": {
        "id": "uIDr2FrKt_kJ",
        "colab": {
          "base_uri": "https://localhost:8080/",
          "height": 763
        },
        "outputId": "e8e53782-cff4-4f90-d52b-b9f4d58f2c78"
      },
      "source": [
        "# MtCars Dataset\n",
        "mtcars"
      ],
      "execution_count": 56,
      "outputs": [
        {
          "output_type": "display_data",
          "data": {
            "text/plain": [
              "                    mpg  cyl disp  hp  drat wt    qsec  vs am gear carb\n",
              "Mazda RX4           21.0 6   160.0 110 3.90 2.620 16.46 0  1  4    4   \n",
              "Mazda RX4 Wag       21.0 6   160.0 110 3.90 2.875 17.02 0  1  4    4   \n",
              "Datsun 710          22.8 4   108.0  93 3.85 2.320 18.61 1  1  4    1   \n",
              "Hornet 4 Drive      21.4 6   258.0 110 3.08 3.215 19.44 1  0  3    1   \n",
              "Hornet Sportabout   18.7 8   360.0 175 3.15 3.440 17.02 0  0  3    2   \n",
              "Valiant             18.1 6   225.0 105 2.76 3.460 20.22 1  0  3    1   \n",
              "Duster 360          14.3 8   360.0 245 3.21 3.570 15.84 0  0  3    4   \n",
              "Merc 240D           24.4 4   146.7  62 3.69 3.190 20.00 1  0  4    2   \n",
              "Merc 230            22.8 4   140.8  95 3.92 3.150 22.90 1  0  4    2   \n",
              "Merc 280            19.2 6   167.6 123 3.92 3.440 18.30 1  0  4    4   \n",
              "Merc 280C           17.8 6   167.6 123 3.92 3.440 18.90 1  0  4    4   \n",
              "Merc 450SE          16.4 8   275.8 180 3.07 4.070 17.40 0  0  3    3   \n",
              "Merc 450SL          17.3 8   275.8 180 3.07 3.730 17.60 0  0  3    3   \n",
              "Merc 450SLC         15.2 8   275.8 180 3.07 3.780 18.00 0  0  3    3   \n",
              "Cadillac Fleetwood  10.4 8   472.0 205 2.93 5.250 17.98 0  0  3    4   \n",
              "Lincoln Continental 10.4 8   460.0 215 3.00 5.424 17.82 0  0  3    4   \n",
              "Chrysler Imperial   14.7 8   440.0 230 3.23 5.345 17.42 0  0  3    4   \n",
              "Fiat 128            32.4 4    78.7  66 4.08 2.200 19.47 1  1  4    1   \n",
              "Honda Civic         30.4 4    75.7  52 4.93 1.615 18.52 1  1  4    2   \n",
              "Toyota Corolla      33.9 4    71.1  65 4.22 1.835 19.90 1  1  4    1   \n",
              "Toyota Corona       21.5 4   120.1  97 3.70 2.465 20.01 1  0  3    1   \n",
              "Dodge Challenger    15.5 8   318.0 150 2.76 3.520 16.87 0  0  3    2   \n",
              "AMC Javelin         15.2 8   304.0 150 3.15 3.435 17.30 0  0  3    2   \n",
              "Camaro Z28          13.3 8   350.0 245 3.73 3.840 15.41 0  0  3    4   \n",
              "Pontiac Firebird    19.2 8   400.0 175 3.08 3.845 17.05 0  0  3    2   \n",
              "Fiat X1-9           27.3 4    79.0  66 4.08 1.935 18.90 1  1  4    1   \n",
              "Porsche 914-2       26.0 4   120.3  91 4.43 2.140 16.70 0  1  5    2   \n",
              "Lotus Europa        30.4 4    95.1 113 3.77 1.513 16.90 1  1  5    2   \n",
              "Ford Pantera L      15.8 8   351.0 264 4.22 3.170 14.50 0  1  5    4   \n",
              "Ferrari Dino        19.7 6   145.0 175 3.62 2.770 15.50 0  1  5    6   \n",
              "Maserati Bora       15.0 8   301.0 335 3.54 3.570 14.60 0  1  5    8   \n",
              "Volvo 142E          21.4 4   121.0 109 4.11 2.780 18.60 1  1  4    2   "
            ],
            "text/latex": "A data.frame: 32 × 11\n\\begin{tabular}{r|lllllllllll}\n  & mpg & cyl & disp & hp & drat & wt & qsec & vs & am & gear & carb\\\\\n  & <dbl> & <dbl> & <dbl> & <dbl> & <dbl> & <dbl> & <dbl> & <dbl> & <dbl> & <dbl> & <dbl>\\\\\n\\hline\n\tMazda RX4 & 21.0 & 6 & 160.0 & 110 & 3.90 & 2.620 & 16.46 & 0 & 1 & 4 & 4\\\\\n\tMazda RX4 Wag & 21.0 & 6 & 160.0 & 110 & 3.90 & 2.875 & 17.02 & 0 & 1 & 4 & 4\\\\\n\tDatsun 710 & 22.8 & 4 & 108.0 &  93 & 3.85 & 2.320 & 18.61 & 1 & 1 & 4 & 1\\\\\n\tHornet 4 Drive & 21.4 & 6 & 258.0 & 110 & 3.08 & 3.215 & 19.44 & 1 & 0 & 3 & 1\\\\\n\tHornet Sportabout & 18.7 & 8 & 360.0 & 175 & 3.15 & 3.440 & 17.02 & 0 & 0 & 3 & 2\\\\\n\tValiant & 18.1 & 6 & 225.0 & 105 & 2.76 & 3.460 & 20.22 & 1 & 0 & 3 & 1\\\\\n\tDuster 360 & 14.3 & 8 & 360.0 & 245 & 3.21 & 3.570 & 15.84 & 0 & 0 & 3 & 4\\\\\n\tMerc 240D & 24.4 & 4 & 146.7 &  62 & 3.69 & 3.190 & 20.00 & 1 & 0 & 4 & 2\\\\\n\tMerc 230 & 22.8 & 4 & 140.8 &  95 & 3.92 & 3.150 & 22.90 & 1 & 0 & 4 & 2\\\\\n\tMerc 280 & 19.2 & 6 & 167.6 & 123 & 3.92 & 3.440 & 18.30 & 1 & 0 & 4 & 4\\\\\n\tMerc 280C & 17.8 & 6 & 167.6 & 123 & 3.92 & 3.440 & 18.90 & 1 & 0 & 4 & 4\\\\\n\tMerc 450SE & 16.4 & 8 & 275.8 & 180 & 3.07 & 4.070 & 17.40 & 0 & 0 & 3 & 3\\\\\n\tMerc 450SL & 17.3 & 8 & 275.8 & 180 & 3.07 & 3.730 & 17.60 & 0 & 0 & 3 & 3\\\\\n\tMerc 450SLC & 15.2 & 8 & 275.8 & 180 & 3.07 & 3.780 & 18.00 & 0 & 0 & 3 & 3\\\\\n\tCadillac Fleetwood & 10.4 & 8 & 472.0 & 205 & 2.93 & 5.250 & 17.98 & 0 & 0 & 3 & 4\\\\\n\tLincoln Continental & 10.4 & 8 & 460.0 & 215 & 3.00 & 5.424 & 17.82 & 0 & 0 & 3 & 4\\\\\n\tChrysler Imperial & 14.7 & 8 & 440.0 & 230 & 3.23 & 5.345 & 17.42 & 0 & 0 & 3 & 4\\\\\n\tFiat 128 & 32.4 & 4 &  78.7 &  66 & 4.08 & 2.200 & 19.47 & 1 & 1 & 4 & 1\\\\\n\tHonda Civic & 30.4 & 4 &  75.7 &  52 & 4.93 & 1.615 & 18.52 & 1 & 1 & 4 & 2\\\\\n\tToyota Corolla & 33.9 & 4 &  71.1 &  65 & 4.22 & 1.835 & 19.90 & 1 & 1 & 4 & 1\\\\\n\tToyota Corona & 21.5 & 4 & 120.1 &  97 & 3.70 & 2.465 & 20.01 & 1 & 0 & 3 & 1\\\\\n\tDodge Challenger & 15.5 & 8 & 318.0 & 150 & 2.76 & 3.520 & 16.87 & 0 & 0 & 3 & 2\\\\\n\tAMC Javelin & 15.2 & 8 & 304.0 & 150 & 3.15 & 3.435 & 17.30 & 0 & 0 & 3 & 2\\\\\n\tCamaro Z28 & 13.3 & 8 & 350.0 & 245 & 3.73 & 3.840 & 15.41 & 0 & 0 & 3 & 4\\\\\n\tPontiac Firebird & 19.2 & 8 & 400.0 & 175 & 3.08 & 3.845 & 17.05 & 0 & 0 & 3 & 2\\\\\n\tFiat X1-9 & 27.3 & 4 &  79.0 &  66 & 4.08 & 1.935 & 18.90 & 1 & 1 & 4 & 1\\\\\n\tPorsche 914-2 & 26.0 & 4 & 120.3 &  91 & 4.43 & 2.140 & 16.70 & 0 & 1 & 5 & 2\\\\\n\tLotus Europa & 30.4 & 4 &  95.1 & 113 & 3.77 & 1.513 & 16.90 & 1 & 1 & 5 & 2\\\\\n\tFord Pantera L & 15.8 & 8 & 351.0 & 264 & 4.22 & 3.170 & 14.50 & 0 & 1 & 5 & 4\\\\\n\tFerrari Dino & 19.7 & 6 & 145.0 & 175 & 3.62 & 2.770 & 15.50 & 0 & 1 & 5 & 6\\\\\n\tMaserati Bora & 15.0 & 8 & 301.0 & 335 & 3.54 & 3.570 & 14.60 & 0 & 1 & 5 & 8\\\\\n\tVolvo 142E & 21.4 & 4 & 121.0 & 109 & 4.11 & 2.780 & 18.60 & 1 & 1 & 4 & 2\\\\\n\\end{tabular}\n",
            "text/markdown": "\nA data.frame: 32 × 11\n\n| <!--/--> | mpg &lt;dbl&gt; | cyl &lt;dbl&gt; | disp &lt;dbl&gt; | hp &lt;dbl&gt; | drat &lt;dbl&gt; | wt &lt;dbl&gt; | qsec &lt;dbl&gt; | vs &lt;dbl&gt; | am &lt;dbl&gt; | gear &lt;dbl&gt; | carb &lt;dbl&gt; |\n|---|---|---|---|---|---|---|---|---|---|---|---|\n| Mazda RX4 | 21.0 | 6 | 160.0 | 110 | 3.90 | 2.620 | 16.46 | 0 | 1 | 4 | 4 |\n| Mazda RX4 Wag | 21.0 | 6 | 160.0 | 110 | 3.90 | 2.875 | 17.02 | 0 | 1 | 4 | 4 |\n| Datsun 710 | 22.8 | 4 | 108.0 |  93 | 3.85 | 2.320 | 18.61 | 1 | 1 | 4 | 1 |\n| Hornet 4 Drive | 21.4 | 6 | 258.0 | 110 | 3.08 | 3.215 | 19.44 | 1 | 0 | 3 | 1 |\n| Hornet Sportabout | 18.7 | 8 | 360.0 | 175 | 3.15 | 3.440 | 17.02 | 0 | 0 | 3 | 2 |\n| Valiant | 18.1 | 6 | 225.0 | 105 | 2.76 | 3.460 | 20.22 | 1 | 0 | 3 | 1 |\n| Duster 360 | 14.3 | 8 | 360.0 | 245 | 3.21 | 3.570 | 15.84 | 0 | 0 | 3 | 4 |\n| Merc 240D | 24.4 | 4 | 146.7 |  62 | 3.69 | 3.190 | 20.00 | 1 | 0 | 4 | 2 |\n| Merc 230 | 22.8 | 4 | 140.8 |  95 | 3.92 | 3.150 | 22.90 | 1 | 0 | 4 | 2 |\n| Merc 280 | 19.2 | 6 | 167.6 | 123 | 3.92 | 3.440 | 18.30 | 1 | 0 | 4 | 4 |\n| Merc 280C | 17.8 | 6 | 167.6 | 123 | 3.92 | 3.440 | 18.90 | 1 | 0 | 4 | 4 |\n| Merc 450SE | 16.4 | 8 | 275.8 | 180 | 3.07 | 4.070 | 17.40 | 0 | 0 | 3 | 3 |\n| Merc 450SL | 17.3 | 8 | 275.8 | 180 | 3.07 | 3.730 | 17.60 | 0 | 0 | 3 | 3 |\n| Merc 450SLC | 15.2 | 8 | 275.8 | 180 | 3.07 | 3.780 | 18.00 | 0 | 0 | 3 | 3 |\n| Cadillac Fleetwood | 10.4 | 8 | 472.0 | 205 | 2.93 | 5.250 | 17.98 | 0 | 0 | 3 | 4 |\n| Lincoln Continental | 10.4 | 8 | 460.0 | 215 | 3.00 | 5.424 | 17.82 | 0 | 0 | 3 | 4 |\n| Chrysler Imperial | 14.7 | 8 | 440.0 | 230 | 3.23 | 5.345 | 17.42 | 0 | 0 | 3 | 4 |\n| Fiat 128 | 32.4 | 4 |  78.7 |  66 | 4.08 | 2.200 | 19.47 | 1 | 1 | 4 | 1 |\n| Honda Civic | 30.4 | 4 |  75.7 |  52 | 4.93 | 1.615 | 18.52 | 1 | 1 | 4 | 2 |\n| Toyota Corolla | 33.9 | 4 |  71.1 |  65 | 4.22 | 1.835 | 19.90 | 1 | 1 | 4 | 1 |\n| Toyota Corona | 21.5 | 4 | 120.1 |  97 | 3.70 | 2.465 | 20.01 | 1 | 0 | 3 | 1 |\n| Dodge Challenger | 15.5 | 8 | 318.0 | 150 | 2.76 | 3.520 | 16.87 | 0 | 0 | 3 | 2 |\n| AMC Javelin | 15.2 | 8 | 304.0 | 150 | 3.15 | 3.435 | 17.30 | 0 | 0 | 3 | 2 |\n| Camaro Z28 | 13.3 | 8 | 350.0 | 245 | 3.73 | 3.840 | 15.41 | 0 | 0 | 3 | 4 |\n| Pontiac Firebird | 19.2 | 8 | 400.0 | 175 | 3.08 | 3.845 | 17.05 | 0 | 0 | 3 | 2 |\n| Fiat X1-9 | 27.3 | 4 |  79.0 |  66 | 4.08 | 1.935 | 18.90 | 1 | 1 | 4 | 1 |\n| Porsche 914-2 | 26.0 | 4 | 120.3 |  91 | 4.43 | 2.140 | 16.70 | 0 | 1 | 5 | 2 |\n| Lotus Europa | 30.4 | 4 |  95.1 | 113 | 3.77 | 1.513 | 16.90 | 1 | 1 | 5 | 2 |\n| Ford Pantera L | 15.8 | 8 | 351.0 | 264 | 4.22 | 3.170 | 14.50 | 0 | 1 | 5 | 4 |\n| Ferrari Dino | 19.7 | 6 | 145.0 | 175 | 3.62 | 2.770 | 15.50 | 0 | 1 | 5 | 6 |\n| Maserati Bora | 15.0 | 8 | 301.0 | 335 | 3.54 | 3.570 | 14.60 | 0 | 1 | 5 | 8 |\n| Volvo 142E | 21.4 | 4 | 121.0 | 109 | 4.11 | 2.780 | 18.60 | 1 | 1 | 4 | 2 |\n\n",
            "text/html": [
              "<table>\n",
              "<caption>A data.frame: 32 × 11</caption>\n",
              "<thead>\n",
              "\t<tr><th></th><th scope=col>mpg</th><th scope=col>cyl</th><th scope=col>disp</th><th scope=col>hp</th><th scope=col>drat</th><th scope=col>wt</th><th scope=col>qsec</th><th scope=col>vs</th><th scope=col>am</th><th scope=col>gear</th><th scope=col>carb</th></tr>\n",
              "\t<tr><th></th><th scope=col>&lt;dbl&gt;</th><th scope=col>&lt;dbl&gt;</th><th scope=col>&lt;dbl&gt;</th><th scope=col>&lt;dbl&gt;</th><th scope=col>&lt;dbl&gt;</th><th scope=col>&lt;dbl&gt;</th><th scope=col>&lt;dbl&gt;</th><th scope=col>&lt;dbl&gt;</th><th scope=col>&lt;dbl&gt;</th><th scope=col>&lt;dbl&gt;</th><th scope=col>&lt;dbl&gt;</th></tr>\n",
              "</thead>\n",
              "<tbody>\n",
              "\t<tr><th scope=row>Mazda RX4</th><td>21.0</td><td>6</td><td>160.0</td><td>110</td><td>3.90</td><td>2.620</td><td>16.46</td><td>0</td><td>1</td><td>4</td><td>4</td></tr>\n",
              "\t<tr><th scope=row>Mazda RX4 Wag</th><td>21.0</td><td>6</td><td>160.0</td><td>110</td><td>3.90</td><td>2.875</td><td>17.02</td><td>0</td><td>1</td><td>4</td><td>4</td></tr>\n",
              "\t<tr><th scope=row>Datsun 710</th><td>22.8</td><td>4</td><td>108.0</td><td> 93</td><td>3.85</td><td>2.320</td><td>18.61</td><td>1</td><td>1</td><td>4</td><td>1</td></tr>\n",
              "\t<tr><th scope=row>Hornet 4 Drive</th><td>21.4</td><td>6</td><td>258.0</td><td>110</td><td>3.08</td><td>3.215</td><td>19.44</td><td>1</td><td>0</td><td>3</td><td>1</td></tr>\n",
              "\t<tr><th scope=row>Hornet Sportabout</th><td>18.7</td><td>8</td><td>360.0</td><td>175</td><td>3.15</td><td>3.440</td><td>17.02</td><td>0</td><td>0</td><td>3</td><td>2</td></tr>\n",
              "\t<tr><th scope=row>Valiant</th><td>18.1</td><td>6</td><td>225.0</td><td>105</td><td>2.76</td><td>3.460</td><td>20.22</td><td>1</td><td>0</td><td>3</td><td>1</td></tr>\n",
              "\t<tr><th scope=row>Duster 360</th><td>14.3</td><td>8</td><td>360.0</td><td>245</td><td>3.21</td><td>3.570</td><td>15.84</td><td>0</td><td>0</td><td>3</td><td>4</td></tr>\n",
              "\t<tr><th scope=row>Merc 240D</th><td>24.4</td><td>4</td><td>146.7</td><td> 62</td><td>3.69</td><td>3.190</td><td>20.00</td><td>1</td><td>0</td><td>4</td><td>2</td></tr>\n",
              "\t<tr><th scope=row>Merc 230</th><td>22.8</td><td>4</td><td>140.8</td><td> 95</td><td>3.92</td><td>3.150</td><td>22.90</td><td>1</td><td>0</td><td>4</td><td>2</td></tr>\n",
              "\t<tr><th scope=row>Merc 280</th><td>19.2</td><td>6</td><td>167.6</td><td>123</td><td>3.92</td><td>3.440</td><td>18.30</td><td>1</td><td>0</td><td>4</td><td>4</td></tr>\n",
              "\t<tr><th scope=row>Merc 280C</th><td>17.8</td><td>6</td><td>167.6</td><td>123</td><td>3.92</td><td>3.440</td><td>18.90</td><td>1</td><td>0</td><td>4</td><td>4</td></tr>\n",
              "\t<tr><th scope=row>Merc 450SE</th><td>16.4</td><td>8</td><td>275.8</td><td>180</td><td>3.07</td><td>4.070</td><td>17.40</td><td>0</td><td>0</td><td>3</td><td>3</td></tr>\n",
              "\t<tr><th scope=row>Merc 450SL</th><td>17.3</td><td>8</td><td>275.8</td><td>180</td><td>3.07</td><td>3.730</td><td>17.60</td><td>0</td><td>0</td><td>3</td><td>3</td></tr>\n",
              "\t<tr><th scope=row>Merc 450SLC</th><td>15.2</td><td>8</td><td>275.8</td><td>180</td><td>3.07</td><td>3.780</td><td>18.00</td><td>0</td><td>0</td><td>3</td><td>3</td></tr>\n",
              "\t<tr><th scope=row>Cadillac Fleetwood</th><td>10.4</td><td>8</td><td>472.0</td><td>205</td><td>2.93</td><td>5.250</td><td>17.98</td><td>0</td><td>0</td><td>3</td><td>4</td></tr>\n",
              "\t<tr><th scope=row>Lincoln Continental</th><td>10.4</td><td>8</td><td>460.0</td><td>215</td><td>3.00</td><td>5.424</td><td>17.82</td><td>0</td><td>0</td><td>3</td><td>4</td></tr>\n",
              "\t<tr><th scope=row>Chrysler Imperial</th><td>14.7</td><td>8</td><td>440.0</td><td>230</td><td>3.23</td><td>5.345</td><td>17.42</td><td>0</td><td>0</td><td>3</td><td>4</td></tr>\n",
              "\t<tr><th scope=row>Fiat 128</th><td>32.4</td><td>4</td><td> 78.7</td><td> 66</td><td>4.08</td><td>2.200</td><td>19.47</td><td>1</td><td>1</td><td>4</td><td>1</td></tr>\n",
              "\t<tr><th scope=row>Honda Civic</th><td>30.4</td><td>4</td><td> 75.7</td><td> 52</td><td>4.93</td><td>1.615</td><td>18.52</td><td>1</td><td>1</td><td>4</td><td>2</td></tr>\n",
              "\t<tr><th scope=row>Toyota Corolla</th><td>33.9</td><td>4</td><td> 71.1</td><td> 65</td><td>4.22</td><td>1.835</td><td>19.90</td><td>1</td><td>1</td><td>4</td><td>1</td></tr>\n",
              "\t<tr><th scope=row>Toyota Corona</th><td>21.5</td><td>4</td><td>120.1</td><td> 97</td><td>3.70</td><td>2.465</td><td>20.01</td><td>1</td><td>0</td><td>3</td><td>1</td></tr>\n",
              "\t<tr><th scope=row>Dodge Challenger</th><td>15.5</td><td>8</td><td>318.0</td><td>150</td><td>2.76</td><td>3.520</td><td>16.87</td><td>0</td><td>0</td><td>3</td><td>2</td></tr>\n",
              "\t<tr><th scope=row>AMC Javelin</th><td>15.2</td><td>8</td><td>304.0</td><td>150</td><td>3.15</td><td>3.435</td><td>17.30</td><td>0</td><td>0</td><td>3</td><td>2</td></tr>\n",
              "\t<tr><th scope=row>Camaro Z28</th><td>13.3</td><td>8</td><td>350.0</td><td>245</td><td>3.73</td><td>3.840</td><td>15.41</td><td>0</td><td>0</td><td>3</td><td>4</td></tr>\n",
              "\t<tr><th scope=row>Pontiac Firebird</th><td>19.2</td><td>8</td><td>400.0</td><td>175</td><td>3.08</td><td>3.845</td><td>17.05</td><td>0</td><td>0</td><td>3</td><td>2</td></tr>\n",
              "\t<tr><th scope=row>Fiat X1-9</th><td>27.3</td><td>4</td><td> 79.0</td><td> 66</td><td>4.08</td><td>1.935</td><td>18.90</td><td>1</td><td>1</td><td>4</td><td>1</td></tr>\n",
              "\t<tr><th scope=row>Porsche 914-2</th><td>26.0</td><td>4</td><td>120.3</td><td> 91</td><td>4.43</td><td>2.140</td><td>16.70</td><td>0</td><td>1</td><td>5</td><td>2</td></tr>\n",
              "\t<tr><th scope=row>Lotus Europa</th><td>30.4</td><td>4</td><td> 95.1</td><td>113</td><td>3.77</td><td>1.513</td><td>16.90</td><td>1</td><td>1</td><td>5</td><td>2</td></tr>\n",
              "\t<tr><th scope=row>Ford Pantera L</th><td>15.8</td><td>8</td><td>351.0</td><td>264</td><td>4.22</td><td>3.170</td><td>14.50</td><td>0</td><td>1</td><td>5</td><td>4</td></tr>\n",
              "\t<tr><th scope=row>Ferrari Dino</th><td>19.7</td><td>6</td><td>145.0</td><td>175</td><td>3.62</td><td>2.770</td><td>15.50</td><td>0</td><td>1</td><td>5</td><td>6</td></tr>\n",
              "\t<tr><th scope=row>Maserati Bora</th><td>15.0</td><td>8</td><td>301.0</td><td>335</td><td>3.54</td><td>3.570</td><td>14.60</td><td>0</td><td>1</td><td>5</td><td>8</td></tr>\n",
              "\t<tr><th scope=row>Volvo 142E</th><td>21.4</td><td>4</td><td>121.0</td><td>109</td><td>4.11</td><td>2.780</td><td>18.60</td><td>1</td><td>1</td><td>4</td><td>2</td></tr>\n",
              "</tbody>\n",
              "</table>\n"
            ]
          },
          "metadata": {
            "tags": []
          }
        }
      ]
    },
    {
      "cell_type": "code",
      "metadata": {
        "id": "-HnWb_geXvA9",
        "colab": {
          "base_uri": "https://localhost:8080/",
          "height": 437
        },
        "outputId": "15de092d-2cf8-4937-fcb6-ce4aa5fc5d93"
      },
      "source": [
        "#Visualizando os dados: há uma relação linear?\n",
        "plot(mtcars$hp, mtcars$mpg, pch = 17, col = 'blue', cex = 2)  "
      ],
      "execution_count": 57,
      "outputs": [
        {
          "output_type": "display_data",
          "data": {
            "image/png": "[encoded data removed]",
            "text/plain": [
              "plot without title"
            ]
          },
          "metadata": {
            "tags": [],
            "image/png": {
              "width": 420,
              "height": 420
            }
          }
        }
      ]
    },
    {
      "cell_type": "code",
      "metadata": {
        "id": "OJ90xE8RYMwM",
        "colab": {
          "base_uri": "https://localhost:8080/",
          "height": 146
        },
        "outputId": "e1b2f439-7bb5-48fa-a5d0-c09b4ef02ea0"
      },
      "source": [
        "# Regressão Linear\n",
        "modelo = lm(formula = mpg ~ hp, data = mtcars)\n",
        "modelo"
      ],
      "execution_count": 58,
      "outputs": [
        {
          "output_type": "display_data",
          "data": {
            "text/plain": [
              "\n",
              "Call:\n",
              "lm(formula = mpg ~ hp, data = mtcars)\n",
              "\n",
              "Coefficients:\n",
              "(Intercept)           hp  \n",
              "   30.09886     -0.06823  \n"
            ]
          },
          "metadata": {
            "tags": []
          }
        }
      ]
    },
    {
      "cell_type": "code",
      "metadata": {
        "id": "XqbZNo4ZZMzB",
        "colab": {
          "base_uri": "https://localhost:8080/",
          "height": 437
        },
        "outputId": "fcd9e59e-f21a-46ac-b3cd-4858ded8ac65"
      },
      "source": [
        "# Plotando a reta no gráfico\n",
        "grid = data.frame(hp = seq(0, 350, by = 0.01))   # grid de valores (simulando um dataset)\n",
        "preditos = predict(modelo, grid)\n",
        "plot(mtcars$hp, mtcars$mpg, pch = 17, col = 'gray', cex = 2)  \n",
        "lines(grid$hp, preditos, type = 'l', lwd = 3, col = 'dodgerblue')\n",
        "legend('topright', c('Regressão Linear'), col = c('dodgerblue'), lwd = 2)"
      ],
      "execution_count": 59,
      "outputs": [
        {
          "output_type": "display_data",
          "data": {
            "image/png": "[encoded data removed]",
            "text/plain": [
              "plot without title"
            ]
          },
          "metadata": {
            "tags": [],
            "image/png": {
              "width": 420,
              "height": 420
            }
          }
        }
      ]
    },
    {
      "cell_type": "code",
      "metadata": {
        "id": "zVrINd6yaKFu",
        "colab": {
          "base_uri": "https://localhost:8080/",
          "height": 104
        },
        "outputId": "60547643-f312-4271-bb97-b7dff2d18159"
      },
      "source": [
        "# Calculando o Erro Quadrático Médio\n",
        "predito0 = predict(modelo, mtcars['hp'])\n",
        "predito = as.numeric(predito0)\n",
        "predito"
      ],
      "execution_count": 60,
      "outputs": [
        {
          "output_type": "display_data",
          "data": {
            "text/plain": [
              " [1] 22.593750 22.593750 23.753631 22.593750 18.158912 22.934891 13.382932\n",
              " [8] 25.868707 23.617174 21.706782 21.706782 17.817770 17.817770 17.817770\n",
              "[15] 16.112064 15.429781 14.406357 25.595794 26.550990 25.664022 23.480718\n",
              "[22] 19.864619 19.864619 13.382932 18.158912 25.595794 23.890087 22.389065\n",
              "[29] 12.086595 18.158912  7.242387 22.661978"
            ],
            "text/latex": "\\begin{enumerate*}\n\\item 22.5937499517505\n\\item 22.5937499517505\n\\item 23.7536306789671\n\\item 22.5937499517505\n\\item 18.1589118770988\n\\item 22.9348913421083\n\\item 13.3829324120894\n\\item 25.8687072991855\n\\item 23.6171741228239\n\\item 21.7067823368202\n\\item 21.7067823368202\n\\item 17.817770486741\n\\item 17.817770486741\n\\item 17.817770486741\n\\item 16.1120635349519\n\\item 15.4297807542363\n\\item 14.4063565831628\n\\item 25.5957941868993\n\\item 26.5509900799012\n\\item 25.6640224649708\n\\item 23.4807175666808\n\\item 19.8646188288879\n\\item 19.8646188288879\n\\item 13.3829324120894\n\\item 18.1589118770988\n\\item 25.5957941868993\n\\item 23.8900872351102\n\\item 22.3890651175358\n\\item 12.0865951287297\n\\item 18.1589118770988\n\\item 7.24238738564866\n\\item 22.661978229822\n\\end{enumerate*}\n",
            "text/markdown": "1. 22.5937499517505\n2. 22.5937499517505\n3. 23.7536306789671\n4. 22.5937499517505\n5. 18.1589118770988\n6. 22.9348913421083\n7. 13.3829324120894\n8. 25.8687072991855\n9. 23.6171741228239\n10. 21.7067823368202\n11. 21.7067823368202\n12. 17.817770486741\n13. 17.817770486741\n14. 17.817770486741\n15. 16.1120635349519\n16. 15.4297807542363\n17. 14.4063565831628\n18. 25.5957941868993\n19. 26.5509900799012\n20. 25.6640224649708\n21. 23.4807175666808\n22. 19.8646188288879\n23. 19.8646188288879\n24. 13.3829324120894\n25. 18.1589118770988\n26. 25.5957941868993\n27. 23.8900872351102\n28. 22.3890651175358\n29. 12.0865951287297\n30. 18.1589118770988\n31. 7.24238738564866\n32. 22.661978229822\n\n\n",
            "text/html": [
              "<style>\n",
              ".list-inline {list-style: none; margin:0; padding: 0}\n",
              ".list-inline>li {display: inline-block}\n",
              ".list-inline>li:not(:last-child)::after {content: \"\\00b7\"; padding: 0 .5ex}\n",
              "</style>\n",
              "<ol class=list-inline><li>22.5937499517505</li><li>22.5937499517505</li><li>23.7536306789671</li><li>22.5937499517505</li><li>18.1589118770988</li><li>22.9348913421083</li><li>13.3829324120894</li><li>25.8687072991855</li><li>23.6171741228239</li><li>21.7067823368202</li><li>21.7067823368202</li><li>17.817770486741</li><li>17.817770486741</li><li>17.817770486741</li><li>16.1120635349519</li><li>15.4297807542363</li><li>14.4063565831628</li><li>25.5957941868993</li><li>26.5509900799012</li><li>25.6640224649708</li><li>23.4807175666808</li><li>19.8646188288879</li><li>19.8646188288879</li><li>13.3829324120894</li><li>18.1589118770988</li><li>25.5957941868993</li><li>23.8900872351102</li><li>22.3890651175358</li><li>12.0865951287297</li><li>18.1589118770988</li><li>7.24238738564866</li><li>22.661978229822</li></ol>\n"
            ]
          },
          "metadata": {
            "tags": []
          }
        }
      ]
    },
    {
      "cell_type": "code",
      "metadata": {
        "id": "jWLOH07cay6p",
        "colab": {
          "base_uri": "https://localhost:8080/",
          "height": 52
        },
        "outputId": "1c929d14-a623-45ac-fd28-8d61fffcde0b"
      },
      "source": [
        "real = mtcars[['mpg']]\n",
        "real"
      ],
      "execution_count": 61,
      "outputs": [
        {
          "output_type": "display_data",
          "data": {
            "text/plain": [
              " [1] 21.0 21.0 22.8 21.4 18.7 18.1 14.3 24.4 22.8 19.2 17.8 16.4 17.3 15.2 10.4\n",
              "[16] 10.4 14.7 32.4 30.4 33.9 21.5 15.5 15.2 13.3 19.2 27.3 26.0 30.4 15.8 19.7\n",
              "[31] 15.0 21.4"
            ],
            "text/latex": "\\begin{enumerate*}\n\\item 21\n\\item 21\n\\item 22.8\n\\item 21.4\n\\item 18.7\n\\item 18.1\n\\item 14.3\n\\item 24.4\n\\item 22.8\n\\item 19.2\n\\item 17.8\n\\item 16.4\n\\item 17.3\n\\item 15.2\n\\item 10.4\n\\item 10.4\n\\item 14.7\n\\item 32.4\n\\item 30.4\n\\item 33.9\n\\item 21.5\n\\item 15.5\n\\item 15.2\n\\item 13.3\n\\item 19.2\n\\item 27.3\n\\item 26\n\\item 30.4\n\\item 15.8\n\\item 19.7\n\\item 15\n\\item 21.4\n\\end{enumerate*}\n",
            "text/markdown": "1. 21\n2. 21\n3. 22.8\n4. 21.4\n5. 18.7\n6. 18.1\n7. 14.3\n8. 24.4\n9. 22.8\n10. 19.2\n11. 17.8\n12. 16.4\n13. 17.3\n14. 15.2\n15. 10.4\n16. 10.4\n17. 14.7\n18. 32.4\n19. 30.4\n20. 33.9\n21. 21.5\n22. 15.5\n23. 15.2\n24. 13.3\n25. 19.2\n26. 27.3\n27. 26\n28. 30.4\n29. 15.8\n30. 19.7\n31. 15\n32. 21.4\n\n\n",
            "text/html": [
              "<style>\n",
              ".list-inline {list-style: none; margin:0; padding: 0}\n",
              ".list-inline>li {display: inline-block}\n",
              ".list-inline>li:not(:last-child)::after {content: \"\\00b7\"; padding: 0 .5ex}\n",
              "</style>\n",
              "<ol class=list-inline><li>21</li><li>21</li><li>22.8</li><li>21.4</li><li>18.7</li><li>18.1</li><li>14.3</li><li>24.4</li><li>22.8</li><li>19.2</li><li>17.8</li><li>16.4</li><li>17.3</li><li>15.2</li><li>10.4</li><li>10.4</li><li>14.7</li><li>32.4</li><li>30.4</li><li>33.9</li><li>21.5</li><li>15.5</li><li>15.2</li><li>13.3</li><li>19.2</li><li>27.3</li><li>26</li><li>30.4</li><li>15.8</li><li>19.7</li><li>15</li><li>21.4</li></ol>\n"
            ]
          },
          "metadata": {
            "tags": []
          }
        }
      ]
    },
    {
      "cell_type": "code",
      "metadata": {
        "id": "zbHEy9Sra4pv",
        "colab": {
          "base_uri": "https://localhost:8080/",
          "height": 34
        },
        "outputId": "2b7b652a-d38d-468d-d590-2ffb6d1a1d36"
      },
      "source": [
        "eqm = mean((predito - real)^2)\n",
        "eqm"
      ],
      "execution_count": 62,
      "outputs": [
        {
          "output_type": "display_data",
          "data": {
            "text/plain": [
              "[1] 13.98982"
            ],
            "text/latex": "13.9898222982688",
            "text/markdown": "13.9898222982688",
            "text/html": [
              "13.9898222982688"
            ]
          },
          "metadata": {
            "tags": []
          }
        }
      ]
    },
    {
      "cell_type": "code",
      "metadata": {
        "id": "0Fx6BRUGbbko",
        "colab": {
          "base_uri": "https://localhost:8080/",
          "height": 34
        },
        "outputId": "ccc18cb8-a7b3-4bcc-d2e7-4b2cac5c4d76"
      },
      "source": [
        "# Dividindo em teste e treinamento\n",
        "\n",
        "proporcao = 0.75\n",
        "n = dim(mtcars)[1]\n",
        "ntreino = n*proporcao\n",
        "ntreino"
      ],
      "execution_count": 63,
      "outputs": [
        {
          "output_type": "display_data",
          "data": {
            "text/plain": [
              "[1] 24"
            ],
            "text/latex": "24",
            "text/markdown": "24",
            "text/html": [
              "24"
            ]
          },
          "metadata": {
            "tags": []
          }
        }
      ]
    },
    {
      "cell_type": "code",
      "metadata": {
        "id": "J3yKPqtEb9y_"
      },
      "source": [
        "ind = sample(n)\n",
        "emb = mtcars[ind, ]\n",
        "treino = emb[  1:ntreino , ] \n",
        "teste  = emb[-(1:ntreino), ]"
      ],
      "execution_count": 64,
      "outputs": []
    },
    {
      "cell_type": "code",
      "metadata": {
        "id": "F3Pdr-nhcRY5",
        "colab": {
          "base_uri": "https://localhost:8080/",
          "height": 250
        },
        "outputId": "b83902eb-8fc6-4022-a571-ef9afc10c4b9"
      },
      "source": [
        "teste"
      ],
      "execution_count": 65,
      "outputs": [
        {
          "output_type": "display_data",
          "data": {
            "text/plain": [
              "                   mpg  cyl disp  hp  drat wt    qsec  vs am gear carb\n",
              "Fiat 128           32.4 4    78.7  66 4.08 2.200 19.47 1  1  4    1   \n",
              "Cadillac Fleetwood 10.4 8   472.0 205 2.93 5.250 17.98 0  0  3    4   \n",
              "Chrysler Imperial  14.7 8   440.0 230 3.23 5.345 17.42 0  0  3    4   \n",
              "Honda Civic        30.4 4    75.7  52 4.93 1.615 18.52 1  1  4    2   \n",
              "Ford Pantera L     15.8 8   351.0 264 4.22 3.170 14.50 0  1  5    4   \n",
              "Toyota Corona      21.5 4   120.1  97 3.70 2.465 20.01 1  0  3    1   \n",
              "Merc 280C          17.8 6   167.6 123 3.92 3.440 18.90 1  0  4    4   \n",
              "Duster 360         14.3 8   360.0 245 3.21 3.570 15.84 0  0  3    4   "
            ],
            "text/latex": "A data.frame: 8 × 11\n\\begin{tabular}{r|lllllllllll}\n  & mpg & cyl & disp & hp & drat & wt & qsec & vs & am & gear & carb\\\\\n  & <dbl> & <dbl> & <dbl> & <dbl> & <dbl> & <dbl> & <dbl> & <dbl> & <dbl> & <dbl> & <dbl>\\\\\n\\hline\n\tFiat 128 & 32.4 & 4 &  78.7 &  66 & 4.08 & 2.200 & 19.47 & 1 & 1 & 4 & 1\\\\\n\tCadillac Fleetwood & 10.4 & 8 & 472.0 & 205 & 2.93 & 5.250 & 17.98 & 0 & 0 & 3 & 4\\\\\n\tChrysler Imperial & 14.7 & 8 & 440.0 & 230 & 3.23 & 5.345 & 17.42 & 0 & 0 & 3 & 4\\\\\n\tHonda Civic & 30.4 & 4 &  75.7 &  52 & 4.93 & 1.615 & 18.52 & 1 & 1 & 4 & 2\\\\\n\tFord Pantera L & 15.8 & 8 & 351.0 & 264 & 4.22 & 3.170 & 14.50 & 0 & 1 & 5 & 4\\\\\n\tToyota Corona & 21.5 & 4 & 120.1 &  97 & 3.70 & 2.465 & 20.01 & 1 & 0 & 3 & 1\\\\\n\tMerc 280C & 17.8 & 6 & 167.6 & 123 & 3.92 & 3.440 & 18.90 & 1 & 0 & 4 & 4\\\\\n\tDuster 360 & 14.3 & 8 & 360.0 & 245 & 3.21 & 3.570 & 15.84 & 0 & 0 & 3 & 4\\\\\n\\end{tabular}\n",
            "text/markdown": "\nA data.frame: 8 × 11\n\n| <!--/--> | mpg &lt;dbl&gt; | cyl &lt;dbl&gt; | disp &lt;dbl&gt; | hp &lt;dbl&gt; | drat &lt;dbl&gt; | wt &lt;dbl&gt; | qsec &lt;dbl&gt; | vs &lt;dbl&gt; | am &lt;dbl&gt; | gear &lt;dbl&gt; | carb &lt;dbl&gt; |\n|---|---|---|---|---|---|---|---|---|---|---|---|\n| Fiat 128 | 32.4 | 4 |  78.7 |  66 | 4.08 | 2.200 | 19.47 | 1 | 1 | 4 | 1 |\n| Cadillac Fleetwood | 10.4 | 8 | 472.0 | 205 | 2.93 | 5.250 | 17.98 | 0 | 0 | 3 | 4 |\n| Chrysler Imperial | 14.7 | 8 | 440.0 | 230 | 3.23 | 5.345 | 17.42 | 0 | 0 | 3 | 4 |\n| Honda Civic | 30.4 | 4 |  75.7 |  52 | 4.93 | 1.615 | 18.52 | 1 | 1 | 4 | 2 |\n| Ford Pantera L | 15.8 | 8 | 351.0 | 264 | 4.22 | 3.170 | 14.50 | 0 | 1 | 5 | 4 |\n| Toyota Corona | 21.5 | 4 | 120.1 |  97 | 3.70 | 2.465 | 20.01 | 1 | 0 | 3 | 1 |\n| Merc 280C | 17.8 | 6 | 167.6 | 123 | 3.92 | 3.440 | 18.90 | 1 | 0 | 4 | 4 |\n| Duster 360 | 14.3 | 8 | 360.0 | 245 | 3.21 | 3.570 | 15.84 | 0 | 0 | 3 | 4 |\n\n",
            "text/html": [
              "<table>\n",
              "<caption>A data.frame: 8 × 11</caption>\n",
              "<thead>\n",
              "\t<tr><th></th><th scope=col>mpg</th><th scope=col>cyl</th><th scope=col>disp</th><th scope=col>hp</th><th scope=col>drat</th><th scope=col>wt</th><th scope=col>qsec</th><th scope=col>vs</th><th scope=col>am</th><th scope=col>gear</th><th scope=col>carb</th></tr>\n",
              "\t<tr><th></th><th scope=col>&lt;dbl&gt;</th><th scope=col>&lt;dbl&gt;</th><th scope=col>&lt;dbl&gt;</th><th scope=col>&lt;dbl&gt;</th><th scope=col>&lt;dbl&gt;</th><th scope=col>&lt;dbl&gt;</th><th scope=col>&lt;dbl&gt;</th><th scope=col>&lt;dbl&gt;</th><th scope=col>&lt;dbl&gt;</th><th scope=col>&lt;dbl&gt;</th><th scope=col>&lt;dbl&gt;</th></tr>\n",
              "</thead>\n",
              "<tbody>\n",
              "\t<tr><th scope=row>Fiat 128</th><td>32.4</td><td>4</td><td> 78.7</td><td> 66</td><td>4.08</td><td>2.200</td><td>19.47</td><td>1</td><td>1</td><td>4</td><td>1</td></tr>\n",
              "\t<tr><th scope=row>Cadillac Fleetwood</th><td>10.4</td><td>8</td><td>472.0</td><td>205</td><td>2.93</td><td>5.250</td><td>17.98</td><td>0</td><td>0</td><td>3</td><td>4</td></tr>\n",
              "\t<tr><th scope=row>Chrysler Imperial</th><td>14.7</td><td>8</td><td>440.0</td><td>230</td><td>3.23</td><td>5.345</td><td>17.42</td><td>0</td><td>0</td><td>3</td><td>4</td></tr>\n",
              "\t<tr><th scope=row>Honda Civic</th><td>30.4</td><td>4</td><td> 75.7</td><td> 52</td><td>4.93</td><td>1.615</td><td>18.52</td><td>1</td><td>1</td><td>4</td><td>2</td></tr>\n",
              "\t<tr><th scope=row>Ford Pantera L</th><td>15.8</td><td>8</td><td>351.0</td><td>264</td><td>4.22</td><td>3.170</td><td>14.50</td><td>0</td><td>1</td><td>5</td><td>4</td></tr>\n",
              "\t<tr><th scope=row>Toyota Corona</th><td>21.5</td><td>4</td><td>120.1</td><td> 97</td><td>3.70</td><td>2.465</td><td>20.01</td><td>1</td><td>0</td><td>3</td><td>1</td></tr>\n",
              "\t<tr><th scope=row>Merc 280C</th><td>17.8</td><td>6</td><td>167.6</td><td>123</td><td>3.92</td><td>3.440</td><td>18.90</td><td>1</td><td>0</td><td>4</td><td>4</td></tr>\n",
              "\t<tr><th scope=row>Duster 360</th><td>14.3</td><td>8</td><td>360.0</td><td>245</td><td>3.21</td><td>3.570</td><td>15.84</td><td>0</td><td>0</td><td>3</td><td>4</td></tr>\n",
              "</tbody>\n",
              "</table>\n"
            ]
          },
          "metadata": {
            "tags": []
          }
        }
      ]
    },
    {
      "cell_type": "code",
      "metadata": {
        "id": "I9bRIdducQsY",
        "colab": {
          "base_uri": "https://localhost:8080/",
          "height": 146
        },
        "outputId": "560300d5-387a-4546-e82a-2a34e61812f5"
      },
      "source": [
        "# Fazendo o Modelo de regressao utilizando os dados de teste\n",
        "modelo = lm(formula = mpg ~ hp, data = treino)\n",
        "modelo"
      ],
      "execution_count": 66,
      "outputs": [
        {
          "output_type": "display_data",
          "data": {
            "text/plain": [
              "\n",
              "Call:\n",
              "lm(formula = mpg ~ hp, data = treino)\n",
              "\n",
              "Coefficients:\n",
              "(Intercept)           hp  \n",
              "   29.18780     -0.06299  \n"
            ]
          },
          "metadata": {
            "tags": []
          }
        }
      ]
    },
    {
      "cell_type": "code",
      "metadata": {
        "id": "FlrrmGc9cZg6",
        "colab": {
          "base_uri": "https://localhost:8080/",
          "height": 52
        },
        "outputId": "15005a56-fc38-491d-d94c-641f943cfd43"
      },
      "source": [
        "# Aplicando o modelo na amostra teste\n",
        "preditos0 = predict(modelo, teste)  \n",
        "preditos = as.numeric(preditos0)\n",
        "preditos"
      ],
      "execution_count": 67,
      "outputs": [
        {
          "output_type": "display_data",
          "data": {
            "text/plain": [
              "[1] 25.03074 16.27573 14.70109 25.91254 12.55958 23.07819 21.44056 13.75631"
            ],
            "text/latex": "\\begin{enumerate*}\n\\item 25.0307430688028\n\\item 16.2757327419286\n\\item 14.7010905968073\n\\item 25.9125426700707\n\\item 12.5595772794424\n\\item 23.0781868088524\n\\item 21.4405589779263\n\\item 13.7563053097345\n\\end{enumerate*}\n",
            "text/markdown": "1. 25.0307430688028\n2. 16.2757327419286\n3. 14.7010905968073\n4. 25.9125426700707\n5. 12.5595772794424\n6. 23.0781868088524\n7. 21.4405589779263\n8. 13.7563053097345\n\n\n",
            "text/html": [
              "<style>\n",
              ".list-inline {list-style: none; margin:0; padding: 0}\n",
              ".list-inline>li {display: inline-block}\n",
              ".list-inline>li:not(:last-child)::after {content: \"\\00b7\"; padding: 0 .5ex}\n",
              "</style>\n",
              "<ol class=list-inline><li>25.0307430688028</li><li>16.2757327419286</li><li>14.7010905968073</li><li>25.9125426700707</li><li>12.5595772794424</li><li>23.0781868088524</li><li>21.4405589779263</li><li>13.7563053097345</li></ol>\n"
            ]
          },
          "metadata": {
            "tags": []
          }
        }
      ]
    },
    {
      "cell_type": "code",
      "metadata": {
        "id": "ZyL2AKaLcsEa",
        "colab": {
          "base_uri": "https://localhost:8080/",
          "height": 34
        },
        "outputId": "216a60bb-b741-465e-f107-6dc78b9565e2"
      },
      "source": [
        "# EQM na amostra teste\n",
        "real = teste[['mpg']]\n",
        "eqm = mean((preditos - real)^2)\n",
        "eqm\n"
      ],
      "execution_count": 68,
      "outputs": [
        {
          "output_type": "display_data",
          "data": {
            "text/plain": [
              "[1] 16.93847"
            ],
            "text/latex": "16.9384680061789",
            "text/markdown": "16.9384680061789",
            "text/html": [
              "16.9384680061789"
            ]
          },
          "metadata": {
            "tags": []
          }
        }
      ]
    },
    {
      "cell_type": "code",
      "metadata": {
        "id": "OvOPXRWCc0LU",
        "colab": {
          "base_uri": "https://localhost:8080/",
          "height": 34
        },
        "outputId": "a58b99c3-184c-4157-94d2-50a75d570a63"
      },
      "source": [
        "# fazendo o HOLDOUT repetido\n",
        "\n",
        "resultados = NULL\n",
        "H = 1000\n",
        "\n",
        "for(i in 1:H){\n",
        "  proporcao = 0.75\n",
        "  n = dim(mtcars)[1]\n",
        "  ntreino = n*proporcao\n",
        "  ind = sample(n)\n",
        "  emb = mtcars[ind, ]\n",
        "  treino = emb[  1:ntreino , ] \n",
        "  teste  = emb[-(1:ntreino), ]\n",
        "  modelo = lm(formula = mpg ~ hp, data = treino)\n",
        "  preditos0 = predict(modelo, teste)  \n",
        "  preditos = as.numeric(preditos0)\n",
        "  real = teste[['mpg']]\n",
        "  eqm = mean((preditos - real)^2)\n",
        "  \n",
        "  resultados[i] = eqm\n",
        "} \n",
        "\n",
        "mean(resultados)\n"
      ],
      "execution_count": 69,
      "outputs": [
        {
          "output_type": "display_data",
          "data": {
            "text/plain": [
              "[1] 17.28026"
            ],
            "text/latex": "17.2802564724825",
            "text/markdown": "17.2802564724825",
            "text/html": [
              "17.2802564724825"
            ]
          },
          "metadata": {
            "tags": []
          }
        }
      ]
    },
    {
      "cell_type": "code",
      "metadata": {
        "id": "JgBOhS4ReGFf",
        "colab": {
          "base_uri": "https://localhost:8080/",
          "height": 34
        },
        "outputId": "09723378-6bcb-41c8-e10a-c464d3dbb308"
      },
      "source": [
        "mean(resultados)\n"
      ],
      "execution_count": 70,
      "outputs": [
        {
          "output_type": "display_data",
          "data": {
            "text/plain": [
              "[1] 17.28026"
            ],
            "text/latex": "17.2802564724825",
            "text/markdown": "17.2802564724825",
            "text/html": [
              "17.2802564724825"
            ]
          },
          "metadata": {
            "tags": []
          }
        }
      ]
    },
    {
      "cell_type": "markdown",
      "metadata": {
        "id": "kH7_WTt9eG3Y"
      },
      "source": [
        "## **Exercício 1**\n",
        "\n",
        "Repita o procedimento ajustando os codigos para utilizar o erro médio absoluto ao invés do erro médio quadrático. Verifique como ficam os resultados com essa nova métrica. "
      ]
    },
    {
      "cell_type": "markdown",
      "metadata": {
        "id": "po4U6xLbuLE_"
      },
      "source": [
        "---"
      ]
    },
    {
      "cell_type": "markdown",
      "metadata": {
        "id": "ND7S60XpBJgO"
      },
      "source": [
        "## **AULA 2: Nosso segundo modelo de Machine Learning. Qual será que é o melhor?** "
      ]
    },
    {
      "cell_type": "code",
      "metadata": {
        "id": "YNbr0NC9BxVV",
        "colab": {
          "base_uri": "https://localhost:8080/"
        },
        "outputId": "3297eb67-5945-4594-d135-7596ce3e4ecb"
      },
      "source": [
        "# Modelo KNN\n",
        "install.packages('kknn')"
      ],
      "execution_count": 71,
      "outputs": [
        {
          "output_type": "stream",
          "text": [
            "Installing package into ‘/usr/local/lib/R/site-library’\n",
            "(as ‘lib’ is unspecified)\n",
            "\n"
          ],
          "name": "stderr"
        }
      ]
    },
    {
      "cell_type": "code",
      "metadata": {
        "id": "7X9D6WZTB-Lg"
      },
      "source": [
        "library(kknn)"
      ],
      "execution_count": null,
      "outputs": []
    },
    {
      "cell_type": "code",
      "metadata": {
        "id": "bzz-NEIRB7UC"
      },
      "source": [
        "# Holdout simples\n",
        "knn = kknn(mpg ~ hp, train = treino, test = teste, k = 5)\n",
        "knn"
      ],
      "execution_count": null,
      "outputs": []
    },
    {
      "cell_type": "code",
      "metadata": {
        "id": "9y495DO4Czey"
      },
      "source": [
        "# Desempenho\n",
        "preditos = knn$fitted.values \n",
        "preditos"
      ],
      "execution_count": null,
      "outputs": []
    },
    {
      "cell_type": "code",
      "metadata": {
        "id": "1VACCIZ-bNM6"
      },
      "source": [
        "eqm = mean((preditos - teste$mpg)^2)\n",
        "eqm"
      ],
      "execution_count": null,
      "outputs": []
    },
    {
      "cell_type": "code",
      "metadata": {
        "id": "Qcw6wYmuDAHS"
      },
      "source": [
        "# Holdout repetido\n",
        "R = 1000\n",
        "eqms = NULL\n",
        "\n",
        "for(i in 1:R){\n",
        "  ind = sample(n)\n",
        "  dados = mtcars[ ind,  ]\n",
        "  treino = dados[(1:ntreino) , ]\n",
        "  teste = dados[-(1:ntreino) , ] \n",
        "  knn = kknn(mpg ~ hp, train = treino, test = teste, k = 5)\n",
        "  preditos = knn$fitted.values \n",
        "  eqm = mean((preditos - teste$mpg)^2)\n",
        "  eqms[i] = eqm\n",
        "} \n",
        "\n",
        "range(eqms)\n",
        "eqm_knn = mean(eqms)\n",
        "eqm_knn"
      ],
      "execution_count": null,
      "outputs": []
    },
    {
      "cell_type": "code",
      "metadata": {
        "id": "XewqJOaoDPmf"
      },
      "source": [
        "# Visualizando os dados novamente\n",
        "plot(mtcars$hp, mtcars$mpg, pch = 17, col = 'gray20', cex = 2)  \n",
        "\n",
        "# Plotando a curva do KNN\n",
        "grid = data.frame(hp = seq(0, 350, by = 0.01))   # grid de valores (simulando um dataset)\n",
        "knn = kknn(mpg ~ hp, train = mtcars, test = grid, k = 2)\n",
        "preditos = knn$fitted.values\n",
        "lines(grid$hp, preditos, type = 'l', lwd = 3, col = 'red')\n"
      ],
      "execution_count": null,
      "outputs": []
    },
    {
      "cell_type": "code",
      "metadata": {
        "id": "y5uYZfghDURw"
      },
      "source": [
        "# Analisando o Melhor K\n",
        "R = 1000\n",
        "eqmk = NULL\n",
        "c = 0\n",
        "for(j in seq(1, 23, 1)){\n",
        "  c = c + 1\n",
        "\n",
        "  eqms = NULL\n",
        "  for(i in 1:R){\n",
        "    ind = sample(n)\n",
        "    dados = mtcars[ ind,  ]\n",
        "    treino = dados[(1:ntreino) , ]\n",
        "    teste = dados[-(1:ntreino) , ] \n",
        "    knn = kknn(mpg ~ hp, train = treino, test = teste, k = j)\n",
        "    preditos = knn$fitted.values \n",
        "    eqm = mean((preditos - teste$mpg)^2)\n",
        "    eqms[i] = eqm\n",
        "  }  \n",
        "  eqm_knn = mean(eqms)\n",
        "  eqmk[c] = eqm_knn\n",
        "}\n"
      ],
      "execution_count": null,
      "outputs": []
    },
    {
      "cell_type": "code",
      "metadata": {
        "id": "WoAim-Y5Fsoy"
      },
      "source": [
        "eqmk\n",
        "plot(seq(1, 23, 1), eqmk, type = 'l', lwd = 2)"
      ],
      "execution_count": null,
      "outputs": []
    },
    {
      "cell_type": "code",
      "metadata": {
        "id": "pucyrSCGMfUQ"
      },
      "source": [
        "# Vendo a diferença entre os modelos KNN com a variação do K.\n",
        "\n",
        "for(i in 1:31){\n",
        "    plot(mtcars$hp, mtcars$mpg, pch = 17, col = 'gray20', cex = 2, \n",
        "         main = paste0('Modelo ', i,'-NN'), \n",
        "         xlab = 'Horse Power', ylab = 'Miles per Galon')  \n",
        "    grid = data.frame(hp = seq(0, 350, by = 0.01))   \n",
        "    knn = kknn(mpg ~ hp, train = mtcars, test = grid, k = i)\n",
        "    preditos = knn$fitted.values\n",
        "    lines(grid$hp, preditos, type = 'l', lwd = 3, col = 'dodgerblue') \n",
        "}"
      ],
      "execution_count": null,
      "outputs": []
    },
    {
      "cell_type": "markdown",
      "metadata": {
        "id": "GGcs44MJLU2X"
      },
      "source": [
        "## **Exercício 2**\n",
        "\n",
        "Verifique qual é o melhor K para o KNN utilizando o conjunto de dados 'Boston'. Tente prever a variável 'medv' a partir da variável 'lstat'. O KNN supera a regressão linear nesse experimento?"
      ]
    },
    {
      "cell_type": "markdown",
      "metadata": {
        "id": "-jrIbIhfNe6W"
      },
      "source": [
        "---"
      ]
    },
    {
      "cell_type": "markdown",
      "metadata": {
        "id": "6zCJ0FeHJrUm"
      },
      "source": [
        "## **AULA 3: Conhecendo mais modelos: Árvores de Decisão?** "
      ]
    },
    {
      "cell_type": "code",
      "metadata": {
        "id": "d-lHuqpuPXvO"
      },
      "source": [
        "# Dividindo em teste e treinamento\n",
        "\n",
        "proporcao = 0.75\n",
        "n = dim(mtcars)[1]\n",
        "ntreino = n*proporcao\n",
        "ntreino"
      ],
      "execution_count": null,
      "outputs": []
    },
    {
      "cell_type": "code",
      "metadata": {
        "id": "ef6lx-qlPXvx"
      },
      "source": [
        "ind = sample(n)\n",
        "emb = mtcars[ind, ]\n",
        "treino = emb[  1:ntreino , ] \n",
        "teste  = emb[-(1:ntreino), ]"
      ],
      "execution_count": null,
      "outputs": []
    },
    {
      "cell_type": "code",
      "metadata": {
        "id": "ZYvUdimBd9Ut"
      },
      "source": [
        "teste"
      ],
      "execution_count": null,
      "outputs": []
    },
    {
      "cell_type": "code",
      "metadata": {
        "id": "iShhd6GwLx0O"
      },
      "source": [
        "library(rpart)"
      ],
      "execution_count": null,
      "outputs": []
    },
    {
      "cell_type": "code",
      "metadata": {
        "id": "F1ylkT3_ghkp"
      },
      "source": [
        ""
      ],
      "execution_count": null,
      "outputs": []
    },
    {
      "cell_type": "code",
      "metadata": {
        "id": "Eb3ftsGTLoPU"
      },
      "source": [
        "controle = rpart.control(maxdepth = 2, minsplit = 2)\n",
        "\n",
        "arvore = rpart(mpg ~ hp, data = mtcars, control = controle)\n",
        "arvore"
      ],
      "execution_count": null,
      "outputs": []
    },
    {
      "cell_type": "code",
      "metadata": {
        "id": "GeomhSDoUwd3"
      },
      "source": [
        "library(rattle)  \n",
        "fancyRpartPlot(arvore, type = 1)  "
      ],
      "execution_count": null,
      "outputs": []
    },
    {
      "cell_type": "code",
      "metadata": {
        "id": "J9QJb21lPNxT"
      },
      "source": [
        "# Aplicando o modelo na amostra teste\n",
        "preditos0 = predict(arvore, mtcars)  \n",
        "preditos = as.numeric(preditos0)\n",
        "preditos"
      ],
      "execution_count": null,
      "outputs": []
    },
    {
      "cell_type": "code",
      "metadata": {
        "id": "xGXrXnJrPNx7"
      },
      "source": [
        "# EQM na amostra teste\n",
        "real = mtcars[['mpg']]\n",
        "eqm = mean((preditos - real)^2)\n",
        "eqm\n"
      ],
      "execution_count": null,
      "outputs": []
    },
    {
      "cell_type": "code",
      "metadata": {
        "id": "4oJsH8O1O-B0"
      },
      "source": [
        "# Holdout repetido\n",
        "R = 1000\n",
        "eqms = NULL\n",
        "\n",
        "for(i in 1:R){\n",
        "  ind = sample(n)\n",
        "  dados = mtcars[ ind,  ]\n",
        "  treino = dados[(1:ntreino) , ]\n",
        "  teste = dados[-(1:ntreino) , ] \n",
        "\n",
        "  controle = rpart.control(maxdepth = 4, minsplit = 2)\n",
        "  arvore = rpart(mpg ~ hp, data = treino, control = controle) \n",
        "  preditos = as.numeric(predict(arvore, teste) ) \n",
        "  eqm = mean((preditos - teste$mpg)^2)\n",
        "  eqms[i] = eqm\n",
        "} \n",
        "\n",
        "range(eqms)\n",
        "eqm_arvore = mean(eqms)\n",
        "eqm_arvore"
      ],
      "execution_count": null,
      "outputs": []
    },
    {
      "cell_type": "code",
      "metadata": {
        "id": "OSXBdE7SQTP_"
      },
      "source": [
        "# Qual o melhor maxdepth?\n",
        "R = 1000\n",
        "eqmk = NULL\n",
        "c = 0\n",
        "for(j in seq(2, 10, 2)){\n",
        "  c = c + 1\n",
        "\n",
        "  eqms = NULL\n",
        "  for(i in 1:R){\n",
        "    ind = sample(n)\n",
        "    dados = mtcars[ ind,  ]\n",
        "    treino = dados[(1:ntreino) , ]\n",
        "    teste = dados[-(1:ntreino) , ] \n",
        "    controle = rpart.control(maxdepth = 5, minsplit = j)\n",
        "    arvore = rpart(mpg ~ hp, data = treino, control = controle) \n",
        "    preditos = as.numeric(predict(arvore, teste) ) \n",
        "    eqm = mean((preditos - teste$mpg)^2)\n",
        "    eqms[i] = eqm\n",
        "  }  \n",
        "  \n",
        "  eqmk[c] = mean(eqms)\n",
        "}\n"
      ],
      "execution_count": null,
      "outputs": []
    },
    {
      "cell_type": "code",
      "metadata": {
        "id": "u3LfQl1wiMjr"
      },
      "source": [
        "eqmk"
      ],
      "execution_count": null,
      "outputs": []
    },
    {
      "cell_type": "code",
      "metadata": {
        "id": "NfxRxCMzQTQl"
      },
      "source": [
        "plot(seq(2, 10, 2), eqmk, type = 'l', lwd = 2)"
      ],
      "execution_count": null,
      "outputs": []
    },
    {
      "cell_type": "code",
      "metadata": {
        "id": "_c20WZx_O-CL"
      },
      "source": [
        "# Visualizando os dados novamente\n",
        "plot(mtcars$hp, mtcars$mpg, pch = 17, col = 'gray20', cex = 2)  \n",
        "\n",
        "# Plotando a curva do KNN\n",
        "grid = data.frame(hp = seq(0, 350, by = 0.01))   # grid de valores (simulando um dataset)\n",
        "controle = rpart.control(maxdepth = 5, minsplit = 8)\n",
        "arvore = rpart(mpg ~ hp, data = mtcars, control = controle) \n",
        "preditos = as.numeric(predict(arvore, grid) ) \n",
        "lines(grid$hp, preditos, type = 'l', lwd = 3, col = 'red')\n"
      ],
      "execution_count": null,
      "outputs": []
    },
    {
      "cell_type": "code",
      "metadata": {
        "id": "HUYeX83HjC-i"
      },
      "source": [
        "controle = rpart.control(maxdepth = 5, minsplit = 8)\n",
        "\n",
        "arvore = rpart(mpg ~ hp, data = mtcars, control = controle)\n",
        "fancyRpartPlot(arvore, type = 1)  "
      ],
      "execution_count": null,
      "outputs": []
    },
    {
      "cell_type": "markdown",
      "metadata": {
        "id": "XDg3xwz9SIz2"
      },
      "source": [
        "## **Exercício 3**\n",
        "\n",
        "No conjunto de dados 'Boston', determine qual é o melhor modelo para prever a variável 'medv'. Compare dois cenários: um utilizando somente a variável 'lstat' e outro utilizando todas as demais variáveis disponíveis. Encontre quais são os melhores parâmetros para os modelos considerados em cada caso. \n",
        "\n",
        "**ESSE EXERCÍCIO DEVE SER ENTREGUE ATÉ DIA 14/10!**"
      ]
    },
    {
      "cell_type": "markdown",
      "metadata": {
        "id": "Gsz_EsomTiR8"
      },
      "source": [
        "---"
      ]
    },
    {
      "cell_type": "markdown",
      "metadata": {
        "id": "3LBtGHf9A7Ql"
      },
      "source": [
        "## **AULA 4: Conhecendo o pacote CARET** "
      ]
    },
    {
      "cell_type": "markdown",
      "metadata": {
        "id": "nr_ICM_ZU5HM"
      },
      "source": [
        "### Modelo de Regressão do começo ao fim com CARET"
      ]
    },
    {
      "cell_type": "code",
      "metadata": {
        "id": "42bm6blfA2JM"
      },
      "source": [
        "# 1. Importar os dados - definir a variável resposta\n",
        "library(MASS)\n",
        "head(Boston)"
      ],
      "execution_count": null,
      "outputs": []
    },
    {
      "cell_type": "code",
      "metadata": {
        "id": "FVNqGLW_Bzmd"
      },
      "source": [
        "str(Boston)\n",
        " "
      ],
      "execution_count": null,
      "outputs": []
    },
    {
      "cell_type": "code",
      "metadata": {
        "id": "eHMhpES4BnL2"
      },
      "source": [
        "# Conhecer o conjunto de dados \n",
        "summary(Boston)"
      ],
      "execution_count": null,
      "outputs": []
    },
    {
      "cell_type": "code",
      "metadata": {
        "id": "-RYHu6hUBxf3"
      },
      "source": [
        "plot(Boston)"
      ],
      "execution_count": null,
      "outputs": []
    },
    {
      "cell_type": "code",
      "metadata": {
        "id": "BVyly_SiBgN4"
      },
      "source": [
        "# Correlações\n",
        "install.packages('corrplot')\n",
        "library(corrplot)"
      ],
      "execution_count": null,
      "outputs": []
    },
    {
      "cell_type": "code",
      "metadata": {
        "id": "U5U6uniQChvd"
      },
      "source": [
        "round(cor(Boston), 2)"
      ],
      "execution_count": null,
      "outputs": []
    },
    {
      "cell_type": "code",
      "metadata": {
        "id": "X5-IT-GoCkwv"
      },
      "source": [
        "corrplot(cor(Boston),  type=\"lower\", diag = TRUE)"
      ],
      "execution_count": null,
      "outputs": []
    },
    {
      "cell_type": "code",
      "metadata": {
        "id": "Ih1uHMK-ib3j"
      },
      "source": [
        "plot(Boston$lstat, Boston $medv, pch = 17)"
      ],
      "execution_count": null,
      "outputs": []
    },
    {
      "cell_type": "code",
      "metadata": {
        "id": "Ts1lkO91Clm-"
      },
      "source": [
        "# Usando o CARET\n",
        "install.packages('caret')\n",
        "library(caret)"
      ],
      "execution_count": null,
      "outputs": []
    },
    {
      "cell_type": "code",
      "metadata": {
        "id": "GYYOpidwVRAl"
      },
      "source": [
        "# REGRESSÃO LINEAR\n",
        "\n",
        "modelLookup(model = 'knn')"
      ],
      "execution_count": null,
      "outputs": []
    },
    {
      "cell_type": "code",
      "metadata": {
        "id": "Ms3Wqx0RjZsB"
      },
      "source": [
        "dim(Boston)"
      ],
      "execution_count": null,
      "outputs": []
    },
    {
      "cell_type": "code",
      "metadata": {
        "id": "lMiy8g_EVd5A"
      },
      "source": [
        "\n",
        "# Ajuste do LM\n",
        "\n",
        "# Controle do Treinamento - Holdout 80% treino, 20% teste\n",
        "# LGOCV = Leave Group Out Cross Validation\n",
        "controle = trainControl(method = \"LGOCV\", p = 0.80, number = 1000) \n",
        "\n",
        "modelo = train(medv ~ lstat, data = Boston, method = \"lm\", trControl = controle )\n",
        "\n",
        "modelo"
      ],
      "execution_count": null,
      "outputs": []
    },
    {
      "cell_type": "code",
      "metadata": {
        "id": "oTjq938lVvie"
      },
      "source": [
        "modelo$results"
      ],
      "execution_count": null,
      "outputs": []
    },
    {
      "cell_type": "code",
      "metadata": {
        "id": "rxkKWBfzV1eP"
      },
      "source": [
        "modelo$resample"
      ],
      "execution_count": null,
      "outputs": []
    },
    {
      "cell_type": "code",
      "metadata": {
        "id": "CTMdkYMqC7ka"
      },
      "source": [
        "# KNN\n",
        "# Controle do Treinamento - Holdout 80% treino, 20% teste\n",
        "\n",
        "controle = trainControl(method = \"LGOCV\", p = .8, number = 1000) \n",
        "\n",
        "# Ajuste do KNN\n",
        "modelLookup(model = 'knn')\n",
        "\n",
        "modelo = train(medv ~ ., data = Boston, method = \"knn\", trControl = controle, tuneGrid = expand.grid(k = 1:9) )\n",
        "modelo"
      ],
      "execution_count": null,
      "outputs": []
    },
    {
      "cell_type": "code",
      "metadata": {
        "id": "TkUHOsR2V35H"
      },
      "source": [
        "modelo$results"
      ],
      "execution_count": null,
      "outputs": []
    },
    {
      "cell_type": "code",
      "metadata": {
        "id": "3nGImo0YNYt6"
      },
      "source": [
        "x = modelo$results"
      ],
      "execution_count": null,
      "outputs": []
    },
    {
      "cell_type": "code",
      "metadata": {
        "id": "HFWv2VNsWXQT"
      },
      "source": [
        "x[order(x$RMSE),]"
      ],
      "execution_count": null,
      "outputs": []
    },
    {
      "cell_type": "code",
      "metadata": {
        "id": "dx0JoZTrQOsm"
      },
      "source": [
        "x[order(x$MAE),]"
      ],
      "execution_count": null,
      "outputs": []
    },
    {
      "cell_type": "code",
      "metadata": {
        "id": "RFMlw_UyQAMj"
      },
      "source": [
        "x[order(-x$Rsquared),]"
      ],
      "execution_count": null,
      "outputs": []
    },
    {
      "cell_type": "code",
      "metadata": {
        "id": "EYDFSbNWEgp9"
      },
      "source": [
        "a = modelo$results\n",
        "plot(a[['k']], a[['RMSE']], type = 'line')"
      ],
      "execution_count": null,
      "outputs": []
    },
    {
      "cell_type": "code",
      "metadata": {
        "id": "ALGVH6gWXBRM"
      },
      "source": [
        "# ARVORE\n",
        "# Controle do Treinamento - Holdout 80% treino, 20% teste\n",
        "\n",
        "controle = trainControl(method = \"LGOCV\", p = .8, number = 100) \n",
        "\n",
        "# Ajuste do KNN\n",
        "modelLookup(model = 'rpart2')\n",
        "\n",
        "modelo = train(medv ~ lstat, data = Boston, method = \"rpart2\", trControl = controle, tuneLength = 20)\n",
        "modelo"
      ],
      "execution_count": null,
      "outputs": []
    },
    {
      "cell_type": "code",
      "metadata": {
        "id": "mEMTdg8TX4qn"
      },
      "source": [
        "install.packages('rattle')"
      ],
      "execution_count": null,
      "outputs": []
    },
    {
      "cell_type": "code",
      "metadata": {
        "id": "OoaKX-YvYKlS"
      },
      "source": [
        "modelo$finalModel"
      ],
      "execution_count": null,
      "outputs": []
    },
    {
      "cell_type": "code",
      "metadata": {
        "id": "uwld79RyX28p"
      },
      "source": [
        "library(rattle)  \n",
        "fancyRpartPlot(modelo$finalModel, type = 1)  "
      ],
      "execution_count": null,
      "outputs": []
    },
    {
      "cell_type": "code",
      "metadata": {
        "id": "0koj6zxPX_6c"
      },
      "source": [
        ""
      ],
      "execution_count": null,
      "outputs": []
    },
    {
      "cell_type": "markdown",
      "metadata": {
        "id": "pHVbLmHpYASN"
      },
      "source": [
        "### Validação Cruzada K-Fold"
      ]
    },
    {
      "cell_type": "code",
      "metadata": {
        "id": "L0327nNZX6ZU"
      },
      "source": [
        "# REG LINEAR\n",
        "# Controle do Treinamento - K-FOld 10 partes\n",
        "\n",
        "controle = trainControl(method = \"repeatedcv\", number = 10, repeats = 5) \n",
        "\n",
        "# Ajuste do LM\n",
        "modelLookup(model = 'lm')\n",
        "\n",
        "modelo = train(medv ~ lstat, data = Boston, method = \"lm\", trControl = controle, tuneLength = 10)\n",
        "modelo"
      ],
      "execution_count": null,
      "outputs": []
    },
    {
      "cell_type": "code",
      "metadata": {
        "id": "GHJMfM0msLCy"
      },
      "source": [
        "modelo$resample"
      ],
      "execution_count": null,
      "outputs": []
    },
    {
      "cell_type": "code",
      "metadata": {
        "id": "Tff7HyYnYmTp"
      },
      "source": [
        "modelo$results[1,2:4]"
      ],
      "execution_count": null,
      "outputs": []
    },
    {
      "cell_type": "code",
      "metadata": {
        "id": "cU7qpDHBYoWd"
      },
      "source": [
        "# Ajuste do KNN \n",
        "modelo = train(medv ~ ., data = Boston, method = \"knn\", trControl = controle, tuneLength = 10)\n",
        "modelo"
      ],
      "execution_count": null,
      "outputs": []
    },
    {
      "cell_type": "code",
      "metadata": {
        "id": "AkbGC9dxZT7t"
      },
      "source": [
        "# Ajuste do KNN \n",
        "modelo = train(medv ~ ., data = Boston, method = \"rpart\", trControl = controle, tuneLength = 10)\n",
        "modelo$results[1,2:4]"
      ],
      "execution_count": null,
      "outputs": []
    },
    {
      "cell_type": "markdown",
      "metadata": {
        "id": "p9gPIWuPTnx8"
      },
      "source": [
        "## **AULA 5: Modelos de Classificação** "
      ]
    },
    {
      "cell_type": "markdown",
      "metadata": {
        "id": "IONTP9uYTnyN"
      },
      "source": [
        "### Regressão Logística"
      ]
    },
    {
      "cell_type": "code",
      "metadata": {
        "id": "ndoNb-I_TtEP"
      },
      "source": [
        "##### Aula 5 - Métodos de Classificação\n",
        "# Dados: venda ou não venda baseado em caracteristicas de quem viu um certo anuncio\n"
      ],
      "execution_count": null,
      "outputs": []
    },
    {
      "cell_type": "code",
      "metadata": {
        "id": "aJEmpi9TYvlO"
      },
      "source": [
        "# Carregando dados\n",
        "dados = read.csv('/content/anuncios.csv')"
      ],
      "execution_count": null,
      "outputs": []
    },
    {
      "cell_type": "code",
      "metadata": {
        "id": "G3Nkc_JEZQw6"
      },
      "source": [
        "head(dados)"
      ],
      "execution_count": null,
      "outputs": []
    },
    {
      "cell_type": "code",
      "metadata": {
        "id": "68q_1ggfjZ9U"
      },
      "source": [
        "summary(dados)"
      ],
      "execution_count": null,
      "outputs": []
    },
    {
      "cell_type": "code",
      "metadata": {
        "id": "AOWJNg6sZEX1"
      },
      "source": [
        "dados['EstimatedSalary'] = dados['EstimatedSalary']/1000"
      ],
      "execution_count": null,
      "outputs": []
    },
    {
      "cell_type": "code",
      "metadata": {
        "id": "R9Bw91_4Y02-"
      },
      "source": [
        "dados['Gender'] = ifelse(dados['Gender'] == 'Male', 1, 0)"
      ],
      "execution_count": null,
      "outputs": []
    },
    {
      "cell_type": "code",
      "metadata": {
        "id": "QcHn8fu9kTYq"
      },
      "source": [
        "dados = dados[, 2:5]\n",
        "head(dados)\n"
      ],
      "execution_count": null,
      "outputs": []
    },
    {
      "cell_type": "code",
      "metadata": {
        "id": "dsw407H1kej4"
      },
      "source": [
        "plot(dados$Age, dados$EstimatedSalary, pch = 15, col = dados$Purchased )"
      ],
      "execution_count": null,
      "outputs": []
    },
    {
      "cell_type": "code",
      "metadata": {
        "id": "bTHRuJUeZYsz"
      },
      "source": [
        "install.packages('caret')"
      ],
      "execution_count": null,
      "outputs": []
    },
    {
      "cell_type": "code",
      "metadata": {
        "id": "_oHFezQkbdZF"
      },
      "source": [
        "install.packages('e1071')"
      ],
      "execution_count": null,
      "outputs": []
    },
    {
      "cell_type": "code",
      "metadata": {
        "id": "ZQTC0K3maBTi"
      },
      "source": [
        "# Checando por dados faltantes\n",
        "anyNA(dados)"
      ],
      "execution_count": null,
      "outputs": []
    },
    {
      "cell_type": "code",
      "metadata": {
        "id": "WhhUrNW0aBxP"
      },
      "source": [
        "# Estatísticas Básicas \n",
        "summary(dados)"
      ],
      "execution_count": null,
      "outputs": []
    },
    {
      "cell_type": "code",
      "metadata": {
        "id": "-LobQNLyaCJ-"
      },
      "source": [
        "# Gráficos\n",
        "plot(dados$Age, dados$EstimatedSalary, col = dados$Purchased+4, pch = 15)"
      ],
      "execution_count": null,
      "outputs": []
    },
    {
      "cell_type": "code",
      "metadata": {
        "id": "3xoqZUp5ZWE3"
      },
      "source": [
        "# Correlação\n",
        "install.packages('corrplot')"
      ],
      "execution_count": null,
      "outputs": []
    },
    {
      "cell_type": "code",
      "metadata": {
        "id": "E3RO3ohIrxxP"
      },
      "source": [
        "cor(dados)"
      ],
      "execution_count": null,
      "outputs": []
    },
    {
      "cell_type": "code",
      "metadata": {
        "id": "qMGlXfrXa3WG"
      },
      "source": [
        "library(corrplot) \n",
        "corrplot(cor(dados), type=\"upper\", tl.col=\"gray30\", tl.srt = 30, diag=FALSE)"
      ],
      "execution_count": null,
      "outputs": []
    },
    {
      "cell_type": "code",
      "metadata": {
        "id": "f1ePlunKYniH"
      },
      "source": [
        "# Pacote 'caret'\n",
        "library(caret)"
      ],
      "execution_count": null,
      "outputs": []
    },
    {
      "cell_type": "code",
      "metadata": {
        "id": "c2Xz7CAEaFKX"
      },
      "source": [
        "###### AJUSTES\n",
        "\n",
        "# Controle do Treinamento\n",
        "controle = trainControl(method = \"repeatedcv\", number = 20, repeats = 5) \n"
      ],
      "execution_count": null,
      "outputs": []
    },
    {
      "cell_type": "code",
      "metadata": {
        "id": "xTBT7X6pbG_V"
      },
      "source": [
        "# Ajuste do modelo REG LOG\n",
        "modelLookup(model = 'glm')"
      ],
      "execution_count": null,
      "outputs": []
    },
    {
      "cell_type": "code",
      "metadata": {
        "id": "hAWfoSBXmoLA"
      },
      "source": [
        "rl = train( factor(Purchased) ~ ., data = dados, method = 'glm',\n",
        "           trControl = controle )\n",
        "rl$results  "
      ],
      "execution_count": null,
      "outputs": []
    },
    {
      "cell_type": "code",
      "metadata": {
        "id": "Ql1SbTrdbH2R"
      },
      "source": [
        "# Ajuste do modelo KNN\n",
        "\n",
        "modelLookup(model = 'knn')"
      ],
      "execution_count": null,
      "outputs": []
    },
    {
      "cell_type": "code",
      "metadata": {
        "id": "ljTWUBH7qDo1"
      },
      "source": [
        "knn = train(factor(Purchased) ~ ., data = dados, method = 'knn',\n",
        "             trControl = controle, tuneLength = 10 )\n",
        "knn"
      ],
      "execution_count": null,
      "outputs": []
    },
    {
      "cell_type": "code",
      "metadata": {
        "id": "45nEBBgSbxvO"
      },
      "source": [
        "knn$finalModel"
      ],
      "execution_count": null,
      "outputs": []
    },
    {
      "cell_type": "code",
      "metadata": {
        "id": "0Px4ONawbyTV"
      },
      "source": [
        "knn$resample"
      ],
      "execution_count": null,
      "outputs": []
    },
    {
      "cell_type": "code",
      "metadata": {
        "id": "TkICvVUSbznD"
      },
      "source": [
        "knn$bestTune"
      ],
      "execution_count": null,
      "outputs": []
    },
    {
      "cell_type": "code",
      "metadata": {
        "id": "XNZm3Ddqbn-m"
      },
      "source": [
        "\n",
        "predicao = predict(knn, newdata = dados)\n",
        "cm = confusionMatrix(predicao, factor(dados[['Purchased']]) )\n",
        "cm\n"
      ],
      "execution_count": null,
      "outputs": []
    },
    {
      "cell_type": "code",
      "metadata": {
        "id": "58ah52wNb-kW"
      },
      "source": [
        "# Ajuste do modelo ARVORE\n",
        "metodo = 'rpart2'\n",
        "modelLookup(model = metodo)"
      ],
      "execution_count": null,
      "outputs": []
    },
    {
      "cell_type": "code",
      "metadata": {
        "id": "zKmCYy6LssHO"
      },
      "source": [
        "\n",
        "mod = train(factor(Purchased) ~ ., data = dados, method = metodo,\n",
        "           trControl = controle, tuneLength = 10 )\n",
        "mod\n"
      ],
      "execution_count": null,
      "outputs": []
    },
    {
      "cell_type": "code",
      "metadata": {
        "id": "ljDa4LvxcJyt"
      },
      "source": [
        "\n",
        "install.packages('rattle')"
      ],
      "execution_count": null,
      "outputs": []
    },
    {
      "cell_type": "code",
      "metadata": {
        "id": "ehRVZ2bTcfdF"
      },
      "source": [
        "\n",
        "library(rattle)\n",
        "fancyRpartPlot(mod$finalModel, type = 2)\n",
        "\n"
      ],
      "execution_count": null,
      "outputs": []
    },
    {
      "cell_type": "markdown",
      "metadata": {
        "id": "pyQukyACDCI3"
      },
      "source": [
        "## **AULA 6**"
      ]
    },
    {
      "cell_type": "code",
      "metadata": {
        "id": "tmQdEOovDW0U"
      },
      "source": [
        "# Carregando dados\n",
        "dados = read.csv('/content/anuncios.csv')"
      ],
      "execution_count": null,
      "outputs": []
    },
    {
      "cell_type": "code",
      "metadata": {
        "id": "9doexFvADXqo"
      },
      "source": [
        "dados = dados[ , 3:5]\n",
        "dados$EstimatedSalary = dados$EstimatedSalary/1000"
      ],
      "execution_count": null,
      "outputs": []
    },
    {
      "cell_type": "code",
      "metadata": {
        "id": "jdtU3vLpDcir"
      },
      "source": [
        "head(dados)"
      ],
      "execution_count": null,
      "outputs": []
    },
    {
      "cell_type": "code",
      "metadata": {
        "id": "lzgcKvoNDyIp"
      },
      "source": [
        "install.packages('caret')"
      ],
      "execution_count": null,
      "outputs": []
    },
    {
      "cell_type": "code",
      "metadata": {
        "id": "jip_vAH3DyJO"
      },
      "source": [
        "install.packages('e1071')"
      ],
      "execution_count": null,
      "outputs": []
    },
    {
      "cell_type": "code",
      "metadata": {
        "id": "W1GMKzTHDyJt"
      },
      "source": [
        "# Pacote 'caret'\n",
        "library(caret)"
      ],
      "execution_count": null,
      "outputs": []
    },
    {
      "cell_type": "code",
      "metadata": {
        "id": "oFrKjVA3IlvC"
      },
      "source": [
        "install.packages('randomForest')"
      ],
      "execution_count": null,
      "outputs": []
    },
    {
      "cell_type": "code",
      "metadata": {
        "id": "zjhPx9b0G-Hb"
      },
      "source": [
        "\n"
      ],
      "execution_count": null,
      "outputs": []
    },
    {
      "cell_type": "code",
      "metadata": {
        "id": "ghiqs0niI9eD"
      },
      "source": [
        "# Dividindo em teste e treinamento\n",
        "indice = createDataPartition(y = dados[['Purchased']], p = 0.75, list = FALSE)\n",
        "treino = dados[ indice, ]\n",
        "teste  = dados[-indice, ] \n",
        "\n",
        "# Regiao de Decisão\n",
        "# Gráfico de Região\n",
        "malha = 200  \n",
        "X1 = seq( min(teste[, 1])-10, max(teste[, 1])+10, length.out = malha)\n",
        "X2 = seq( min(teste[, 2])-20, max(teste[, 2])+20, length.out = malha)\n",
        "grid = expand.grid(X1, X2)\n",
        "colnames(grid) = colnames(treino[, 1:2])\n",
        "\n",
        "metodo = 'rf' \n",
        "controle = trainControl(method = \"repeatedcv\", number = 10, repeats = 5) \n",
        "modelo = train(factor(Purchased) ~., data = treino, method = metodo)#,\n",
        "              # trControl = controle, #tuneLength = 10)\n",
        "             # tuneGrid = expand.grid(k = 1))\n",
        "\n",
        "y_grid = predict(modelo, newdata = grid)\n",
        " \n",
        "library(repr)  \n",
        "options(repr.plot.width = 12, repr.plot.height = 7)\n",
        "\n",
        "par(mfrow=c(1,2))  \n",
        "\n",
        "plot(treino[, -3], main = 'TREINO')\n",
        "points(grid, pch = 18, col = ifelse(y_grid == 1, 'tomato', 'dodgerblue1'), cex= 2 )\n",
        "points(treino, pch = 24, bg = ifelse(treino[, 3] == 1, 'firebrick4', 'dodgerblue4' ))\n",
        " \n",
        "plot(teste[, -3], main = 'TESTE')\n",
        "points(grid, pch = 18, col = ifelse(y_grid == 1, 'tomato', 'dodgerblue1'), cex= 2 )\n",
        "points(teste, pch = 24, bg = ifelse(teste[, 3] == 1, 'firebrick4', 'dodgerblue4' ))\n"
      ],
      "execution_count": null,
      "outputs": []
    },
    {
      "cell_type": "code",
      "metadata": {
        "id": "Z0jIAtaEqMa4"
      },
      "source": [
        "metodo = 'rf' \n",
        "controle = trainControl(method = \"repeatedcv\", number = 10, repeats = 5) \n",
        "modelo = train(factor(Purchased) ~., data = dados, method = metodo,\n",
        "               trControl = controle, tuneLength = 10)\n",
        "modelo"
      ],
      "execution_count": null,
      "outputs": []
    },
    {
      "cell_type": "markdown",
      "metadata": {
        "id": "C6DicHKQqPzg"
      },
      "source": [
        "## **TRABALHO VALENDO NOTA**\n",
        "\n",
        "- Grupos de no máximo 3 pessoas.\n",
        "- Cada grupo deve procurar um conjunto de dados com no minimo 2000 linhas e 10 variaveis e com uma variável resposta do tipo binária. \n",
        "- Assim que encontrar o dataset, enviar pra mim pra eu dar um ok. \n",
        "- Objetivo: encontrar a melhor solução dentre os modelos que conhecemos para esse conjunto de dados\n",
        "- Entregar o trabalho na forma de relatório feito no google colab (arquivo ipynb) \n",
        "- **Data de entrega: 15/11/2020**\n",
        "\n",
        "- Sugestão de onde procurar conjunto de dados: kaggle\n",
        "\n",
        "- Entregar anexando link ou arquivos no Google Classroom (tarefas)\n",
        " "
      ]
    },
    {
      "cell_type": "markdown",
      "metadata": {
        "id": "RT3Hjul4t81u"
      },
      "source": [
        "---"
      ]
    },
    {
      "cell_type": "markdown",
      "metadata": {
        "id": "Jw88vom623Ey"
      },
      "source": [
        "# **Aula 8: Redes Neurais**"
      ]
    },
    {
      "cell_type": "code",
      "metadata": {
        "id": "qB85ML243HBq"
      },
      "source": [
        "# Carregando dados\n",
        "dados = read.csv('anuncios.csv')\n",
        "dados[, 3:4] = scale(dados[,3:4])\n",
        "dados['Gender'] = ifelse(dados['Gender'] == 'Male', 1, 0)\n",
        "dados = dados[, 2:5]\n",
        "head(dados)"
      ],
      "execution_count": null,
      "outputs": []
    },
    {
      "cell_type": "code",
      "metadata": {
        "id": "cA7YxMCr3HZ5"
      },
      "source": [
        "# Pacote 'caret'\n",
        "install.packages('caret')\n",
        "install.packages('e1071')"
      ],
      "execution_count": null,
      "outputs": []
    },
    {
      "cell_type": "code",
      "metadata": {
        "id": "I66kdYkl4C55"
      },
      "source": [
        "library(caret)"
      ],
      "execution_count": null,
      "outputs": []
    },
    {
      "cell_type": "code",
      "metadata": {
        "id": "ZUt185p73IJJ"
      },
      "source": [
        "# Dividindo em teste e treinamento\n",
        "indice = createDataPartition(y = dados[['Purchased']], p = 7/8, list = FALSE)\n",
        "treino = dados[ indice, ]\n",
        "teste  = dados[-indice, ] "
      ],
      "execution_count": null,
      "outputs": []
    },
    {
      "cell_type": "code",
      "metadata": {
        "id": "7zD3XekS3IdD"
      },
      "source": [
        "# Controle do Treinamento\n",
        "controle <- trainControl(method = \"repeatedcv\", number = 10, repeats = 3) "
      ],
      "execution_count": null,
      "outputs": []
    },
    {
      "cell_type": "code",
      "metadata": {
        "id": "XAq3LXO13I99"
      },
      "source": [
        "# Rede Neural \n",
        "metodo = 'nnet'\n",
        "\n",
        "modelLookup(model = metodo)\n",
        "modelo = train(factor(Purchased) ~., data = treino, method = metodo,\n",
        "               trControl = controle, tuneLength = 5 )\n",
        "modelo$resample\n",
        "modelo"
      ],
      "execution_count": null,
      "outputs": []
    },
    {
      "cell_type": "code",
      "metadata": {
        "id": "_dnR_5u33NUk"
      },
      "source": [
        "# Resultado da predição\n",
        "predicao = predict(modelo, newdata = teste)\n",
        "cm = confusionMatrix(predicao, factor(teste[['Purchased']]) )\n",
        "cm\n"
      ],
      "execution_count": null,
      "outputs": []
    },
    {
      "cell_type": "code",
      "metadata": {
        "id": "EKobQ35z3Nyt"
      },
      "source": [
        "# Grafico da Rede\n",
        "\n",
        "install.packages('NeuralNetTools')  "
      ],
      "execution_count": null,
      "outputs": []
    },
    {
      "cell_type": "code",
      "metadata": {
        "id": "OFeP2lzf_GKD"
      },
      "source": [
        "library(NeuralNetTools)  \n",
        "plotnet(modelo, alpha = 0.6)"
      ],
      "execution_count": null,
      "outputs": []
    },
    {
      "cell_type": "code",
      "metadata": {
        "id": "5PgD_yng3OZ2"
      },
      "source": [
        "# Regiao de Decisão\n",
        "# Gráfico de Região\n",
        "malha = 200 \n",
        "treino0 = treino[2:4]\n",
        "teste0 = teste[2:4]\n",
        "X1 = seq( min(teste0[, 1]), max(teste0[, 1]), length.out = malha)\n",
        "X2 = seq( min(teste0[, 2]), max(teste0[, 2]), length.out = malha)\n",
        "grid = expand.grid(X1, X2)\n",
        "colnames(grid) = colnames(treino0[, 1:2])\n",
        "\n",
        "metodo = 'nnet'\n",
        "modelLookup(model = metodo)\n",
        "modelo = train(factor(Purchased) ~., data = treino0, method = metodo,\n",
        "               trControl = controle, tuneLength = 4 )\n",
        "y_grid = predict(modelo, newdata = grid)\n",
        "\n"
      ],
      "execution_count": null,
      "outputs": []
    },
    {
      "cell_type": "code",
      "metadata": {
        "id": "Bn36bd-Q_ljU"
      },
      "source": [
        "plot(teste0[, -3], main = 'Regiao de Decisao')\n",
        "points(grid, pch = 18, col = ifelse(y_grid == 1, 'tomato', 'dodgerblue1'), cex= 2 )\n",
        "points(teste0, pch = 24, bg = ifelse(teste0[, 3] == 1, 'firebrick4', 'dodgerblue4' ))"
      ],
      "execution_count": null,
      "outputs": []
    },
    {
      "cell_type": "code",
      "metadata": {
        "id": "7RkyjYnE_14m"
      },
      "source": [
        "plot(teste0[, -3], main = 'Regiao de Decisao')\n",
        "points(grid, pch = 18, col = ifelse(y_grid == 1, 'tomato', 'dodgerblue1'), cex= 2 )\n",
        "points(treino0, pch = 24, bg = ifelse(treino0[, 3] == 1, 'firebrick4', 'dodgerblue4' ))"
      ],
      "execution_count": null,
      "outputs": []
    },
    {
      "cell_type": "code",
      "metadata": {
        "id": "bwx9LfzUoarL"
      },
      "source": [
        ""
      ],
      "execution_count": null,
      "outputs": []
    },
    {
      "cell_type": "markdown",
      "metadata": {
        "id": "_r-bj0qboa8y"
      },
      "source": [
        "---"
      ]
    },
    {
      "cell_type": "markdown",
      "metadata": {
        "id": "OnnPaIHoobnI"
      },
      "source": [
        "# **Aula 9**"
      ]
    },
    {
      "cell_type": "code",
      "metadata": {
        "id": "uX6YbE3epAzz"
      },
      "source": [
        "# Carregando dados\n",
        "dados = read.csv('/content/anuncios.csv')"
      ],
      "execution_count": null,
      "outputs": []
    },
    {
      "cell_type": "code",
      "metadata": {
        "id": "_V5bY6z8pAz0"
      },
      "source": [
        "dados = dados[ , 3:5]\n",
        "dados$EstimatedSalary = dados$EstimatedSalary/1000"
      ],
      "execution_count": null,
      "outputs": []
    },
    {
      "cell_type": "code",
      "metadata": {
        "id": "C14B7u4WpAz0"
      },
      "source": [
        "head(dados)"
      ],
      "execution_count": null,
      "outputs": []
    },
    {
      "cell_type": "code",
      "metadata": {
        "id": "gCJW5SY8pAz1"
      },
      "source": [
        "install.packages('caret')"
      ],
      "execution_count": null,
      "outputs": []
    },
    {
      "cell_type": "code",
      "metadata": {
        "id": "fpyNuLcUpAz2"
      },
      "source": [
        "install.packages('e1071')"
      ],
      "execution_count": null,
      "outputs": []
    },
    {
      "cell_type": "code",
      "metadata": {
        "id": "tuhKAAvApAz2"
      },
      "source": [
        "# Pacote 'caret'\n",
        "library(caret)"
      ],
      "execution_count": null,
      "outputs": []
    },
    {
      "cell_type": "code",
      "metadata": {
        "id": "e7QsNwx5qJah"
      },
      "source": [
        "metodo = 'lda' \n",
        "modelLookup(model = metodo)"
      ],
      "execution_count": null,
      "outputs": []
    },
    {
      "cell_type": "code",
      "metadata": {
        "id": "pS3NmmhGpAz3"
      },
      "source": [
        "# Dividindo em teste e treinamento\n",
        "indice = createDataPartition(y = dados[['Purchased']], p = 0.75, list = FALSE)\n",
        "treino = dados[ indice, ]\n",
        "teste  = dados[-indice, ] \n",
        "\n",
        "# Regiao de Decisão\n",
        "# Gráfico de Região\n",
        "malha = 200  \n",
        "X1 = seq( min(teste[, 1])-10, max(teste[, 1])+10, length.out = malha)\n",
        "X2 = seq( min(teste[, 2])-20, max(teste[, 2])+20, length.out = malha)\n",
        "grid = expand.grid(X1, X2)\n",
        "colnames(grid) = colnames(treino[, 1:2])\n",
        "\n",
        "metodo = 'lda' \n",
        "controle = trainControl(method = \"repeatedcv\", number = 10, repeats = 5) \n",
        "modelo = train(factor(Purchased) ~., data = treino, method = metodo)#,\n",
        "              # trControl = controle, #tuneLength = 10)\n",
        "             # tuneGrid = expand.grid(k = 1))\n",
        "\n",
        "y_grid = predict(modelo, newdata = grid)\n",
        " \n",
        "library(repr)  \n",
        "options(repr.plot.width = 12, repr.plot.height = 7)\n",
        "\n",
        "par(mfrow=c(1,2))  \n",
        "\n",
        "plot(treino[, -3], main = 'TREINO')\n",
        "points(grid, pch = 18, col = ifelse(y_grid == 1, 'tomato', 'dodgerblue1'), cex= 2 )\n",
        "points(treino, pch = 24, bg = ifelse(treino[, 3] == 1, 'firebrick4', 'dodgerblue4' ))\n",
        " \n",
        "plot(teste[, -3], main = 'TESTE')\n",
        "points(grid, pch = 18, col = ifelse(y_grid == 1, 'tomato', 'dodgerblue1'), cex= 2 )\n",
        "points(teste, pch = 24, bg = ifelse(teste[, 3] == 1, 'firebrick4', 'dodgerblue4' ))\n"
      ],
      "execution_count": null,
      "outputs": []
    },
    {
      "cell_type": "code",
      "metadata": {
        "id": "wkyToO2EohwE"
      },
      "source": [
        ""
      ],
      "execution_count": null,
      "outputs": []
    },
    {
      "cell_type": "markdown",
      "metadata": {
        "id": "2QLTo7SfZe0q"
      },
      "source": [
        "# **Aula 10:** Pré-processamento de dados \n",
        "\n",
        "Exemplo: dados do Titanic, do kaggle."
      ]
    },
    {
      "cell_type": "code",
      "metadata": {
        "id": "ixIqQEI4Zjl1"
      },
      "source": [
        "url1 = 'https://raw.githubusercontent.com/ricardorocha86/Datasets/master/Titanic/train.csv'\n",
        "url2 = 'https://raw.githubusercontent.com/ricardorocha86/Datasets/master/Titanic/test.csv'"
      ],
      "execution_count": 1,
      "outputs": []
    },
    {
      "cell_type": "code",
      "metadata": {
        "colab": {
          "base_uri": "https://localhost:8080/",
          "height": 207
        },
        "id": "K69GadmXaQJB",
        "outputId": "dec9f80d-282f-435c-c585-8669a1445666"
      },
      "source": [
        "treino = read.csv(url1)\n",
        "teste = read.csv(url2)\n",
        "head(teste)"
      ],
      "execution_count": 2,
      "outputs": [
        {
          "output_type": "display_data",
          "data": {
            "text/plain": [
              "  PassengerId Pclass Name                                         Sex    Age \n",
              "1 892         3      Kelly, Mr. James                             male   34.5\n",
              "2 893         3      Wilkes, Mrs. James (Ellen Needs)             female 47.0\n",
              "3 894         2      Myles, Mr. Thomas Francis                    male   62.0\n",
              "4 895         3      Wirz, Mr. Albert                             male   27.0\n",
              "5 896         3      Hirvonen, Mrs. Alexander (Helga E Lindqvist) female 22.0\n",
              "6 897         3      Svensson, Mr. Johan Cervin                   male   14.0\n",
              "  SibSp Parch Ticket  Fare    Cabin Embarked\n",
              "1 0     0     330911   7.8292       Q       \n",
              "2 1     0     363272   7.0000       S       \n",
              "3 0     0     240276   9.6875       Q       \n",
              "4 0     0     315154   8.6625       S       \n",
              "5 1     1     3101298 12.2875       S       \n",
              "6 0     0     7538     9.2250       S       "
            ],
            "text/latex": "A data.frame: 6 × 11\n\\begin{tabular}{r|lllllllllll}\n  & PassengerId & Pclass & Name & Sex & Age & SibSp & Parch & Ticket & Fare & Cabin & Embarked\\\\\n  & <int> & <int> & <chr> & <chr> & <dbl> & <int> & <int> & <chr> & <dbl> & <chr> & <chr>\\\\\n\\hline\n\t1 & 892 & 3 & Kelly, Mr. James                             & male   & 34.5 & 0 & 0 & 330911  &  7.8292 &  & Q\\\\\n\t2 & 893 & 3 & Wilkes, Mrs. James (Ellen Needs)             & female & 47.0 & 1 & 0 & 363272  &  7.0000 &  & S\\\\\n\t3 & 894 & 2 & Myles, Mr. Thomas Francis                    & male   & 62.0 & 0 & 0 & 240276  &  9.6875 &  & Q\\\\\n\t4 & 895 & 3 & Wirz, Mr. Albert                             & male   & 27.0 & 0 & 0 & 315154  &  8.6625 &  & S\\\\\n\t5 & 896 & 3 & Hirvonen, Mrs. Alexander (Helga E Lindqvist) & female & 22.0 & 1 & 1 & 3101298 & 12.2875 &  & S\\\\\n\t6 & 897 & 3 & Svensson, Mr. Johan Cervin                   & male   & 14.0 & 0 & 0 & 7538    &  9.2250 &  & S\\\\\n\\end{tabular}\n",
            "text/markdown": "\nA data.frame: 6 × 11\n\n| <!--/--> | PassengerId &lt;int&gt; | Pclass &lt;int&gt; | Name &lt;chr&gt; | Sex &lt;chr&gt; | Age &lt;dbl&gt; | SibSp &lt;int&gt; | Parch &lt;int&gt; | Ticket &lt;chr&gt; | Fare &lt;dbl&gt; | Cabin &lt;chr&gt; | Embarked &lt;chr&gt; |\n|---|---|---|---|---|---|---|---|---|---|---|---|\n| 1 | 892 | 3 | Kelly, Mr. James                             | male   | 34.5 | 0 | 0 | 330911  |  7.8292 | <!----> | Q |\n| 2 | 893 | 3 | Wilkes, Mrs. James (Ellen Needs)             | female | 47.0 | 1 | 0 | 363272  |  7.0000 | <!----> | S |\n| 3 | 894 | 2 | Myles, Mr. Thomas Francis                    | male   | 62.0 | 0 | 0 | 240276  |  9.6875 | <!----> | Q |\n| 4 | 895 | 3 | Wirz, Mr. Albert                             | male   | 27.0 | 0 | 0 | 315154  |  8.6625 | <!----> | S |\n| 5 | 896 | 3 | Hirvonen, Mrs. Alexander (Helga E Lindqvist) | female | 22.0 | 1 | 1 | 3101298 | 12.2875 | <!----> | S |\n| 6 | 897 | 3 | Svensson, Mr. Johan Cervin                   | male   | 14.0 | 0 | 0 | 7538    |  9.2250 | <!----> | S |\n\n",
            "text/html": [
              "<table>\n",
              "<caption>A data.frame: 6 × 11</caption>\n",
              "<thead>\n",
              "\t<tr><th></th><th scope=col>PassengerId</th><th scope=col>Pclass</th><th scope=col>Name</th><th scope=col>Sex</th><th scope=col>Age</th><th scope=col>SibSp</th><th scope=col>Parch</th><th scope=col>Ticket</th><th scope=col>Fare</th><th scope=col>Cabin</th><th scope=col>Embarked</th></tr>\n",
              "\t<tr><th></th><th scope=col>&lt;int&gt;</th><th scope=col>&lt;int&gt;</th><th scope=col>&lt;chr&gt;</th><th scope=col>&lt;chr&gt;</th><th scope=col>&lt;dbl&gt;</th><th scope=col>&lt;int&gt;</th><th scope=col>&lt;int&gt;</th><th scope=col>&lt;chr&gt;</th><th scope=col>&lt;dbl&gt;</th><th scope=col>&lt;chr&gt;</th><th scope=col>&lt;chr&gt;</th></tr>\n",
              "</thead>\n",
              "<tbody>\n",
              "\t<tr><th scope=row>1</th><td>892</td><td>3</td><td>Kelly, Mr. James                            </td><td>male  </td><td>34.5</td><td>0</td><td>0</td><td>330911 </td><td> 7.8292</td><td></td><td>Q</td></tr>\n",
              "\t<tr><th scope=row>2</th><td>893</td><td>3</td><td>Wilkes, Mrs. James (Ellen Needs)            </td><td>female</td><td>47.0</td><td>1</td><td>0</td><td>363272 </td><td> 7.0000</td><td></td><td>S</td></tr>\n",
              "\t<tr><th scope=row>3</th><td>894</td><td>2</td><td>Myles, Mr. Thomas Francis                   </td><td>male  </td><td>62.0</td><td>0</td><td>0</td><td>240276 </td><td> 9.6875</td><td></td><td>Q</td></tr>\n",
              "\t<tr><th scope=row>4</th><td>895</td><td>3</td><td>Wirz, Mr. Albert                            </td><td>male  </td><td>27.0</td><td>0</td><td>0</td><td>315154 </td><td> 8.6625</td><td></td><td>S</td></tr>\n",
              "\t<tr><th scope=row>5</th><td>896</td><td>3</td><td>Hirvonen, Mrs. Alexander (Helga E Lindqvist)</td><td>female</td><td>22.0</td><td>1</td><td>1</td><td>3101298</td><td>12.2875</td><td></td><td>S</td></tr>\n",
              "\t<tr><th scope=row>6</th><td>897</td><td>3</td><td>Svensson, Mr. Johan Cervin                  </td><td>male  </td><td>14.0</td><td>0</td><td>0</td><td>7538   </td><td> 9.2250</td><td></td><td>S</td></tr>\n",
              "</tbody>\n",
              "</table>\n"
            ]
          },
          "metadata": {
            "tags": []
          }
        }
      ]
    },
    {
      "cell_type": "code",
      "metadata": {
        "colab": {
          "base_uri": "https://localhost:8080/",
          "height": 34
        },
        "id": "SSxR8-Gz1TUG",
        "outputId": "fdcdfe12-e3e2-41d2-8e54-69393ae71cdc"
      },
      "source": [
        ""
      ],
      "execution_count": 6,
      "outputs": [
        {
          "output_type": "display_data",
          "data": {
            "text/plain": [
              "[1] \"character\""
            ],
            "text/latex": "'character'",
            "text/markdown": "'character'",
            "text/html": [
              "'character'"
            ]
          },
          "metadata": {
            "tags": []
          }
        }
      ]
    },
    {
      "cell_type": "markdown",
      "metadata": {
        "id": "AvNa6bycahqa"
      },
      "source": [
        "### **Lembre que toda modificação feita no conjunto de treino, deve também ser feita no conjunto de teste. Mas lembre que a informação de teste não deve ser utilizada para criar as transformações dos dados.**"
      ]
    },
    {
      "cell_type": "markdown",
      "metadata": {
        "id": "gxww5Q2nbs8b"
      },
      "source": [
        "## Etapas básicas de um pré-processamento\n",
        "\n",
        "- Descartar variáveis que não possuem informação (supostamente)\n",
        "- Verificar se há dados faltantes nos dados\n",
        "- Dummificação de variáveis categóricas\n",
        "- Verificar a escala das variáveis numéricas\n",
        "- Engenharia de variáveis"
      ]
    },
    {
      "cell_type": "markdown",
      "metadata": {
        "id": "CNIxw78Rfod6"
      },
      "source": [
        "### Descarte de Variáveis"
      ]
    },
    {
      "cell_type": "code",
      "metadata": {
        "id": "hMhwuqXPe3NQ"
      },
      "source": [
        "#descartando variaveis: passengerID, ticket, cabin\n",
        "treino = treino[, -c(1, 9, 11)]\n",
        "teste = teste[, -c(1, 8, 10)]"
      ],
      "execution_count": 4,
      "outputs": []
    },
    {
      "cell_type": "code",
      "metadata": {
        "colab": {
          "base_uri": "https://localhost:8080/",
          "height": 207
        },
        "id": "RsfFwpDCevZi",
        "outputId": "a27aae61-982f-4c2a-e7e0-70f662e00693"
      },
      "source": [
        "head(treino)"
      ],
      "execution_count": 5,
      "outputs": [
        {
          "output_type": "display_data",
          "data": {
            "text/plain": [
              "  Survived Pclass Name                                                Sex   \n",
              "1 0        3      Braund, Mr. Owen Harris                             male  \n",
              "2 1        1      Cumings, Mrs. John Bradley (Florence Briggs Thayer) female\n",
              "3 1        3      Heikkinen, Miss. Laina                              female\n",
              "4 1        1      Futrelle, Mrs. Jacques Heath (Lily May Peel)        female\n",
              "5 0        3      Allen, Mr. William Henry                            male  \n",
              "6 0        3      Moran, Mr. James                                    male  \n",
              "  Age SibSp Parch Fare    Embarked\n",
              "1 22  1     0      7.2500 S       \n",
              "2 38  1     0     71.2833 C       \n",
              "3 26  0     0      7.9250 S       \n",
              "4 35  1     0     53.1000 S       \n",
              "5 35  0     0      8.0500 S       \n",
              "6 NA  0     0      8.4583 Q       "
            ],
            "text/latex": "A data.frame: 6 × 9\n\\begin{tabular}{r|lllllllll}\n  & Survived & Pclass & Name & Sex & Age & SibSp & Parch & Fare & Embarked\\\\\n  & <int> & <int> & <chr> & <chr> & <dbl> & <int> & <int> & <dbl> & <chr>\\\\\n\\hline\n\t1 & 0 & 3 & Braund, Mr. Owen Harris                             & male   & 22 & 1 & 0 &  7.2500 & S\\\\\n\t2 & 1 & 1 & Cumings, Mrs. John Bradley (Florence Briggs Thayer) & female & 38 & 1 & 0 & 71.2833 & C\\\\\n\t3 & 1 & 3 & Heikkinen, Miss. Laina                              & female & 26 & 0 & 0 &  7.9250 & S\\\\\n\t4 & 1 & 1 & Futrelle, Mrs. Jacques Heath (Lily May Peel)        & female & 35 & 1 & 0 & 53.1000 & S\\\\\n\t5 & 0 & 3 & Allen, Mr. William Henry                            & male   & 35 & 0 & 0 &  8.0500 & S\\\\\n\t6 & 0 & 3 & Moran, Mr. James                                    & male   & NA & 0 & 0 &  8.4583 & Q\\\\\n\\end{tabular}\n",
            "text/markdown": "\nA data.frame: 6 × 9\n\n| <!--/--> | Survived &lt;int&gt; | Pclass &lt;int&gt; | Name &lt;chr&gt; | Sex &lt;chr&gt; | Age &lt;dbl&gt; | SibSp &lt;int&gt; | Parch &lt;int&gt; | Fare &lt;dbl&gt; | Embarked &lt;chr&gt; |\n|---|---|---|---|---|---|---|---|---|---|\n| 1 | 0 | 3 | Braund, Mr. Owen Harris                             | male   | 22 | 1 | 0 |  7.2500 | S |\n| 2 | 1 | 1 | Cumings, Mrs. John Bradley (Florence Briggs Thayer) | female | 38 | 1 | 0 | 71.2833 | C |\n| 3 | 1 | 3 | Heikkinen, Miss. Laina                              | female | 26 | 0 | 0 |  7.9250 | S |\n| 4 | 1 | 1 | Futrelle, Mrs. Jacques Heath (Lily May Peel)        | female | 35 | 1 | 0 | 53.1000 | S |\n| 5 | 0 | 3 | Allen, Mr. William Henry                            | male   | 35 | 0 | 0 |  8.0500 | S |\n| 6 | 0 | 3 | Moran, Mr. James                                    | male   | NA | 0 | 0 |  8.4583 | Q |\n\n",
            "text/html": [
              "<table>\n",
              "<caption>A data.frame: 6 × 9</caption>\n",
              "<thead>\n",
              "\t<tr><th></th><th scope=col>Survived</th><th scope=col>Pclass</th><th scope=col>Name</th><th scope=col>Sex</th><th scope=col>Age</th><th scope=col>SibSp</th><th scope=col>Parch</th><th scope=col>Fare</th><th scope=col>Embarked</th></tr>\n",
              "\t<tr><th></th><th scope=col>&lt;int&gt;</th><th scope=col>&lt;int&gt;</th><th scope=col>&lt;chr&gt;</th><th scope=col>&lt;chr&gt;</th><th scope=col>&lt;dbl&gt;</th><th scope=col>&lt;int&gt;</th><th scope=col>&lt;int&gt;</th><th scope=col>&lt;dbl&gt;</th><th scope=col>&lt;chr&gt;</th></tr>\n",
              "</thead>\n",
              "<tbody>\n",
              "\t<tr><th scope=row>1</th><td>0</td><td>3</td><td>Braund, Mr. Owen Harris                            </td><td>male  </td><td>22</td><td>1</td><td>0</td><td> 7.2500</td><td>S</td></tr>\n",
              "\t<tr><th scope=row>2</th><td>1</td><td>1</td><td>Cumings, Mrs. John Bradley (Florence Briggs Thayer)</td><td>female</td><td>38</td><td>1</td><td>0</td><td>71.2833</td><td>C</td></tr>\n",
              "\t<tr><th scope=row>3</th><td>1</td><td>3</td><td>Heikkinen, Miss. Laina                             </td><td>female</td><td>26</td><td>0</td><td>0</td><td> 7.9250</td><td>S</td></tr>\n",
              "\t<tr><th scope=row>4</th><td>1</td><td>1</td><td>Futrelle, Mrs. Jacques Heath (Lily May Peel)       </td><td>female</td><td>35</td><td>1</td><td>0</td><td>53.1000</td><td>S</td></tr>\n",
              "\t<tr><th scope=row>5</th><td>0</td><td>3</td><td>Allen, Mr. William Henry                           </td><td>male  </td><td>35</td><td>0</td><td>0</td><td> 8.0500</td><td>S</td></tr>\n",
              "\t<tr><th scope=row>6</th><td>0</td><td>3</td><td>Moran, Mr. James                                   </td><td>male  </td><td>NA</td><td>0</td><td>0</td><td> 8.4583</td><td>Q</td></tr>\n",
              "</tbody>\n",
              "</table>\n"
            ]
          },
          "metadata": {
            "tags": []
          }
        }
      ]
    },
    {
      "cell_type": "code",
      "metadata": {
        "colab": {
          "base_uri": "https://localhost:8080/",
          "height": 207
        },
        "id": "SHIbTh24fYkj",
        "outputId": "00cad216-8d79-4081-f93b-dd4bb0b61c47"
      },
      "source": [
        "head(teste)"
      ],
      "execution_count": 6,
      "outputs": [
        {
          "output_type": "display_data",
          "data": {
            "text/plain": [
              "  Pclass Name                                         Sex    Age  SibSp Parch\n",
              "1 3      Kelly, Mr. James                             male   34.5 0     0    \n",
              "2 3      Wilkes, Mrs. James (Ellen Needs)             female 47.0 1     0    \n",
              "3 2      Myles, Mr. Thomas Francis                    male   62.0 0     0    \n",
              "4 3      Wirz, Mr. Albert                             male   27.0 0     0    \n",
              "5 3      Hirvonen, Mrs. Alexander (Helga E Lindqvist) female 22.0 1     1    \n",
              "6 3      Svensson, Mr. Johan Cervin                   male   14.0 0     0    \n",
              "  Fare    Embarked\n",
              "1  7.8292 Q       \n",
              "2  7.0000 S       \n",
              "3  9.6875 Q       \n",
              "4  8.6625 S       \n",
              "5 12.2875 S       \n",
              "6  9.2250 S       "
            ],
            "text/latex": "A data.frame: 6 × 8\n\\begin{tabular}{r|llllllll}\n  & Pclass & Name & Sex & Age & SibSp & Parch & Fare & Embarked\\\\\n  & <int> & <chr> & <chr> & <dbl> & <int> & <int> & <dbl> & <chr>\\\\\n\\hline\n\t1 & 3 & Kelly, Mr. James                             & male   & 34.5 & 0 & 0 &  7.8292 & Q\\\\\n\t2 & 3 & Wilkes, Mrs. James (Ellen Needs)             & female & 47.0 & 1 & 0 &  7.0000 & S\\\\\n\t3 & 2 & Myles, Mr. Thomas Francis                    & male   & 62.0 & 0 & 0 &  9.6875 & Q\\\\\n\t4 & 3 & Wirz, Mr. Albert                             & male   & 27.0 & 0 & 0 &  8.6625 & S\\\\\n\t5 & 3 & Hirvonen, Mrs. Alexander (Helga E Lindqvist) & female & 22.0 & 1 & 1 & 12.2875 & S\\\\\n\t6 & 3 & Svensson, Mr. Johan Cervin                   & male   & 14.0 & 0 & 0 &  9.2250 & S\\\\\n\\end{tabular}\n",
            "text/markdown": "\nA data.frame: 6 × 8\n\n| <!--/--> | Pclass &lt;int&gt; | Name &lt;chr&gt; | Sex &lt;chr&gt; | Age &lt;dbl&gt; | SibSp &lt;int&gt; | Parch &lt;int&gt; | Fare &lt;dbl&gt; | Embarked &lt;chr&gt; |\n|---|---|---|---|---|---|---|---|---|\n| 1 | 3 | Kelly, Mr. James                             | male   | 34.5 | 0 | 0 |  7.8292 | Q |\n| 2 | 3 | Wilkes, Mrs. James (Ellen Needs)             | female | 47.0 | 1 | 0 |  7.0000 | S |\n| 3 | 2 | Myles, Mr. Thomas Francis                    | male   | 62.0 | 0 | 0 |  9.6875 | Q |\n| 4 | 3 | Wirz, Mr. Albert                             | male   | 27.0 | 0 | 0 |  8.6625 | S |\n| 5 | 3 | Hirvonen, Mrs. Alexander (Helga E Lindqvist) | female | 22.0 | 1 | 1 | 12.2875 | S |\n| 6 | 3 | Svensson, Mr. Johan Cervin                   | male   | 14.0 | 0 | 0 |  9.2250 | S |\n\n",
            "text/html": [
              "<table>\n",
              "<caption>A data.frame: 6 × 8</caption>\n",
              "<thead>\n",
              "\t<tr><th></th><th scope=col>Pclass</th><th scope=col>Name</th><th scope=col>Sex</th><th scope=col>Age</th><th scope=col>SibSp</th><th scope=col>Parch</th><th scope=col>Fare</th><th scope=col>Embarked</th></tr>\n",
              "\t<tr><th></th><th scope=col>&lt;int&gt;</th><th scope=col>&lt;chr&gt;</th><th scope=col>&lt;chr&gt;</th><th scope=col>&lt;dbl&gt;</th><th scope=col>&lt;int&gt;</th><th scope=col>&lt;int&gt;</th><th scope=col>&lt;dbl&gt;</th><th scope=col>&lt;chr&gt;</th></tr>\n",
              "</thead>\n",
              "<tbody>\n",
              "\t<tr><th scope=row>1</th><td>3</td><td>Kelly, Mr. James                            </td><td>male  </td><td>34.5</td><td>0</td><td>0</td><td> 7.8292</td><td>Q</td></tr>\n",
              "\t<tr><th scope=row>2</th><td>3</td><td>Wilkes, Mrs. James (Ellen Needs)            </td><td>female</td><td>47.0</td><td>1</td><td>0</td><td> 7.0000</td><td>S</td></tr>\n",
              "\t<tr><th scope=row>3</th><td>2</td><td>Myles, Mr. Thomas Francis                   </td><td>male  </td><td>62.0</td><td>0</td><td>0</td><td> 9.6875</td><td>Q</td></tr>\n",
              "\t<tr><th scope=row>4</th><td>3</td><td>Wirz, Mr. Albert                            </td><td>male  </td><td>27.0</td><td>0</td><td>0</td><td> 8.6625</td><td>S</td></tr>\n",
              "\t<tr><th scope=row>5</th><td>3</td><td>Hirvonen, Mrs. Alexander (Helga E Lindqvist)</td><td>female</td><td>22.0</td><td>1</td><td>1</td><td>12.2875</td><td>S</td></tr>\n",
              "\t<tr><th scope=row>6</th><td>3</td><td>Svensson, Mr. Johan Cervin                  </td><td>male  </td><td>14.0</td><td>0</td><td>0</td><td> 9.2250</td><td>S</td></tr>\n",
              "</tbody>\n",
              "</table>\n"
            ]
          },
          "metadata": {
            "tags": []
          }
        }
      ]
    },
    {
      "cell_type": "markdown",
      "metadata": {
        "id": "w8ovBzKEfjKm"
      },
      "source": [
        "### Verificando por dados faltantes"
      ]
    },
    {
      "cell_type": "code",
      "metadata": {
        "id": "xhkETwqNdhg8"
      },
      "source": [
        "# verificando dados faltantes\n",
        "is.na(treino)"
      ],
      "execution_count": null,
      "outputs": []
    },
    {
      "cell_type": "code",
      "metadata": {
        "colab": {
          "base_uri": "https://localhost:8080/",
          "height": 34
        },
        "id": "LQG1uQBucnql",
        "outputId": "65650817-268b-4fe9-c70b-19f076614810"
      },
      "source": [
        "colSums(is.na(treino))"
      ],
      "execution_count": 8,
      "outputs": [
        {
          "output_type": "display_data",
          "data": {
            "text/plain": [
              "Survived   Pclass     Name      Sex      Age    SibSp    Parch     Fare \n",
              "       0        0        0        0      177        0        0        0 \n",
              "Embarked \n",
              "       0 "
            ],
            "text/latex": "\\begin{description*}\n\\item[Survived] 0\n\\item[Pclass] 0\n\\item[Name] 0\n\\item[Sex] 0\n\\item[Age] 177\n\\item[SibSp] 0\n\\item[Parch] 0\n\\item[Fare] 0\n\\item[Embarked] 0\n\\end{description*}\n",
            "text/markdown": "Survived\n:   0Pclass\n:   0Name\n:   0Sex\n:   0Age\n:   177SibSp\n:   0Parch\n:   0Fare\n:   0Embarked\n:   0\n\n",
            "text/html": [
              "<style>\n",
              ".dl-inline {width: auto; margin:0; padding: 0}\n",
              ".dl-inline>dt, .dl-inline>dd {float: none; width: auto; display: inline-block}\n",
              ".dl-inline>dt::after {content: \":\\0020\"; padding-right: .5ex}\n",
              ".dl-inline>dt:not(:first-of-type) {padding-left: .5ex}\n",
              "</style><dl class=dl-inline><dt>Survived</dt><dd>0</dd><dt>Pclass</dt><dd>0</dd><dt>Name</dt><dd>0</dd><dt>Sex</dt><dd>0</dd><dt>Age</dt><dd>177</dd><dt>SibSp</dt><dd>0</dd><dt>Parch</dt><dd>0</dd><dt>Fare</dt><dd>0</dd><dt>Embarked</dt><dd>0</dd></dl>\n"
            ]
          },
          "metadata": {
            "tags": []
          }
        }
      ]
    },
    {
      "cell_type": "code",
      "metadata": {
        "colab": {
          "base_uri": "https://localhost:8080/",
          "height": 34
        },
        "id": "Zxg5B_Ulf4sJ",
        "outputId": "658c16c9-adc2-40c2-df39-998ad5b2e3ae"
      },
      "source": [
        "colSums(is.na(teste))"
      ],
      "execution_count": 9,
      "outputs": [
        {
          "output_type": "display_data",
          "data": {
            "text/plain": [
              "  Pclass     Name      Sex      Age    SibSp    Parch     Fare Embarked \n",
              "       0        0        0       86        0        0        1        0 "
            ],
            "text/latex": "\\begin{description*}\n\\item[Pclass] 0\n\\item[Name] 0\n\\item[Sex] 0\n\\item[Age] 86\n\\item[SibSp] 0\n\\item[Parch] 0\n\\item[Fare] 1\n\\item[Embarked] 0\n\\end{description*}\n",
            "text/markdown": "Pclass\n:   0Name\n:   0Sex\n:   0Age\n:   86SibSp\n:   0Parch\n:   0Fare\n:   1Embarked\n:   0\n\n",
            "text/html": [
              "<style>\n",
              ".dl-inline {width: auto; margin:0; padding: 0}\n",
              ".dl-inline>dt, .dl-inline>dd {float: none; width: auto; display: inline-block}\n",
              ".dl-inline>dt::after {content: \":\\0020\"; padding-right: .5ex}\n",
              ".dl-inline>dt:not(:first-of-type) {padding-left: .5ex}\n",
              "</style><dl class=dl-inline><dt>Pclass</dt><dd>0</dd><dt>Name</dt><dd>0</dd><dt>Sex</dt><dd>0</dd><dt>Age</dt><dd>86</dd><dt>SibSp</dt><dd>0</dd><dt>Parch</dt><dd>0</dd><dt>Fare</dt><dd>1</dd><dt>Embarked</dt><dd>0</dd></dl>\n"
            ]
          },
          "metadata": {
            "tags": []
          }
        }
      ]
    },
    {
      "cell_type": "code",
      "metadata": {
        "id": "GsYzr4Z0cow8"
      },
      "source": [
        "treino$Age[is.na(treino$Age)] = median(treino$Age, na.rm = TRUE)\n",
        "\n",
        "# modificar o teste usando apenas a informacao no treino\n",
        "teste$Age[is.na(teste$Age)] = median(treino$Age, na.rm = TRUE)\n",
        "\n",
        "\n",
        "teste$Fare[is.na(teste$Fare)] = median(treino$Fare, na.rm = TRUE)"
      ],
      "execution_count": 14,
      "outputs": []
    },
    {
      "cell_type": "code",
      "metadata": {
        "colab": {
          "base_uri": "https://localhost:8080/",
          "height": 34
        },
        "id": "etuUr26Sf8Ux",
        "outputId": "82348986-398d-4e15-82fb-802dc5dfa9db"
      },
      "source": [
        "colSums(is.na(treino))"
      ],
      "execution_count": 15,
      "outputs": [
        {
          "output_type": "display_data",
          "data": {
            "text/plain": [
              "Survived   Pclass     Name      Sex      Age    SibSp    Parch     Fare \n",
              "       0        0        0        0        0        0        0        0 \n",
              "Embarked \n",
              "       0 "
            ],
            "text/latex": "\\begin{description*}\n\\item[Survived] 0\n\\item[Pclass] 0\n\\item[Name] 0\n\\item[Sex] 0\n\\item[Age] 0\n\\item[SibSp] 0\n\\item[Parch] 0\n\\item[Fare] 0\n\\item[Embarked] 0\n\\end{description*}\n",
            "text/markdown": "Survived\n:   0Pclass\n:   0Name\n:   0Sex\n:   0Age\n:   0SibSp\n:   0Parch\n:   0Fare\n:   0Embarked\n:   0\n\n",
            "text/html": [
              "<style>\n",
              ".dl-inline {width: auto; margin:0; padding: 0}\n",
              ".dl-inline>dt, .dl-inline>dd {float: none; width: auto; display: inline-block}\n",
              ".dl-inline>dt::after {content: \":\\0020\"; padding-right: .5ex}\n",
              ".dl-inline>dt:not(:first-of-type) {padding-left: .5ex}\n",
              "</style><dl class=dl-inline><dt>Survived</dt><dd>0</dd><dt>Pclass</dt><dd>0</dd><dt>Name</dt><dd>0</dd><dt>Sex</dt><dd>0</dd><dt>Age</dt><dd>0</dd><dt>SibSp</dt><dd>0</dd><dt>Parch</dt><dd>0</dd><dt>Fare</dt><dd>0</dd><dt>Embarked</dt><dd>0</dd></dl>\n"
            ]
          },
          "metadata": {
            "tags": []
          }
        }
      ]
    },
    {
      "cell_type": "code",
      "metadata": {
        "colab": {
          "base_uri": "https://localhost:8080/",
          "height": 34
        },
        "id": "teIugXd7f8Ux",
        "outputId": "9dc6497b-2042-49df-f9b9-1e116cc520bb"
      },
      "source": [
        "colSums(is.na(teste))"
      ],
      "execution_count": 16,
      "outputs": [
        {
          "output_type": "display_data",
          "data": {
            "text/plain": [
              "  Pclass     Name      Sex      Age    SibSp    Parch     Fare Embarked \n",
              "       0        0        0        0        0        0        0        0 "
            ],
            "text/latex": "\\begin{description*}\n\\item[Pclass] 0\n\\item[Name] 0\n\\item[Sex] 0\n\\item[Age] 0\n\\item[SibSp] 0\n\\item[Parch] 0\n\\item[Fare] 0\n\\item[Embarked] 0\n\\end{description*}\n",
            "text/markdown": "Pclass\n:   0Name\n:   0Sex\n:   0Age\n:   0SibSp\n:   0Parch\n:   0Fare\n:   0Embarked\n:   0\n\n",
            "text/html": [
              "<style>\n",
              ".dl-inline {width: auto; margin:0; padding: 0}\n",
              ".dl-inline>dt, .dl-inline>dd {float: none; width: auto; display: inline-block}\n",
              ".dl-inline>dt::after {content: \":\\0020\"; padding-right: .5ex}\n",
              ".dl-inline>dt:not(:first-of-type) {padding-left: .5ex}\n",
              "</style><dl class=dl-inline><dt>Pclass</dt><dd>0</dd><dt>Name</dt><dd>0</dd><dt>Sex</dt><dd>0</dd><dt>Age</dt><dd>0</dd><dt>SibSp</dt><dd>0</dd><dt>Parch</dt><dd>0</dd><dt>Fare</dt><dd>0</dd><dt>Embarked</dt><dd>0</dd></dl>\n"
            ]
          },
          "metadata": {
            "tags": []
          }
        }
      ]
    },
    {
      "cell_type": "markdown",
      "metadata": {
        "id": "75uSjzv6eEmp"
      },
      "source": [
        "### Dummificação das variáveis categóricas\n",
        "\n",
        "Todas variaveis precisam ser numéricas para ML"
      ]
    },
    {
      "cell_type": "code",
      "metadata": {
        "id": "OUvDUc7_hkt7"
      },
      "source": [
        "treino$Sex = ifelse(treino$Sex == 'male', 1, 0)\n",
        "teste$Sex = ifelse(teste$Sex == 'male', 1, 0)"
      ],
      "execution_count": 19,
      "outputs": []
    },
    {
      "cell_type": "code",
      "metadata": {
        "id": "Glmgzeyxip4l"
      },
      "source": [
        "treino$Embarked"
      ],
      "execution_count": null,
      "outputs": []
    },
    {
      "cell_type": "code",
      "metadata": {
        "id": "o3eZQjENgLSw"
      },
      "source": [
        "treino$EmbarkedC = ifelse(treino$Embarked == 'C', 1, 0)\n",
        "treino$EmbarkedQ = ifelse(treino$Embarked == 'Q', 1, 0)\n",
        "treino$EmbarkedS = ifelse(treino$Embarked == 'S', 1, 0)\n",
        "\n",
        "treino$Pclass1 = ifelse(treino$Pclass == 1, 1, 0)\n",
        "treino$Pclass2 = ifelse(treino$Pclass == 2, 1, 0)\n",
        "treino$Pclass3 = ifelse(treino$Pclass == 3, 1, 0)\n",
        "\n",
        "\n",
        "teste$EmbarkedC = ifelse(teste$Embarked == 'C', 1, 0)\n",
        "teste$EmbarkedQ = ifelse(teste$Embarked == 'Q', 1, 0)\n",
        "teste$EmbarkedS = ifelse(teste$Embarked == 'S', 1, 0)\n",
        "\n",
        "teste$Pclass1 = ifelse(teste$Pclass == 1, 1, 0)\n",
        "teste$Pclass2 = ifelse(teste$Pclass == 2, 1, 0)\n",
        "teste$Pclass3 = ifelse(teste$Pclass == 3, 1, 0)"
      ],
      "execution_count": 20,
      "outputs": []
    },
    {
      "cell_type": "code",
      "metadata": {
        "colab": {
          "base_uri": "https://localhost:8080/",
          "height": 433
        },
        "id": "DdHub-0nVcon",
        "outputId": "5e00da15-baa4-4601-e2e6-fde22bd07650"
      },
      "source": [
        "head(treino)"
      ],
      "execution_count": 21,
      "outputs": [
        {
          "output_type": "display_data",
          "data": {
            "text/plain": [
              "  Survived Pclass Name                                                Sex Age\n",
              "1 0        3      Braund, Mr. Owen Harris                             1   22 \n",
              "2 1        1      Cumings, Mrs. John Bradley (Florence Briggs Thayer) 0   38 \n",
              "3 1        3      Heikkinen, Miss. Laina                              0   26 \n",
              "4 1        1      Futrelle, Mrs. Jacques Heath (Lily May Peel)        0   35 \n",
              "5 0        3      Allen, Mr. William Henry                            1   35 \n",
              "6 0        3      Moran, Mr. James                                    1   28 \n",
              "  SibSp Parch Fare    Embarked EmbarkedC EmbarkedQ EmbarkedS Pclass1 Pclass2\n",
              "1 1     0      7.2500 S        0         0         1         0       0      \n",
              "2 1     0     71.2833 C        1         0         0         1       0      \n",
              "3 0     0      7.9250 S        0         0         1         0       0      \n",
              "4 1     0     53.1000 S        0         0         1         1       0      \n",
              "5 0     0      8.0500 S        0         0         1         0       0      \n",
              "6 0     0      8.4583 Q        0         1         0         0       0      \n",
              "  Pclass3\n",
              "1 1      \n",
              "2 0      \n",
              "3 1      \n",
              "4 0      \n",
              "5 1      \n",
              "6 1      "
            ],
            "text/latex": "A data.frame: 6 × 15\n\\begin{tabular}{r|lllllllllllllll}\n  & Survived & Pclass & Name & Sex & Age & SibSp & Parch & Fare & Embarked & EmbarkedC & EmbarkedQ & EmbarkedS & Pclass1 & Pclass2 & Pclass3\\\\\n  & <int> & <int> & <chr> & <dbl> & <dbl> & <int> & <int> & <dbl> & <chr> & <dbl> & <dbl> & <dbl> & <dbl> & <dbl> & <dbl>\\\\\n\\hline\n\t1 & 0 & 3 & Braund, Mr. Owen Harris                             & 1 & 22 & 1 & 0 &  7.2500 & S & 0 & 0 & 1 & 0 & 0 & 1\\\\\n\t2 & 1 & 1 & Cumings, Mrs. John Bradley (Florence Briggs Thayer) & 0 & 38 & 1 & 0 & 71.2833 & C & 1 & 0 & 0 & 1 & 0 & 0\\\\\n\t3 & 1 & 3 & Heikkinen, Miss. Laina                              & 0 & 26 & 0 & 0 &  7.9250 & S & 0 & 0 & 1 & 0 & 0 & 1\\\\\n\t4 & 1 & 1 & Futrelle, Mrs. Jacques Heath (Lily May Peel)        & 0 & 35 & 1 & 0 & 53.1000 & S & 0 & 0 & 1 & 1 & 0 & 0\\\\\n\t5 & 0 & 3 & Allen, Mr. William Henry                            & 1 & 35 & 0 & 0 &  8.0500 & S & 0 & 0 & 1 & 0 & 0 & 1\\\\\n\t6 & 0 & 3 & Moran, Mr. James                                    & 1 & 28 & 0 & 0 &  8.4583 & Q & 0 & 1 & 0 & 0 & 0 & 1\\\\\n\\end{tabular}\n",
            "text/markdown": "\nA data.frame: 6 × 15\n\n| <!--/--> | Survived &lt;int&gt; | Pclass &lt;int&gt; | Name &lt;chr&gt; | Sex &lt;dbl&gt; | Age &lt;dbl&gt; | SibSp &lt;int&gt; | Parch &lt;int&gt; | Fare &lt;dbl&gt; | Embarked &lt;chr&gt; | EmbarkedC &lt;dbl&gt; | EmbarkedQ &lt;dbl&gt; | EmbarkedS &lt;dbl&gt; | Pclass1 &lt;dbl&gt; | Pclass2 &lt;dbl&gt; | Pclass3 &lt;dbl&gt; |\n|---|---|---|---|---|---|---|---|---|---|---|---|---|---|---|---|\n| 1 | 0 | 3 | Braund, Mr. Owen Harris                             | 1 | 22 | 1 | 0 |  7.2500 | S | 0 | 0 | 1 | 0 | 0 | 1 |\n| 2 | 1 | 1 | Cumings, Mrs. John Bradley (Florence Briggs Thayer) | 0 | 38 | 1 | 0 | 71.2833 | C | 1 | 0 | 0 | 1 | 0 | 0 |\n| 3 | 1 | 3 | Heikkinen, Miss. Laina                              | 0 | 26 | 0 | 0 |  7.9250 | S | 0 | 0 | 1 | 0 | 0 | 1 |\n| 4 | 1 | 1 | Futrelle, Mrs. Jacques Heath (Lily May Peel)        | 0 | 35 | 1 | 0 | 53.1000 | S | 0 | 0 | 1 | 1 | 0 | 0 |\n| 5 | 0 | 3 | Allen, Mr. William Henry                            | 1 | 35 | 0 | 0 |  8.0500 | S | 0 | 0 | 1 | 0 | 0 | 1 |\n| 6 | 0 | 3 | Moran, Mr. James                                    | 1 | 28 | 0 | 0 |  8.4583 | Q | 0 | 1 | 0 | 0 | 0 | 1 |\n\n",
            "text/html": [
              "<table>\n",
              "<caption>A data.frame: 6 × 15</caption>\n",
              "<thead>\n",
              "\t<tr><th></th><th scope=col>Survived</th><th scope=col>Pclass</th><th scope=col>Name</th><th scope=col>Sex</th><th scope=col>Age</th><th scope=col>SibSp</th><th scope=col>Parch</th><th scope=col>Fare</th><th scope=col>Embarked</th><th scope=col>EmbarkedC</th><th scope=col>EmbarkedQ</th><th scope=col>EmbarkedS</th><th scope=col>Pclass1</th><th scope=col>Pclass2</th><th scope=col>Pclass3</th></tr>\n",
              "\t<tr><th></th><th scope=col>&lt;int&gt;</th><th scope=col>&lt;int&gt;</th><th scope=col>&lt;chr&gt;</th><th scope=col>&lt;dbl&gt;</th><th scope=col>&lt;dbl&gt;</th><th scope=col>&lt;int&gt;</th><th scope=col>&lt;int&gt;</th><th scope=col>&lt;dbl&gt;</th><th scope=col>&lt;chr&gt;</th><th scope=col>&lt;dbl&gt;</th><th scope=col>&lt;dbl&gt;</th><th scope=col>&lt;dbl&gt;</th><th scope=col>&lt;dbl&gt;</th><th scope=col>&lt;dbl&gt;</th><th scope=col>&lt;dbl&gt;</th></tr>\n",
              "</thead>\n",
              "<tbody>\n",
              "\t<tr><th scope=row>1</th><td>0</td><td>3</td><td>Braund, Mr. Owen Harris                            </td><td>1</td><td>22</td><td>1</td><td>0</td><td> 7.2500</td><td>S</td><td>0</td><td>0</td><td>1</td><td>0</td><td>0</td><td>1</td></tr>\n",
              "\t<tr><th scope=row>2</th><td>1</td><td>1</td><td>Cumings, Mrs. John Bradley (Florence Briggs Thayer)</td><td>0</td><td>38</td><td>1</td><td>0</td><td>71.2833</td><td>C</td><td>1</td><td>0</td><td>0</td><td>1</td><td>0</td><td>0</td></tr>\n",
              "\t<tr><th scope=row>3</th><td>1</td><td>3</td><td>Heikkinen, Miss. Laina                             </td><td>0</td><td>26</td><td>0</td><td>0</td><td> 7.9250</td><td>S</td><td>0</td><td>0</td><td>1</td><td>0</td><td>0</td><td>1</td></tr>\n",
              "\t<tr><th scope=row>4</th><td>1</td><td>1</td><td>Futrelle, Mrs. Jacques Heath (Lily May Peel)       </td><td>0</td><td>35</td><td>1</td><td>0</td><td>53.1000</td><td>S</td><td>0</td><td>0</td><td>1</td><td>1</td><td>0</td><td>0</td></tr>\n",
              "\t<tr><th scope=row>5</th><td>0</td><td>3</td><td>Allen, Mr. William Henry                           </td><td>1</td><td>35</td><td>0</td><td>0</td><td> 8.0500</td><td>S</td><td>0</td><td>0</td><td>1</td><td>0</td><td>0</td><td>1</td></tr>\n",
              "\t<tr><th scope=row>6</th><td>0</td><td>3</td><td>Moran, Mr. James                                   </td><td>1</td><td>28</td><td>0</td><td>0</td><td> 8.4583</td><td>Q</td><td>0</td><td>1</td><td>0</td><td>0</td><td>0</td><td>1</td></tr>\n",
              "</tbody>\n",
              "</table>\n"
            ]
          },
          "metadata": {
            "tags": []
          }
        }
      ]
    },
    {
      "cell_type": "code",
      "metadata": {
        "id": "nF1ldotghutv"
      },
      "source": [
        "treino = treino[, -c(2,9)]\n",
        "teste = teste[, -c(1,8)]"
      ],
      "execution_count": 22,
      "outputs": []
    },
    {
      "cell_type": "code",
      "metadata": {
        "colab": {
          "base_uri": "https://localhost:8080/",
          "height": 225
        },
        "id": "NrwAp-QnjVRW",
        "outputId": "b249462b-5892-4298-bded-07b97ae8a53f"
      },
      "source": [
        "head(teste)"
      ],
      "execution_count": 23,
      "outputs": [
        {
          "output_type": "display_data",
          "data": {
            "text/plain": [
              "  Name                                         Sex Age  SibSp Parch Fare   \n",
              "1 Kelly, Mr. James                             1   34.5 0     0      7.8292\n",
              "2 Wilkes, Mrs. James (Ellen Needs)             0   47.0 1     0      7.0000\n",
              "3 Myles, Mr. Thomas Francis                    1   62.0 0     0      9.6875\n",
              "4 Wirz, Mr. Albert                             1   27.0 0     0      8.6625\n",
              "5 Hirvonen, Mrs. Alexander (Helga E Lindqvist) 0   22.0 1     1     12.2875\n",
              "6 Svensson, Mr. Johan Cervin                   1   14.0 0     0      9.2250\n",
              "  EmbarkedC EmbarkedQ EmbarkedS Pclass1 Pclass2 Pclass3\n",
              "1 0         1         0         0       0       1      \n",
              "2 0         0         1         0       0       1      \n",
              "3 0         1         0         0       1       0      \n",
              "4 0         0         1         0       0       1      \n",
              "5 0         0         1         0       0       1      \n",
              "6 0         0         1         0       0       1      "
            ],
            "text/latex": "A data.frame: 6 × 12\n\\begin{tabular}{r|llllllllllll}\n  & Name & Sex & Age & SibSp & Parch & Fare & EmbarkedC & EmbarkedQ & EmbarkedS & Pclass1 & Pclass2 & Pclass3\\\\\n  & <chr> & <dbl> & <dbl> & <int> & <int> & <dbl> & <dbl> & <dbl> & <dbl> & <dbl> & <dbl> & <dbl>\\\\\n\\hline\n\t1 & Kelly, Mr. James                             & 1 & 34.5 & 0 & 0 &  7.8292 & 0 & 1 & 0 & 0 & 0 & 1\\\\\n\t2 & Wilkes, Mrs. James (Ellen Needs)             & 0 & 47.0 & 1 & 0 &  7.0000 & 0 & 0 & 1 & 0 & 0 & 1\\\\\n\t3 & Myles, Mr. Thomas Francis                    & 1 & 62.0 & 0 & 0 &  9.6875 & 0 & 1 & 0 & 0 & 1 & 0\\\\\n\t4 & Wirz, Mr. Albert                             & 1 & 27.0 & 0 & 0 &  8.6625 & 0 & 0 & 1 & 0 & 0 & 1\\\\\n\t5 & Hirvonen, Mrs. Alexander (Helga E Lindqvist) & 0 & 22.0 & 1 & 1 & 12.2875 & 0 & 0 & 1 & 0 & 0 & 1\\\\\n\t6 & Svensson, Mr. Johan Cervin                   & 1 & 14.0 & 0 & 0 &  9.2250 & 0 & 0 & 1 & 0 & 0 & 1\\\\\n\\end{tabular}\n",
            "text/markdown": "\nA data.frame: 6 × 12\n\n| <!--/--> | Name &lt;chr&gt; | Sex &lt;dbl&gt; | Age &lt;dbl&gt; | SibSp &lt;int&gt; | Parch &lt;int&gt; | Fare &lt;dbl&gt; | EmbarkedC &lt;dbl&gt; | EmbarkedQ &lt;dbl&gt; | EmbarkedS &lt;dbl&gt; | Pclass1 &lt;dbl&gt; | Pclass2 &lt;dbl&gt; | Pclass3 &lt;dbl&gt; |\n|---|---|---|---|---|---|---|---|---|---|---|---|---|\n| 1 | Kelly, Mr. James                             | 1 | 34.5 | 0 | 0 |  7.8292 | 0 | 1 | 0 | 0 | 0 | 1 |\n| 2 | Wilkes, Mrs. James (Ellen Needs)             | 0 | 47.0 | 1 | 0 |  7.0000 | 0 | 0 | 1 | 0 | 0 | 1 |\n| 3 | Myles, Mr. Thomas Francis                    | 1 | 62.0 | 0 | 0 |  9.6875 | 0 | 1 | 0 | 0 | 1 | 0 |\n| 4 | Wirz, Mr. Albert                             | 1 | 27.0 | 0 | 0 |  8.6625 | 0 | 0 | 1 | 0 | 0 | 1 |\n| 5 | Hirvonen, Mrs. Alexander (Helga E Lindqvist) | 0 | 22.0 | 1 | 1 | 12.2875 | 0 | 0 | 1 | 0 | 0 | 1 |\n| 6 | Svensson, Mr. Johan Cervin                   | 1 | 14.0 | 0 | 0 |  9.2250 | 0 | 0 | 1 | 0 | 0 | 1 |\n\n",
            "text/html": [
              "<table>\n",
              "<caption>A data.frame: 6 × 12</caption>\n",
              "<thead>\n",
              "\t<tr><th></th><th scope=col>Name</th><th scope=col>Sex</th><th scope=col>Age</th><th scope=col>SibSp</th><th scope=col>Parch</th><th scope=col>Fare</th><th scope=col>EmbarkedC</th><th scope=col>EmbarkedQ</th><th scope=col>EmbarkedS</th><th scope=col>Pclass1</th><th scope=col>Pclass2</th><th scope=col>Pclass3</th></tr>\n",
              "\t<tr><th></th><th scope=col>&lt;chr&gt;</th><th scope=col>&lt;dbl&gt;</th><th scope=col>&lt;dbl&gt;</th><th scope=col>&lt;int&gt;</th><th scope=col>&lt;int&gt;</th><th scope=col>&lt;dbl&gt;</th><th scope=col>&lt;dbl&gt;</th><th scope=col>&lt;dbl&gt;</th><th scope=col>&lt;dbl&gt;</th><th scope=col>&lt;dbl&gt;</th><th scope=col>&lt;dbl&gt;</th><th scope=col>&lt;dbl&gt;</th></tr>\n",
              "</thead>\n",
              "<tbody>\n",
              "\t<tr><th scope=row>1</th><td>Kelly, Mr. James                            </td><td>1</td><td>34.5</td><td>0</td><td>0</td><td> 7.8292</td><td>0</td><td>1</td><td>0</td><td>0</td><td>0</td><td>1</td></tr>\n",
              "\t<tr><th scope=row>2</th><td>Wilkes, Mrs. James (Ellen Needs)            </td><td>0</td><td>47.0</td><td>1</td><td>0</td><td> 7.0000</td><td>0</td><td>0</td><td>1</td><td>0</td><td>0</td><td>1</td></tr>\n",
              "\t<tr><th scope=row>3</th><td>Myles, Mr. Thomas Francis                   </td><td>1</td><td>62.0</td><td>0</td><td>0</td><td> 9.6875</td><td>0</td><td>1</td><td>0</td><td>0</td><td>1</td><td>0</td></tr>\n",
              "\t<tr><th scope=row>4</th><td>Wirz, Mr. Albert                            </td><td>1</td><td>27.0</td><td>0</td><td>0</td><td> 8.6625</td><td>0</td><td>0</td><td>1</td><td>0</td><td>0</td><td>1</td></tr>\n",
              "\t<tr><th scope=row>5</th><td>Hirvonen, Mrs. Alexander (Helga E Lindqvist)</td><td>0</td><td>22.0</td><td>1</td><td>1</td><td>12.2875</td><td>0</td><td>0</td><td>1</td><td>0</td><td>0</td><td>1</td></tr>\n",
              "\t<tr><th scope=row>6</th><td>Svensson, Mr. Johan Cervin                  </td><td>1</td><td>14.0</td><td>0</td><td>0</td><td> 9.2250</td><td>0</td><td>0</td><td>1</td><td>0</td><td>0</td><td>1</td></tr>\n",
              "</tbody>\n",
              "</table>\n"
            ]
          },
          "metadata": {
            "tags": []
          }
        }
      ]
    },
    {
      "cell_type": "markdown",
      "metadata": {
        "id": "T7QQknbNjfXB"
      },
      "source": [
        "### Escala das variáveis contínuas"
      ]
    },
    {
      "cell_type": "code",
      "metadata": {
        "id": "ML4qWGiwWkTi"
      },
      "source": [
        "hist(treino$Fare)"
      ],
      "execution_count": null,
      "outputs": []
    },
    {
      "cell_type": "code",
      "metadata": {
        "colab": {
          "base_uri": "https://localhost:8080/",
          "height": 86
        },
        "id": "UYyhleUTjWH_",
        "outputId": "97e35ff8-1484-4ec3-8234-81187a90ffbf"
      },
      "source": [
        "mean(treino$Fare)\n",
        "sd(treino$Fare)\n",
        "\n",
        "mean(teste$Fare)\n",
        "sd(teste$Fare)"
      ],
      "execution_count": 29,
      "outputs": [
        {
          "output_type": "display_data",
          "data": {
            "text/plain": [
              "[1] -5.884139e-18"
            ],
            "text/latex": "-5.88413919783491e-18",
            "text/markdown": "-5.88413919783491e-18",
            "text/html": [
              "-5.88413919783491e-18"
            ]
          },
          "metadata": {
            "tags": []
          }
        },
        {
          "output_type": "display_data",
          "data": {
            "text/plain": [
              "[1] 1"
            ],
            "text/latex": "1",
            "text/markdown": "1",
            "text/html": [
              "1"
            ]
          },
          "metadata": {
            "tags": []
          }
        },
        {
          "output_type": "display_data",
          "data": {
            "text/plain": [
              "[1] 0.06786264"
            ],
            "text/latex": "0.0678626436799179",
            "text/markdown": "0.0678626436799179",
            "text/html": [
              "0.0678626436799179"
            ]
          },
          "metadata": {
            "tags": []
          }
        },
        {
          "output_type": "display_data",
          "data": {
            "text/plain": [
              "[1] 1.123893"
            ],
            "text/latex": "1.12389312371258",
            "text/markdown": "1.12389312371258",
            "text/html": [
              "1.12389312371258"
            ]
          },
          "metadata": {
            "tags": []
          }
        }
      ]
    },
    {
      "cell_type": "code",
      "metadata": {
        "id": "c9CX8x0Qjy-C"
      },
      "source": [
        "m = mean(treino$Age)\n",
        "d = sd(treino$Age)\n",
        "\n",
        "treino$Age = (treino$Age - m)/d\n",
        "teste$Age = (teste$Age - m)/d\n"
      ],
      "execution_count": 27,
      "outputs": []
    },
    {
      "cell_type": "code",
      "metadata": {
        "id": "5KMPuDw_kX4p"
      },
      "source": [
        "m = mean(treino$Fare)\n",
        "d = sd(treino$Fare)\n",
        "\n",
        "treino$Fare = (treino$Fare - m)/d\n",
        "teste$Fare = (teste$Fare - m)/d"
      ],
      "execution_count": 28,
      "outputs": []
    },
    {
      "cell_type": "code",
      "metadata": {
        "colab": {
          "base_uri": "https://localhost:8080/",
          "height": 398
        },
        "id": "UCly5iC3lZq9",
        "outputId": "9f4237eb-3b56-4ac0-9e41-94baad7e0e07"
      },
      "source": [
        "head(treino)"
      ],
      "execution_count": 35,
      "outputs": [
        {
          "output_type": "display_data",
          "data": {
            "text/plain": [
              "  Survived Name                                                Sex Age       \n",
              "1 0        Braund, Mr. Owen Harris                             1   -0.5654189\n",
              "2 1        Cumings, Mrs. John Bradley (Florence Briggs Thayer) 0    0.6634884\n",
              "3 1        Heikkinen, Miss. Laina                              0   -0.2581921\n",
              "4 1        Futrelle, Mrs. Jacques Heath (Lily May Peel)        0    0.4330683\n",
              "5 0        Allen, Mr. William Henry                            1    0.4330683\n",
              "6 0        Moran, Mr. James                                    1   -0.1045787\n",
              "  SibSp Parch Fare       EmbarkedC EmbarkedQ EmbarkedS Pclass1 Pclass2 Pclass3\n",
              "1 1     0     -0.5021631 0         0         1         0       0       1      \n",
              "2 1     0      0.7864036 1         0         0         1       0       0      \n",
              "3 0     0     -0.4885799 0         0         1         0       0       1      \n",
              "4 1     0      0.4204941 0         0         1         1       0       0      \n",
              "5 0     0     -0.4860644 0         0         1         0       0       1      \n",
              "6 0     0     -0.4778481 0         1         0         0       0       1      \n",
              "  Sozinho\n",
              "1 0      \n",
              "2 0      \n",
              "3 1      \n",
              "4 0      \n",
              "5 1      \n",
              "6 1      "
            ],
            "text/latex": "A data.frame: 6 × 14\n\\begin{tabular}{r|llllllllllllll}\n  & Survived & Name & Sex & Age & SibSp & Parch & Fare & EmbarkedC & EmbarkedQ & EmbarkedS & Pclass1 & Pclass2 & Pclass3 & Sozinho\\\\\n  & <int> & <chr> & <dbl> & <dbl> & <int> & <int> & <dbl> & <dbl> & <dbl> & <dbl> & <dbl> & <dbl> & <dbl> & <dbl>\\\\\n\\hline\n\t1 & 0 & Braund, Mr. Owen Harris                             & 1 & -0.5654189 & 1 & 0 & -0.5021631 & 0 & 0 & 1 & 0 & 0 & 1 & 0\\\\\n\t2 & 1 & Cumings, Mrs. John Bradley (Florence Briggs Thayer) & 0 &  0.6634884 & 1 & 0 &  0.7864036 & 1 & 0 & 0 & 1 & 0 & 0 & 0\\\\\n\t3 & 1 & Heikkinen, Miss. Laina                              & 0 & -0.2581921 & 0 & 0 & -0.4885799 & 0 & 0 & 1 & 0 & 0 & 1 & 1\\\\\n\t4 & 1 & Futrelle, Mrs. Jacques Heath (Lily May Peel)        & 0 &  0.4330683 & 1 & 0 &  0.4204941 & 0 & 0 & 1 & 1 & 0 & 0 & 0\\\\\n\t5 & 0 & Allen, Mr. William Henry                            & 1 &  0.4330683 & 0 & 0 & -0.4860644 & 0 & 0 & 1 & 0 & 0 & 1 & 1\\\\\n\t6 & 0 & Moran, Mr. James                                    & 1 & -0.1045787 & 0 & 0 & -0.4778481 & 0 & 1 & 0 & 0 & 0 & 1 & 1\\\\\n\\end{tabular}\n",
            "text/markdown": "\nA data.frame: 6 × 14\n\n| <!--/--> | Survived &lt;int&gt; | Name &lt;chr&gt; | Sex &lt;dbl&gt; | Age &lt;dbl&gt; | SibSp &lt;int&gt; | Parch &lt;int&gt; | Fare &lt;dbl&gt; | EmbarkedC &lt;dbl&gt; | EmbarkedQ &lt;dbl&gt; | EmbarkedS &lt;dbl&gt; | Pclass1 &lt;dbl&gt; | Pclass2 &lt;dbl&gt; | Pclass3 &lt;dbl&gt; | Sozinho &lt;dbl&gt; |\n|---|---|---|---|---|---|---|---|---|---|---|---|---|---|---|\n| 1 | 0 | Braund, Mr. Owen Harris                             | 1 | -0.5654189 | 1 | 0 | -0.5021631 | 0 | 0 | 1 | 0 | 0 | 1 | 0 |\n| 2 | 1 | Cumings, Mrs. John Bradley (Florence Briggs Thayer) | 0 |  0.6634884 | 1 | 0 |  0.7864036 | 1 | 0 | 0 | 1 | 0 | 0 | 0 |\n| 3 | 1 | Heikkinen, Miss. Laina                              | 0 | -0.2581921 | 0 | 0 | -0.4885799 | 0 | 0 | 1 | 0 | 0 | 1 | 1 |\n| 4 | 1 | Futrelle, Mrs. Jacques Heath (Lily May Peel)        | 0 |  0.4330683 | 1 | 0 |  0.4204941 | 0 | 0 | 1 | 1 | 0 | 0 | 0 |\n| 5 | 0 | Allen, Mr. William Henry                            | 1 |  0.4330683 | 0 | 0 | -0.4860644 | 0 | 0 | 1 | 0 | 0 | 1 | 1 |\n| 6 | 0 | Moran, Mr. James                                    | 1 | -0.1045787 | 0 | 0 | -0.4778481 | 0 | 1 | 0 | 0 | 0 | 1 | 1 |\n\n",
            "text/html": [
              "<table>\n",
              "<caption>A data.frame: 6 × 14</caption>\n",
              "<thead>\n",
              "\t<tr><th></th><th scope=col>Survived</th><th scope=col>Name</th><th scope=col>Sex</th><th scope=col>Age</th><th scope=col>SibSp</th><th scope=col>Parch</th><th scope=col>Fare</th><th scope=col>EmbarkedC</th><th scope=col>EmbarkedQ</th><th scope=col>EmbarkedS</th><th scope=col>Pclass1</th><th scope=col>Pclass2</th><th scope=col>Pclass3</th><th scope=col>Sozinho</th></tr>\n",
              "\t<tr><th></th><th scope=col>&lt;int&gt;</th><th scope=col>&lt;chr&gt;</th><th scope=col>&lt;dbl&gt;</th><th scope=col>&lt;dbl&gt;</th><th scope=col>&lt;int&gt;</th><th scope=col>&lt;int&gt;</th><th scope=col>&lt;dbl&gt;</th><th scope=col>&lt;dbl&gt;</th><th scope=col>&lt;dbl&gt;</th><th scope=col>&lt;dbl&gt;</th><th scope=col>&lt;dbl&gt;</th><th scope=col>&lt;dbl&gt;</th><th scope=col>&lt;dbl&gt;</th><th scope=col>&lt;dbl&gt;</th></tr>\n",
              "</thead>\n",
              "<tbody>\n",
              "\t<tr><th scope=row>1</th><td>0</td><td>Braund, Mr. Owen Harris                            </td><td>1</td><td>-0.5654189</td><td>1</td><td>0</td><td>-0.5021631</td><td>0</td><td>0</td><td>1</td><td>0</td><td>0</td><td>1</td><td>0</td></tr>\n",
              "\t<tr><th scope=row>2</th><td>1</td><td>Cumings, Mrs. John Bradley (Florence Briggs Thayer)</td><td>0</td><td> 0.6634884</td><td>1</td><td>0</td><td> 0.7864036</td><td>1</td><td>0</td><td>0</td><td>1</td><td>0</td><td>0</td><td>0</td></tr>\n",
              "\t<tr><th scope=row>3</th><td>1</td><td>Heikkinen, Miss. Laina                             </td><td>0</td><td>-0.2581921</td><td>0</td><td>0</td><td>-0.4885799</td><td>0</td><td>0</td><td>1</td><td>0</td><td>0</td><td>1</td><td>1</td></tr>\n",
              "\t<tr><th scope=row>4</th><td>1</td><td>Futrelle, Mrs. Jacques Heath (Lily May Peel)       </td><td>0</td><td> 0.4330683</td><td>1</td><td>0</td><td> 0.4204941</td><td>0</td><td>0</td><td>1</td><td>1</td><td>0</td><td>0</td><td>0</td></tr>\n",
              "\t<tr><th scope=row>5</th><td>0</td><td>Allen, Mr. William Henry                           </td><td>1</td><td> 0.4330683</td><td>0</td><td>0</td><td>-0.4860644</td><td>0</td><td>0</td><td>1</td><td>0</td><td>0</td><td>1</td><td>1</td></tr>\n",
              "\t<tr><th scope=row>6</th><td>0</td><td>Moran, Mr. James                                   </td><td>1</td><td>-0.1045787</td><td>0</td><td>0</td><td>-0.4778481</td><td>0</td><td>1</td><td>0</td><td>0</td><td>0</td><td>1</td><td>1</td></tr>\n",
              "</tbody>\n",
              "</table>\n"
            ]
          },
          "metadata": {
            "tags": []
          }
        }
      ]
    },
    {
      "cell_type": "code",
      "metadata": {
        "colab": {
          "base_uri": "https://localhost:8080/",
          "height": 72
        },
        "id": "WlpVCWJdX6pd",
        "outputId": "668d8349-cdd2-4f2a-c454-12423fbe9c82"
      },
      "source": [
        "table(treino$Parch)"
      ],
      "execution_count": 33,
      "outputs": [
        {
          "output_type": "display_data",
          "data": {
            "text/plain": [
              "\n",
              "  0   1   2   3   4   5   6 \n",
              "678 118  80   5   4   5   1 "
            ]
          },
          "metadata": {
            "tags": []
          }
        }
      ]
    },
    {
      "cell_type": "markdown",
      "metadata": {
        "id": "wm-60nNclk4A"
      },
      "source": [
        "### Engenharia de Variáveis\n",
        "\n",
        "Criar novas variáveis, de forma a deixar a informação de uma variávei mais explícita.  "
      ]
    },
    {
      "cell_type": "code",
      "metadata": {
        "id": "XSuBA2SMliLg"
      },
      "source": [
        "treino$Sozinho = ifelse(treino$SibSp == 0 & treino$Parch ==0, 1, 0)\n",
        "teste$Sozinho = ifelse(teste$SibSp == 0 & teste$Parch ==0, 1, 0)"
      ],
      "execution_count": 34,
      "outputs": []
    },
    {
      "cell_type": "code",
      "metadata": {
        "id": "XCftfGm5l9rH"
      },
      "source": [
        "treino = treino[, -c(5,6)]\n",
        "teste = teste[, -c(4,5)]"
      ],
      "execution_count": 37,
      "outputs": []
    },
    {
      "cell_type": "code",
      "metadata": {
        "colab": {
          "base_uri": "https://localhost:8080/",
          "height": 225
        },
        "id": "_21U-eael-rX",
        "outputId": "9b7bd74a-1e5f-46ea-e37c-ed20d3a65d96"
      },
      "source": [
        "head(teste)"
      ],
      "execution_count": 38,
      "outputs": [
        {
          "output_type": "display_data",
          "data": {
            "text/plain": [
              "  Name                                         Sex Age        Fare      \n",
              "1 Kelly, Mr. James                             1    0.3946649 -0.4905077\n",
              "2 Wilkes, Mrs. James (Ellen Needs)             0    1.3547487 -0.5071940\n",
              "3 Myles, Mr. Thomas Francis                    1    2.5068493 -0.4531124\n",
              "4 Wirz, Mr. Albert                             1   -0.1813854 -0.4737389\n",
              "5 Hirvonen, Mrs. Alexander (Helga E Lindqvist) 0   -0.5654189 -0.4007916\n",
              "6 Svensson, Mr. Johan Cervin                   1   -1.1798725 -0.4624195\n",
              "  EmbarkedC EmbarkedQ EmbarkedS Pclass1 Pclass2 Pclass3 Sozinho\n",
              "1 0         1         0         0       0       1       1      \n",
              "2 0         0         1         0       0       1       0      \n",
              "3 0         1         0         0       1       0       1      \n",
              "4 0         0         1         0       0       1       1      \n",
              "5 0         0         1         0       0       1       0      \n",
              "6 0         0         1         0       0       1       1      "
            ],
            "text/latex": "A data.frame: 6 × 11\n\\begin{tabular}{r|lllllllllll}\n  & Name & Sex & Age & Fare & EmbarkedC & EmbarkedQ & EmbarkedS & Pclass1 & Pclass2 & Pclass3 & Sozinho\\\\\n  & <chr> & <dbl> & <dbl> & <dbl> & <dbl> & <dbl> & <dbl> & <dbl> & <dbl> & <dbl> & <dbl>\\\\\n\\hline\n\t1 & Kelly, Mr. James                             & 1 &  0.3946649 & -0.4905077 & 0 & 1 & 0 & 0 & 0 & 1 & 1\\\\\n\t2 & Wilkes, Mrs. James (Ellen Needs)             & 0 &  1.3547487 & -0.5071940 & 0 & 0 & 1 & 0 & 0 & 1 & 0\\\\\n\t3 & Myles, Mr. Thomas Francis                    & 1 &  2.5068493 & -0.4531124 & 0 & 1 & 0 & 0 & 1 & 0 & 1\\\\\n\t4 & Wirz, Mr. Albert                             & 1 & -0.1813854 & -0.4737389 & 0 & 0 & 1 & 0 & 0 & 1 & 1\\\\\n\t5 & Hirvonen, Mrs. Alexander (Helga E Lindqvist) & 0 & -0.5654189 & -0.4007916 & 0 & 0 & 1 & 0 & 0 & 1 & 0\\\\\n\t6 & Svensson, Mr. Johan Cervin                   & 1 & -1.1798725 & -0.4624195 & 0 & 0 & 1 & 0 & 0 & 1 & 1\\\\\n\\end{tabular}\n",
            "text/markdown": "\nA data.frame: 6 × 11\n\n| <!--/--> | Name &lt;chr&gt; | Sex &lt;dbl&gt; | Age &lt;dbl&gt; | Fare &lt;dbl&gt; | EmbarkedC &lt;dbl&gt; | EmbarkedQ &lt;dbl&gt; | EmbarkedS &lt;dbl&gt; | Pclass1 &lt;dbl&gt; | Pclass2 &lt;dbl&gt; | Pclass3 &lt;dbl&gt; | Sozinho &lt;dbl&gt; |\n|---|---|---|---|---|---|---|---|---|---|---|---|\n| 1 | Kelly, Mr. James                             | 1 |  0.3946649 | -0.4905077 | 0 | 1 | 0 | 0 | 0 | 1 | 1 |\n| 2 | Wilkes, Mrs. James (Ellen Needs)             | 0 |  1.3547487 | -0.5071940 | 0 | 0 | 1 | 0 | 0 | 1 | 0 |\n| 3 | Myles, Mr. Thomas Francis                    | 1 |  2.5068493 | -0.4531124 | 0 | 1 | 0 | 0 | 1 | 0 | 1 |\n| 4 | Wirz, Mr. Albert                             | 1 | -0.1813854 | -0.4737389 | 0 | 0 | 1 | 0 | 0 | 1 | 1 |\n| 5 | Hirvonen, Mrs. Alexander (Helga E Lindqvist) | 0 | -0.5654189 | -0.4007916 | 0 | 0 | 1 | 0 | 0 | 1 | 0 |\n| 6 | Svensson, Mr. Johan Cervin                   | 1 | -1.1798725 | -0.4624195 | 0 | 0 | 1 | 0 | 0 | 1 | 1 |\n\n",
            "text/html": [
              "<table>\n",
              "<caption>A data.frame: 6 × 11</caption>\n",
              "<thead>\n",
              "\t<tr><th></th><th scope=col>Name</th><th scope=col>Sex</th><th scope=col>Age</th><th scope=col>Fare</th><th scope=col>EmbarkedC</th><th scope=col>EmbarkedQ</th><th scope=col>EmbarkedS</th><th scope=col>Pclass1</th><th scope=col>Pclass2</th><th scope=col>Pclass3</th><th scope=col>Sozinho</th></tr>\n",
              "\t<tr><th></th><th scope=col>&lt;chr&gt;</th><th scope=col>&lt;dbl&gt;</th><th scope=col>&lt;dbl&gt;</th><th scope=col>&lt;dbl&gt;</th><th scope=col>&lt;dbl&gt;</th><th scope=col>&lt;dbl&gt;</th><th scope=col>&lt;dbl&gt;</th><th scope=col>&lt;dbl&gt;</th><th scope=col>&lt;dbl&gt;</th><th scope=col>&lt;dbl&gt;</th><th scope=col>&lt;dbl&gt;</th></tr>\n",
              "</thead>\n",
              "<tbody>\n",
              "\t<tr><th scope=row>1</th><td>Kelly, Mr. James                            </td><td>1</td><td> 0.3946649</td><td>-0.4905077</td><td>0</td><td>1</td><td>0</td><td>0</td><td>0</td><td>1</td><td>1</td></tr>\n",
              "\t<tr><th scope=row>2</th><td>Wilkes, Mrs. James (Ellen Needs)            </td><td>0</td><td> 1.3547487</td><td>-0.5071940</td><td>0</td><td>0</td><td>1</td><td>0</td><td>0</td><td>1</td><td>0</td></tr>\n",
              "\t<tr><th scope=row>3</th><td>Myles, Mr. Thomas Francis                   </td><td>1</td><td> 2.5068493</td><td>-0.4531124</td><td>0</td><td>1</td><td>0</td><td>0</td><td>1</td><td>0</td><td>1</td></tr>\n",
              "\t<tr><th scope=row>4</th><td>Wirz, Mr. Albert                            </td><td>1</td><td>-0.1813854</td><td>-0.4737389</td><td>0</td><td>0</td><td>1</td><td>0</td><td>0</td><td>1</td><td>1</td></tr>\n",
              "\t<tr><th scope=row>5</th><td>Hirvonen, Mrs. Alexander (Helga E Lindqvist)</td><td>0</td><td>-0.5654189</td><td>-0.4007916</td><td>0</td><td>0</td><td>1</td><td>0</td><td>0</td><td>1</td><td>0</td></tr>\n",
              "\t<tr><th scope=row>6</th><td>Svensson, Mr. Johan Cervin                  </td><td>1</td><td>-1.1798725</td><td>-0.4624195</td><td>0</td><td>0</td><td>1</td><td>0</td><td>0</td><td>1</td><td>1</td></tr>\n",
              "</tbody>\n",
              "</table>\n"
            ]
          },
          "metadata": {
            "tags": []
          }
        }
      ]
    },
    {
      "cell_type": "code",
      "metadata": {
        "id": "LHbZ-lzEm1JK"
      },
      "source": [
        "x = treino$Name[1]"
      ],
      "execution_count": 42,
      "outputs": []
    },
    {
      "cell_type": "code",
      "metadata": {
        "colab": {
          "base_uri": "https://localhost:8080/",
          "height": 34
        },
        "id": "EpjbFMlJZTjq",
        "outputId": "4b5705d2-1baf-4915-dcf8-1407cde1f7ac"
      },
      "source": [
        "strsplit(strsplit(x, ', ')[[1]][2], '. ')[[1]][1]"
      ],
      "execution_count": 54,
      "outputs": [
        {
          "output_type": "display_data",
          "data": {
            "text/plain": [
              "[1] \"Mr\""
            ],
            "text/latex": "'Mr'",
            "text/markdown": "'Mr'",
            "text/html": [
              "'Mr'"
            ]
          },
          "metadata": {
            "tags": []
          }
        }
      ]
    },
    {
      "cell_type": "code",
      "metadata": {
        "id": "NilgVMqDZT2Q"
      },
      "source": [
        "sapply(treino$Name, titulo)"
      ],
      "execution_count": null,
      "outputs": []
    },
    {
      "cell_type": "code",
      "metadata": {
        "id": "dXFn6hrFZT8E"
      },
      "source": [
        "t = sapply(treino$Name, titulo)"
      ],
      "execution_count": 60,
      "outputs": []
    },
    {
      "cell_type": "code",
      "metadata": {
        "id": "n3SL1Cdqm3em"
      },
      "source": [
        "titulo = function(x){\n",
        "    aux = strsplit(strsplit(x, ', ')[[1]][2], '. ')[[1]][1]\n",
        "    return(aux)\n",
        "}\n",
        "\n"
      ],
      "execution_count": 59,
      "outputs": []
    },
    {
      "cell_type": "code",
      "metadata": {
        "colab": {
          "base_uri": "https://localhost:8080/",
          "height": 146
        },
        "id": "0s5avxcNodTr",
        "outputId": "15811871-d192-4274-82e3-b64b66a1e916"
      },
      "source": [
        "table(t)"
      ],
      "execution_count": 63,
      "outputs": [
        {
          "output_type": "display_data",
          "data": {
            "text/plain": [
              "t\n",
              "    Capt      Col      Don       Dr Jonkheer     Lady    Major   Master \n",
              "       1        2        1        7        1        1        2       40 \n",
              "    Miss     Mlle      Mme       Mr      Mrs       Ms      Rev      Sir \n",
              "     182        2        1      517      125        1        6        1 \n",
              "      th \n",
              "       1 "
            ]
          },
          "metadata": {
            "tags": []
          }
        }
      ]
    },
    {
      "cell_type": "code",
      "metadata": {
        "id": "iTKtgPegnl9_"
      },
      "source": [
        "t = sapply(treino$Name, titulo)\n",
        "\n",
        "treino$Miss = ifelse(t == 'Miss', 1, 0) \n",
        "treino$Master = ifelse(t == 'Master', 1, 0) \n",
        "treino$Mr = ifelse(t == 'Mr', 1, 0) \n",
        "treino$Mrs = ifelse(t == 'Mrs', 1, 0) \n",
        "\n",
        "t = sapply(teste$Name, titulo)\n",
        "\n",
        "teste$Miss = ifelse(t == 'Miss', 1, 0) \n",
        "teste$Master = ifelse(t == 'Master', 1, 0) \n",
        "teste$Mr = ifelse(t == 'Mr', 1, 0) \n",
        "teste$Mrs = ifelse(t == 'Mrs', 1, 0) \n",
        " "
      ],
      "execution_count": 64,
      "outputs": []
    },
    {
      "cell_type": "code",
      "metadata": {
        "id": "wbsjawW5pprW"
      },
      "source": [
        "treino = treino[, -2]\n",
        "teste = teste[, -1]"
      ],
      "execution_count": 66,
      "outputs": []
    },
    {
      "cell_type": "code",
      "metadata": {
        "colab": {
          "base_uri": "https://localhost:8080/",
          "height": 207
        },
        "id": "SGrJvZtFpNP_",
        "outputId": "5e6cc366-92ce-440d-eb16-ab76066c5afd"
      },
      "source": [
        "head(treino)"
      ],
      "execution_count": 70,
      "outputs": [
        {
          "output_type": "display_data",
          "data": {
            "text/plain": [
              "  Survived Sex Age        Fare       EmbarkedC EmbarkedQ EmbarkedS Pclass1\n",
              "1 0        1   -0.5654189 -0.5021631 0         0         1         0      \n",
              "2 1        0    0.6634884  0.7864036 1         0         0         1      \n",
              "3 1        0   -0.2581921 -0.4885799 0         0         1         0      \n",
              "4 1        0    0.4330683  0.4204941 0         0         1         1      \n",
              "5 0        1    0.4330683 -0.4860644 0         0         1         0      \n",
              "6 0        1   -0.1045787 -0.4778481 0         1         0         0      \n",
              "  Pclass2 Pclass3 Sozinho Miss Master Mr Mrs\n",
              "1 0       1       0       0    0      1  0  \n",
              "2 0       0       0       0    0      0  1  \n",
              "3 0       1       1       1    0      0  0  \n",
              "4 0       0       0       0    0      0  1  \n",
              "5 0       1       1       0    0      1  0  \n",
              "6 0       1       1       0    0      1  0  "
            ],
            "text/latex": "A data.frame: 6 × 15\n\\begin{tabular}{r|lllllllllllllll}\n  & Survived & Sex & Age & Fare & EmbarkedC & EmbarkedQ & EmbarkedS & Pclass1 & Pclass2 & Pclass3 & Sozinho & Miss & Master & Mr & Mrs\\\\\n  & <int> & <dbl> & <dbl> & <dbl> & <dbl> & <dbl> & <dbl> & <dbl> & <dbl> & <dbl> & <dbl> & <dbl> & <dbl> & <dbl> & <dbl>\\\\\n\\hline\n\t1 & 0 & 1 & -0.5654189 & -0.5021631 & 0 & 0 & 1 & 0 & 0 & 1 & 0 & 0 & 0 & 1 & 0\\\\\n\t2 & 1 & 0 &  0.6634884 &  0.7864036 & 1 & 0 & 0 & 1 & 0 & 0 & 0 & 0 & 0 & 0 & 1\\\\\n\t3 & 1 & 0 & -0.2581921 & -0.4885799 & 0 & 0 & 1 & 0 & 0 & 1 & 1 & 1 & 0 & 0 & 0\\\\\n\t4 & 1 & 0 &  0.4330683 &  0.4204941 & 0 & 0 & 1 & 1 & 0 & 0 & 0 & 0 & 0 & 0 & 1\\\\\n\t5 & 0 & 1 &  0.4330683 & -0.4860644 & 0 & 0 & 1 & 0 & 0 & 1 & 1 & 0 & 0 & 1 & 0\\\\\n\t6 & 0 & 1 & -0.1045787 & -0.4778481 & 0 & 1 & 0 & 0 & 0 & 1 & 1 & 0 & 0 & 1 & 0\\\\\n\\end{tabular}\n",
            "text/markdown": "\nA data.frame: 6 × 15\n\n| <!--/--> | Survived &lt;int&gt; | Sex &lt;dbl&gt; | Age &lt;dbl&gt; | Fare &lt;dbl&gt; | EmbarkedC &lt;dbl&gt; | EmbarkedQ &lt;dbl&gt; | EmbarkedS &lt;dbl&gt; | Pclass1 &lt;dbl&gt; | Pclass2 &lt;dbl&gt; | Pclass3 &lt;dbl&gt; | Sozinho &lt;dbl&gt; | Miss &lt;dbl&gt; | Master &lt;dbl&gt; | Mr &lt;dbl&gt; | Mrs &lt;dbl&gt; |\n|---|---|---|---|---|---|---|---|---|---|---|---|---|---|---|---|\n| 1 | 0 | 1 | -0.5654189 | -0.5021631 | 0 | 0 | 1 | 0 | 0 | 1 | 0 | 0 | 0 | 1 | 0 |\n| 2 | 1 | 0 |  0.6634884 |  0.7864036 | 1 | 0 | 0 | 1 | 0 | 0 | 0 | 0 | 0 | 0 | 1 |\n| 3 | 1 | 0 | -0.2581921 | -0.4885799 | 0 | 0 | 1 | 0 | 0 | 1 | 1 | 1 | 0 | 0 | 0 |\n| 4 | 1 | 0 |  0.4330683 |  0.4204941 | 0 | 0 | 1 | 1 | 0 | 0 | 0 | 0 | 0 | 0 | 1 |\n| 5 | 0 | 1 |  0.4330683 | -0.4860644 | 0 | 0 | 1 | 0 | 0 | 1 | 1 | 0 | 0 | 1 | 0 |\n| 6 | 0 | 1 | -0.1045787 | -0.4778481 | 0 | 1 | 0 | 0 | 0 | 1 | 1 | 0 | 0 | 1 | 0 |\n\n",
            "text/html": [
              "<table>\n",
              "<caption>A data.frame: 6 × 15</caption>\n",
              "<thead>\n",
              "\t<tr><th></th><th scope=col>Survived</th><th scope=col>Sex</th><th scope=col>Age</th><th scope=col>Fare</th><th scope=col>EmbarkedC</th><th scope=col>EmbarkedQ</th><th scope=col>EmbarkedS</th><th scope=col>Pclass1</th><th scope=col>Pclass2</th><th scope=col>Pclass3</th><th scope=col>Sozinho</th><th scope=col>Miss</th><th scope=col>Master</th><th scope=col>Mr</th><th scope=col>Mrs</th></tr>\n",
              "\t<tr><th></th><th scope=col>&lt;int&gt;</th><th scope=col>&lt;dbl&gt;</th><th scope=col>&lt;dbl&gt;</th><th scope=col>&lt;dbl&gt;</th><th scope=col>&lt;dbl&gt;</th><th scope=col>&lt;dbl&gt;</th><th scope=col>&lt;dbl&gt;</th><th scope=col>&lt;dbl&gt;</th><th scope=col>&lt;dbl&gt;</th><th scope=col>&lt;dbl&gt;</th><th scope=col>&lt;dbl&gt;</th><th scope=col>&lt;dbl&gt;</th><th scope=col>&lt;dbl&gt;</th><th scope=col>&lt;dbl&gt;</th><th scope=col>&lt;dbl&gt;</th></tr>\n",
              "</thead>\n",
              "<tbody>\n",
              "\t<tr><th scope=row>1</th><td>0</td><td>1</td><td>-0.5654189</td><td>-0.5021631</td><td>0</td><td>0</td><td>1</td><td>0</td><td>0</td><td>1</td><td>0</td><td>0</td><td>0</td><td>1</td><td>0</td></tr>\n",
              "\t<tr><th scope=row>2</th><td>1</td><td>0</td><td> 0.6634884</td><td> 0.7864036</td><td>1</td><td>0</td><td>0</td><td>1</td><td>0</td><td>0</td><td>0</td><td>0</td><td>0</td><td>0</td><td>1</td></tr>\n",
              "\t<tr><th scope=row>3</th><td>1</td><td>0</td><td>-0.2581921</td><td>-0.4885799</td><td>0</td><td>0</td><td>1</td><td>0</td><td>0</td><td>1</td><td>1</td><td>1</td><td>0</td><td>0</td><td>0</td></tr>\n",
              "\t<tr><th scope=row>4</th><td>1</td><td>0</td><td> 0.4330683</td><td> 0.4204941</td><td>0</td><td>0</td><td>1</td><td>1</td><td>0</td><td>0</td><td>0</td><td>0</td><td>0</td><td>0</td><td>1</td></tr>\n",
              "\t<tr><th scope=row>5</th><td>0</td><td>1</td><td> 0.4330683</td><td>-0.4860644</td><td>0</td><td>0</td><td>1</td><td>0</td><td>0</td><td>1</td><td>1</td><td>0</td><td>0</td><td>1</td><td>0</td></tr>\n",
              "\t<tr><th scope=row>6</th><td>0</td><td>1</td><td>-0.1045787</td><td>-0.4778481</td><td>0</td><td>1</td><td>0</td><td>0</td><td>0</td><td>1</td><td>1</td><td>0</td><td>0</td><td>1</td><td>0</td></tr>\n",
              "</tbody>\n",
              "</table>\n"
            ]
          },
          "metadata": {
            "tags": []
          }
        }
      ]
    },
    {
      "cell_type": "markdown",
      "metadata": {
        "id": "pCQNwDCZxoJS"
      },
      "source": [
        "---"
      ]
    },
    {
      "cell_type": "markdown",
      "metadata": {
        "id": "SPkpjCq8qCJV"
      },
      "source": [
        "### **Enfim, o conjunto de dados está pronto para ser processado por um modelo de Machine Learning**\n",
        "\n",
        "Vamos ajustar um modelo Random Forest e submeter os resultados para o Kaggle."
      ]
    },
    {
      "cell_type": "code",
      "metadata": {
        "colab": {
          "base_uri": "https://localhost:8080/"
        },
        "id": "ryfxLMC_qm_G",
        "outputId": "65fb511c-32c0-4fd8-8fad-340cd9f373f9"
      },
      "source": [
        "# Pacote 'caret'\n",
        "install.packages('caret')\n",
        "install.packages('e1071')\n",
        "install.packages('randomForest')"
      ],
      "execution_count": 69,
      "outputs": [
        {
          "output_type": "stream",
          "text": [
            "Installing package into ‘/usr/local/lib/R/site-library’\n",
            "(as ‘lib’ is unspecified)\n",
            "\n",
            "also installing the dependencies ‘numDeriv’, ‘SQUAREM’, ‘lava’, ‘prodlim’, ‘iterators’, ‘data.table’, ‘gower’, ‘ipred’, ‘timeDate’, ‘foreach’, ‘plyr’, ‘ModelMetrics’, ‘reshape2’, ‘recipes’, ‘pROC’\n",
            "\n",
            "\n",
            "Installing package into ‘/usr/local/lib/R/site-library’\n",
            "(as ‘lib’ is unspecified)\n",
            "\n",
            "Installing package into ‘/usr/local/lib/R/site-library’\n",
            "(as ‘lib’ is unspecified)\n",
            "\n"
          ],
          "name": "stderr"
        }
      ]
    },
    {
      "cell_type": "code",
      "metadata": {
        "colab": {
          "base_uri": "https://localhost:8080/"
        },
        "id": "fkaCaC5Rqm_H",
        "outputId": "37522653-f886-4dc3-fa64-ec86b5597079"
      },
      "source": [
        "library(caret)"
      ],
      "execution_count": 71,
      "outputs": [
        {
          "output_type": "stream",
          "text": [
            "Loading required package: lattice\n",
            "\n",
            "Loading required package: ggplot2\n",
            "\n"
          ],
          "name": "stderr"
        }
      ]
    },
    {
      "cell_type": "code",
      "metadata": {
        "id": "dmOBqnYiqm_H"
      },
      "source": [
        "# Controle do Treinamento\n",
        "controle = trainControl(method = \"repeatedcv\", number = 10, repeats = 1) "
      ],
      "execution_count": 72,
      "outputs": []
    },
    {
      "cell_type": "code",
      "metadata": {
        "colab": {
          "base_uri": "https://localhost:8080/",
          "height": 745
        },
        "id": "OVREN0O_qm_H",
        "outputId": "52a86a29-52b1-43f4-d5ff-63994440402b"
      },
      "source": [
        "# Random Forest \n",
        "metodo = 'rf'\n",
        "\n",
        "modelLookup(model = metodo)\n",
        "modelo = train(factor(Survived) ~., data = treino, method = metodo,\n",
        "               trControl = controle, tuneLength = 5 )\n",
        "modelo$resample\n",
        "modelo"
      ],
      "execution_count": 73,
      "outputs": [
        {
          "output_type": "display_data",
          "data": {
            "text/plain": [
              "  model parameter label                         forReg forClass probModel\n",
              "1 rf    mtry      #Randomly Selected Predictors TRUE   TRUE     TRUE     "
            ],
            "text/latex": "A data.frame: 1 × 6\n\\begin{tabular}{r|llllll}\n  & model & parameter & label & forReg & forClass & probModel\\\\\n  & <chr> & <chr> & <chr> & <lgl> & <lgl> & <lgl>\\\\\n\\hline\n\t1 & rf & mtry & \\#Randomly Selected Predictors & TRUE & TRUE & TRUE\\\\\n\\end{tabular}\n",
            "text/markdown": "\nA data.frame: 1 × 6\n\n| <!--/--> | model &lt;chr&gt; | parameter &lt;chr&gt; | label &lt;chr&gt; | forReg &lt;lgl&gt; | forClass &lt;lgl&gt; | probModel &lt;lgl&gt; |\n|---|---|---|---|---|---|---|\n| 1 | rf | mtry | #Randomly Selected Predictors | TRUE | TRUE | TRUE |\n\n",
            "text/html": [
              "<table>\n",
              "<caption>A data.frame: 1 × 6</caption>\n",
              "<thead>\n",
              "\t<tr><th></th><th scope=col>model</th><th scope=col>parameter</th><th scope=col>label</th><th scope=col>forReg</th><th scope=col>forClass</th><th scope=col>probModel</th></tr>\n",
              "\t<tr><th></th><th scope=col>&lt;chr&gt;</th><th scope=col>&lt;chr&gt;</th><th scope=col>&lt;chr&gt;</th><th scope=col>&lt;lgl&gt;</th><th scope=col>&lt;lgl&gt;</th><th scope=col>&lt;lgl&gt;</th></tr>\n",
              "</thead>\n",
              "<tbody>\n",
              "\t<tr><th scope=row>1</th><td>rf</td><td>mtry</td><td>#Randomly Selected Predictors</td><td>TRUE</td><td>TRUE</td><td>TRUE</td></tr>\n",
              "</tbody>\n",
              "</table>\n"
            ]
          },
          "metadata": {
            "tags": []
          }
        },
        {
          "output_type": "display_data",
          "data": {
            "text/plain": [
              "   Accuracy  Kappa     Resample   \n",
              "1  0.8000000 0.5656836 Fold03.Rep1\n",
              "2  0.8202247 0.6192513 Fold09.Rep1\n",
              "3  0.8522727 0.6867470 Fold04.Rep1\n",
              "4  0.8202247 0.6059768 Fold06.Rep1\n",
              "5  0.8777778 0.7360000 Fold01.Rep1\n",
              "6  0.8539326 0.6779850 Fold02.Rep1\n",
              "7  0.8764045 0.7275257 Fold10.Rep1\n",
              "8  0.8651685 0.7111952 Fold05.Rep1\n",
              "9  0.7752809 0.5016797 Fold07.Rep1\n",
              "10 0.7977528 0.5567239 Fold08.Rep1"
            ],
            "text/latex": "A data.frame: 10 × 3\n\\begin{tabular}{lll}\n Accuracy & Kappa & Resample\\\\\n <dbl> & <dbl> & <chr>\\\\\n\\hline\n\t 0.8000000 & 0.5656836 & Fold03.Rep1\\\\\n\t 0.8202247 & 0.6192513 & Fold09.Rep1\\\\\n\t 0.8522727 & 0.6867470 & Fold04.Rep1\\\\\n\t 0.8202247 & 0.6059768 & Fold06.Rep1\\\\\n\t 0.8777778 & 0.7360000 & Fold01.Rep1\\\\\n\t 0.8539326 & 0.6779850 & Fold02.Rep1\\\\\n\t 0.8764045 & 0.7275257 & Fold10.Rep1\\\\\n\t 0.8651685 & 0.7111952 & Fold05.Rep1\\\\\n\t 0.7752809 & 0.5016797 & Fold07.Rep1\\\\\n\t 0.7977528 & 0.5567239 & Fold08.Rep1\\\\\n\\end{tabular}\n",
            "text/markdown": "\nA data.frame: 10 × 3\n\n| Accuracy &lt;dbl&gt; | Kappa &lt;dbl&gt; | Resample &lt;chr&gt; |\n|---|---|---|\n| 0.8000000 | 0.5656836 | Fold03.Rep1 |\n| 0.8202247 | 0.6192513 | Fold09.Rep1 |\n| 0.8522727 | 0.6867470 | Fold04.Rep1 |\n| 0.8202247 | 0.6059768 | Fold06.Rep1 |\n| 0.8777778 | 0.7360000 | Fold01.Rep1 |\n| 0.8539326 | 0.6779850 | Fold02.Rep1 |\n| 0.8764045 | 0.7275257 | Fold10.Rep1 |\n| 0.8651685 | 0.7111952 | Fold05.Rep1 |\n| 0.7752809 | 0.5016797 | Fold07.Rep1 |\n| 0.7977528 | 0.5567239 | Fold08.Rep1 |\n\n",
            "text/html": [
              "<table>\n",
              "<caption>A data.frame: 10 × 3</caption>\n",
              "<thead>\n",
              "\t<tr><th scope=col>Accuracy</th><th scope=col>Kappa</th><th scope=col>Resample</th></tr>\n",
              "\t<tr><th scope=col>&lt;dbl&gt;</th><th scope=col>&lt;dbl&gt;</th><th scope=col>&lt;chr&gt;</th></tr>\n",
              "</thead>\n",
              "<tbody>\n",
              "\t<tr><td>0.8000000</td><td>0.5656836</td><td>Fold03.Rep1</td></tr>\n",
              "\t<tr><td>0.8202247</td><td>0.6192513</td><td>Fold09.Rep1</td></tr>\n",
              "\t<tr><td>0.8522727</td><td>0.6867470</td><td>Fold04.Rep1</td></tr>\n",
              "\t<tr><td>0.8202247</td><td>0.6059768</td><td>Fold06.Rep1</td></tr>\n",
              "\t<tr><td>0.8777778</td><td>0.7360000</td><td>Fold01.Rep1</td></tr>\n",
              "\t<tr><td>0.8539326</td><td>0.6779850</td><td>Fold02.Rep1</td></tr>\n",
              "\t<tr><td>0.8764045</td><td>0.7275257</td><td>Fold10.Rep1</td></tr>\n",
              "\t<tr><td>0.8651685</td><td>0.7111952</td><td>Fold05.Rep1</td></tr>\n",
              "\t<tr><td>0.7752809</td><td>0.5016797</td><td>Fold07.Rep1</td></tr>\n",
              "\t<tr><td>0.7977528</td><td>0.5567239</td><td>Fold08.Rep1</td></tr>\n",
              "</tbody>\n",
              "</table>\n"
            ]
          },
          "metadata": {
            "tags": []
          }
        },
        {
          "output_type": "display_data",
          "data": {
            "text/plain": [
              "Random Forest \n",
              "\n",
              "891 samples\n",
              " 14 predictor\n",
              "  2 classes: '0', '1' \n",
              "\n",
              "No pre-processing\n",
              "Resampling: Cross-Validated (10 fold, repeated 1 times) \n",
              "Summary of sample sizes: 801, 802, 801, 803, 802, 802, ... \n",
              "Resampling results across tuning parameters:\n",
              "\n",
              "  mtry  Accuracy   Kappa    \n",
              "   2    0.8169362  0.6005762\n",
              "   5    0.8339039  0.6388768\n",
              "   8    0.8317194  0.6386873\n",
              "  11    0.8305834  0.6384060\n",
              "  14    0.8260512  0.6305364\n",
              "\n",
              "Accuracy was used to select the optimal model using the largest value.\n",
              "The final value used for the model was mtry = 5."
            ]
          },
          "metadata": {
            "tags": []
          }
        }
      ]
    },
    {
      "cell_type": "code",
      "metadata": {
        "colab": {
          "base_uri": "https://localhost:8080/",
          "height": 191
        },
        "id": "Z4rxDGBzqm_H",
        "outputId": "0e899ea5-54e6-4721-fda6-5d7ebb15a757"
      },
      "source": [
        "# Resultado da predição\n",
        "predicao = predict(modelo, newdata = teste)\n",
        "predicao"
      ],
      "execution_count": 76,
      "outputs": [
        {
          "output_type": "display_data",
          "data": {
            "text/plain": [
              "  [1] 0 0 0 0 1 0 0 0 1 0 0 0 1 0 1 1 0 0 0 1 0 1 1 0 1 0 1 0 0 0 0 0 1 0 0 0 0\n",
              " [38] 0 0 1 0 1 0 1 1 0 0 0 1 1 0 0 1 1 0 0 0 0 0 1 0 0 0 1 1 1 1 0 0 1 1 0 0 0\n",
              " [75] 1 0 0 1 0 1 1 0 0 0 0 0 1 0 1 1 1 0 1 0 0 0 1 0 0 0 1 0 0 0 1 0 0 0 0 0 0\n",
              "[112] 1 1 1 1 0 0 1 0 1 1 0 1 0 0 0 0 1 0 0 0 0 0 0 0 0 0 0 0 0 0 1 0 0 1 0 0 0\n",
              "[149] 1 0 1 0 0 1 0 0 1 0 1 1 1 1 1 0 0 0 0 0 1 0 0 0 0 0 0 1 1 0 1 1 0 0 1 0 1\n",
              "[186] 0 1 0 0 0 0 0 1 0 1 0 1 0 0 0 1 1 1 1 0 0 0 0 1 0 0 0 0 1 0 0 1 0 1 0 1 0\n",
              "[223] 1 0 1 0 0 1 0 0 0 1 0 0 0 0 0 0 1 1 1 1 0 0 0 0 1 0 1 0 1 0 0 0 0 0 0 0 1\n",
              "[260] 0 0 0 1 1 0 0 0 0 0 0 0 0 1 1 0 1 0 0 0 0 0 1 1 0 0 0 0 0 0 0 0 0 0 0 0 0\n",
              "[297] 1 0 0 0 0 0 0 0 1 1 0 1 0 0 0 0 0 0 1 1 0 0 0 0 0 0 0 1 1 0 1 0 0 0 1 0 0\n",
              "[334] 1 0 0 0 0 0 1 0 0 0 1 1 1 0 1 0 1 1 0 0 0 0 0 1 0 0 1 0 1 1 0 1 0 0 0 1 0\n",
              "[371] 0 1 0 0 1 1 0 0 0 0 0 0 1 1 0 1 0 0 0 0 0 1 1 0 0 1 0 1 0 0 1 0 1 0 0 0 0\n",
              "[408] 0 1 1 1 1 0 0 1 0 0 1\n",
              "Levels: 0 1"
            ],
            "text/latex": "\\begin{enumerate*}\n\\item 0\n\\item 0\n\\item 0\n\\item 0\n\\item 1\n\\item 0\n\\item 0\n\\item 0\n\\item 1\n\\item 0\n\\item 0\n\\item 0\n\\item 1\n\\item 0\n\\item 1\n\\item 1\n\\item 0\n\\item 0\n\\item 0\n\\item 1\n\\item 0\n\\item 1\n\\item 1\n\\item 0\n\\item 1\n\\item 0\n\\item 1\n\\item 0\n\\item 0\n\\item 0\n\\item 0\n\\item 0\n\\item 1\n\\item 0\n\\item 0\n\\item 0\n\\item 0\n\\item 0\n\\item 0\n\\item 1\n\\item 0\n\\item 1\n\\item 0\n\\item 1\n\\item 1\n\\item 0\n\\item 0\n\\item 0\n\\item 1\n\\item 1\n\\item 0\n\\item 0\n\\item 1\n\\item 1\n\\item 0\n\\item 0\n\\item 0\n\\item 0\n\\item 0\n\\item 1\n\\item 0\n\\item 0\n\\item 0\n\\item 1\n\\item 1\n\\item 1\n\\item 1\n\\item 0\n\\item 0\n\\item 1\n\\item 1\n\\item 0\n\\item 0\n\\item 0\n\\item 1\n\\item 0\n\\item 0\n\\item 1\n\\item 0\n\\item 1\n\\item 1\n\\item 0\n\\item 0\n\\item 0\n\\item 0\n\\item 0\n\\item 1\n\\item 0\n\\item 1\n\\item 1\n\\item 1\n\\item 0\n\\item 1\n\\item 0\n\\item 0\n\\item 0\n\\item 1\n\\item 0\n\\item 0\n\\item 0\n\\item 1\n\\item 0\n\\item 0\n\\item 0\n\\item 1\n\\item 0\n\\item 0\n\\item 0\n\\item 0\n\\item 0\n\\item 0\n\\item 1\n\\item 1\n\\item 1\n\\item 1\n\\item 0\n\\item 0\n\\item 1\n\\item 0\n\\item 1\n\\item 1\n\\item 0\n\\item 1\n\\item 0\n\\item 0\n\\item 0\n\\item 0\n\\item 1\n\\item 0\n\\item 0\n\\item 0\n\\item 0\n\\item 0\n\\item 0\n\\item 0\n\\item 0\n\\item 0\n\\item 0\n\\item 0\n\\item 0\n\\item 0\n\\item 1\n\\item 0\n\\item 0\n\\item 1\n\\item 0\n\\item 0\n\\item 0\n\\item 1\n\\item 0\n\\item 1\n\\item 0\n\\item 0\n\\item 1\n\\item 0\n\\item 0\n\\item 1\n\\item 0\n\\item 1\n\\item 1\n\\item 1\n\\item 1\n\\item 1\n\\item 0\n\\item 0\n\\item 0\n\\item 0\n\\item 0\n\\item 1\n\\item 0\n\\item 0\n\\item 0\n\\item 0\n\\item 0\n\\item 0\n\\item 1\n\\item 1\n\\item 0\n\\item 1\n\\item 1\n\\item 0\n\\item 0\n\\item 1\n\\item 0\n\\item 1\n\\item 0\n\\item 1\n\\item 0\n\\item 0\n\\item 0\n\\item 0\n\\item 0\n\\item 1\n\\item 0\n\\item 1\n\\item 0\n\\item 1\n\\item 0\n\\item 0\n\\item 0\n\\item ⋯\n\\item 1\n\\item 0\n\\item 1\n\\item 0\n\\item 1\n\\item 0\n\\item 1\n\\item 0\n\\item 0\n\\item 1\n\\item 0\n\\item 0\n\\item 0\n\\item 1\n\\item 0\n\\item 0\n\\item 0\n\\item 0\n\\item 0\n\\item 0\n\\item 1\n\\item 1\n\\item 1\n\\item 1\n\\item 0\n\\item 0\n\\item 0\n\\item 0\n\\item 1\n\\item 0\n\\item 1\n\\item 0\n\\item 1\n\\item 0\n\\item 0\n\\item 0\n\\item 0\n\\item 0\n\\item 0\n\\item 0\n\\item 1\n\\item 0\n\\item 0\n\\item 0\n\\item 1\n\\item 1\n\\item 0\n\\item 0\n\\item 0\n\\item 0\n\\item 0\n\\item 0\n\\item 0\n\\item 0\n\\item 1\n\\item 1\n\\item 0\n\\item 1\n\\item 0\n\\item 0\n\\item 0\n\\item 0\n\\item 0\n\\item 1\n\\item 1\n\\item 0\n\\item 0\n\\item 0\n\\item 0\n\\item 0\n\\item 0\n\\item 0\n\\item 0\n\\item 0\n\\item 0\n\\item 0\n\\item 0\n\\item 0\n\\item 1\n\\item 0\n\\item 0\n\\item 0\n\\item 0\n\\item 0\n\\item 0\n\\item 0\n\\item 1\n\\item 1\n\\item 0\n\\item 1\n\\item 0\n\\item 0\n\\item 0\n\\item 0\n\\item 0\n\\item 0\n\\item 1\n\\item 1\n\\item 0\n\\item 0\n\\item 0\n\\item 0\n\\item 0\n\\item 0\n\\item 0\n\\item 1\n\\item 1\n\\item 0\n\\item 1\n\\item 0\n\\item 0\n\\item 0\n\\item 1\n\\item 0\n\\item 0\n\\item 1\n\\item 0\n\\item 0\n\\item 0\n\\item 0\n\\item 0\n\\item 1\n\\item 0\n\\item 0\n\\item 0\n\\item 1\n\\item 1\n\\item 1\n\\item 0\n\\item 1\n\\item 0\n\\item 1\n\\item 1\n\\item 0\n\\item 0\n\\item 0\n\\item 0\n\\item 0\n\\item 1\n\\item 0\n\\item 0\n\\item 1\n\\item 0\n\\item 1\n\\item 1\n\\item 0\n\\item 1\n\\item 0\n\\item 0\n\\item 0\n\\item 1\n\\item 0\n\\item 0\n\\item 1\n\\item 0\n\\item 0\n\\item 1\n\\item 1\n\\item 0\n\\item 0\n\\item 0\n\\item 0\n\\item 0\n\\item 0\n\\item 1\n\\item 1\n\\item 0\n\\item 1\n\\item 0\n\\item 0\n\\item 0\n\\item 0\n\\item 0\n\\item 1\n\\item 1\n\\item 0\n\\item 0\n\\item 1\n\\item 0\n\\item 1\n\\item 0\n\\item 0\n\\item 1\n\\item 0\n\\item 1\n\\item 0\n\\item 0\n\\item 0\n\\item 0\n\\item 0\n\\item 1\n\\item 1\n\\item 1\n\\item 1\n\\item 0\n\\item 0\n\\item 1\n\\item 0\n\\item 0\n\\item 1\n\\end{enumerate*}\n\n\\emph{Levels}: \\begin{enumerate*}\n\\item '0'\n\\item '1'\n\\end{enumerate*}\n",
            "text/markdown": "1. 0\n2. 0\n3. 0\n4. 0\n5. 1\n6. 0\n7. 0\n8. 0\n9. 1\n10. 0\n11. 0\n12. 0\n13. 1\n14. 0\n15. 1\n16. 1\n17. 0\n18. 0\n19. 0\n20. 1\n21. 0\n22. 1\n23. 1\n24. 0\n25. 1\n26. 0\n27. 1\n28. 0\n29. 0\n30. 0\n31. 0\n32. 0\n33. 1\n34. 0\n35. 0\n36. 0\n37. 0\n38. 0\n39. 0\n40. 1\n41. 0\n42. 1\n43. 0\n44. 1\n45. 1\n46. 0\n47. 0\n48. 0\n49. 1\n50. 1\n51. 0\n52. 0\n53. 1\n54. 1\n55. 0\n56. 0\n57. 0\n58. 0\n59. 0\n60. 1\n61. 0\n62. 0\n63. 0\n64. 1\n65. 1\n66. 1\n67. 1\n68. 0\n69. 0\n70. 1\n71. 1\n72. 0\n73. 0\n74. 0\n75. 1\n76. 0\n77. 0\n78. 1\n79. 0\n80. 1\n81. 1\n82. 0\n83. 0\n84. 0\n85. 0\n86. 0\n87. 1\n88. 0\n89. 1\n90. 1\n91. 1\n92. 0\n93. 1\n94. 0\n95. 0\n96. 0\n97. 1\n98. 0\n99. 0\n100. 0\n101. 1\n102. 0\n103. 0\n104. 0\n105. 1\n106. 0\n107. 0\n108. 0\n109. 0\n110. 0\n111. 0\n112. 1\n113. 1\n114. 1\n115. 1\n116. 0\n117. 0\n118. 1\n119. 0\n120. 1\n121. 1\n122. 0\n123. 1\n124. 0\n125. 0\n126. 0\n127. 0\n128. 1\n129. 0\n130. 0\n131. 0\n132. 0\n133. 0\n134. 0\n135. 0\n136. 0\n137. 0\n138. 0\n139. 0\n140. 0\n141. 0\n142. 1\n143. 0\n144. 0\n145. 1\n146. 0\n147. 0\n148. 0\n149. 1\n150. 0\n151. 1\n152. 0\n153. 0\n154. 1\n155. 0\n156. 0\n157. 1\n158. 0\n159. 1\n160. 1\n161. 1\n162. 1\n163. 1\n164. 0\n165. 0\n166. 0\n167. 0\n168. 0\n169. 1\n170. 0\n171. 0\n172. 0\n173. 0\n174. 0\n175. 0\n176. 1\n177. 1\n178. 0\n179. 1\n180. 1\n181. 0\n182. 0\n183. 1\n184. 0\n185. 1\n186. 0\n187. 1\n188. 0\n189. 0\n190. 0\n191. 0\n192. 0\n193. 1\n194. 0\n195. 1\n196. 0\n197. 1\n198. 0\n199. 0\n200. 0\n201. ⋯\n202. 1\n203. 0\n204. 1\n205. 0\n206. 1\n207. 0\n208. 1\n209. 0\n210. 0\n211. 1\n212. 0\n213. 0\n214. 0\n215. 1\n216. 0\n217. 0\n218. 0\n219. 0\n220. 0\n221. 0\n222. 1\n223. 1\n224. 1\n225. 1\n226. 0\n227. 0\n228. 0\n229. 0\n230. 1\n231. 0\n232. 1\n233. 0\n234. 1\n235. 0\n236. 0\n237. 0\n238. 0\n239. 0\n240. 0\n241. 0\n242. 1\n243. 0\n244. 0\n245. 0\n246. 1\n247. 1\n248. 0\n249. 0\n250. 0\n251. 0\n252. 0\n253. 0\n254. 0\n255. 0\n256. 1\n257. 1\n258. 0\n259. 1\n260. 0\n261. 0\n262. 0\n263. 0\n264. 0\n265. 1\n266. 1\n267. 0\n268. 0\n269. 0\n270. 0\n271. 0\n272. 0\n273. 0\n274. 0\n275. 0\n276. 0\n277. 0\n278. 0\n279. 0\n280. 1\n281. 0\n282. 0\n283. 0\n284. 0\n285. 0\n286. 0\n287. 0\n288. 1\n289. 1\n290. 0\n291. 1\n292. 0\n293. 0\n294. 0\n295. 0\n296. 0\n297. 0\n298. 1\n299. 1\n300. 0\n301. 0\n302. 0\n303. 0\n304. 0\n305. 0\n306. 0\n307. 1\n308. 1\n309. 0\n310. 1\n311. 0\n312. 0\n313. 0\n314. 1\n315. 0\n316. 0\n317. 1\n318. 0\n319. 0\n320. 0\n321. 0\n322. 0\n323. 1\n324. 0\n325. 0\n326. 0\n327. 1\n328. 1\n329. 1\n330. 0\n331. 1\n332. 0\n333. 1\n334. 1\n335. 0\n336. 0\n337. 0\n338. 0\n339. 0\n340. 1\n341. 0\n342. 0\n343. 1\n344. 0\n345. 1\n346. 1\n347. 0\n348. 1\n349. 0\n350. 0\n351. 0\n352. 1\n353. 0\n354. 0\n355. 1\n356. 0\n357. 0\n358. 1\n359. 1\n360. 0\n361. 0\n362. 0\n363. 0\n364. 0\n365. 0\n366. 1\n367. 1\n368. 0\n369. 1\n370. 0\n371. 0\n372. 0\n373. 0\n374. 0\n375. 1\n376. 1\n377. 0\n378. 0\n379. 1\n380. 0\n381. 1\n382. 0\n383. 0\n384. 1\n385. 0\n386. 1\n387. 0\n388. 0\n389. 0\n390. 0\n391. 0\n392. 1\n393. 1\n394. 1\n395. 1\n396. 0\n397. 0\n398. 1\n399. 0\n400. 0\n401. 1\n\n\n\n**Levels**: 1. '0'\n2. '1'\n\n\n",
            "text/html": [
              "<style>\n",
              ".list-inline {list-style: none; margin:0; padding: 0}\n",
              ".list-inline>li {display: inline-block}\n",
              ".list-inline>li:not(:last-child)::after {content: \"\\00b7\"; padding: 0 .5ex}\n",
              "</style>\n",
              "<ol class=list-inline><li>0</li><li>0</li><li>0</li><li>0</li><li>1</li><li>0</li><li>0</li><li>0</li><li>1</li><li>0</li><li>0</li><li>0</li><li>1</li><li>0</li><li>1</li><li>1</li><li>0</li><li>0</li><li>0</li><li>1</li><li>0</li><li>1</li><li>1</li><li>0</li><li>1</li><li>0</li><li>1</li><li>0</li><li>0</li><li>0</li><li>0</li><li>0</li><li>1</li><li>0</li><li>0</li><li>0</li><li>0</li><li>0</li><li>0</li><li>1</li><li>0</li><li>1</li><li>0</li><li>1</li><li>1</li><li>0</li><li>0</li><li>0</li><li>1</li><li>1</li><li>0</li><li>0</li><li>1</li><li>1</li><li>0</li><li>0</li><li>0</li><li>0</li><li>0</li><li>1</li><li>0</li><li>0</li><li>0</li><li>1</li><li>1</li><li>1</li><li>1</li><li>0</li><li>0</li><li>1</li><li>1</li><li>0</li><li>0</li><li>0</li><li>1</li><li>0</li><li>0</li><li>1</li><li>0</li><li>1</li><li>1</li><li>0</li><li>0</li><li>0</li><li>0</li><li>0</li><li>1</li><li>0</li><li>1</li><li>1</li><li>1</li><li>0</li><li>1</li><li>0</li><li>0</li><li>0</li><li>1</li><li>0</li><li>0</li><li>0</li><li>1</li><li>0</li><li>0</li><li>0</li><li>1</li><li>0</li><li>0</li><li>0</li><li>0</li><li>0</li><li>0</li><li>1</li><li>1</li><li>1</li><li>1</li><li>0</li><li>0</li><li>1</li><li>0</li><li>1</li><li>1</li><li>0</li><li>1</li><li>0</li><li>0</li><li>0</li><li>0</li><li>1</li><li>0</li><li>0</li><li>0</li><li>0</li><li>0</li><li>0</li><li>0</li><li>0</li><li>0</li><li>0</li><li>0</li><li>0</li><li>0</li><li>1</li><li>0</li><li>0</li><li>1</li><li>0</li><li>0</li><li>0</li><li>1</li><li>0</li><li>1</li><li>0</li><li>0</li><li>1</li><li>0</li><li>0</li><li>1</li><li>0</li><li>1</li><li>1</li><li>1</li><li>1</li><li>1</li><li>0</li><li>0</li><li>0</li><li>0</li><li>0</li><li>1</li><li>0</li><li>0</li><li>0</li><li>0</li><li>0</li><li>0</li><li>1</li><li>1</li><li>0</li><li>1</li><li>1</li><li>0</li><li>0</li><li>1</li><li>0</li><li>1</li><li>0</li><li>1</li><li>0</li><li>0</li><li>0</li><li>0</li><li>0</li><li>1</li><li>0</li><li>1</li><li>0</li><li>1</li><li>0</li><li>0</li><li>0</li><li>⋯</li><li>1</li><li>0</li><li>1</li><li>0</li><li>1</li><li>0</li><li>1</li><li>0</li><li>0</li><li>1</li><li>0</li><li>0</li><li>0</li><li>1</li><li>0</li><li>0</li><li>0</li><li>0</li><li>0</li><li>0</li><li>1</li><li>1</li><li>1</li><li>1</li><li>0</li><li>0</li><li>0</li><li>0</li><li>1</li><li>0</li><li>1</li><li>0</li><li>1</li><li>0</li><li>0</li><li>0</li><li>0</li><li>0</li><li>0</li><li>0</li><li>1</li><li>0</li><li>0</li><li>0</li><li>1</li><li>1</li><li>0</li><li>0</li><li>0</li><li>0</li><li>0</li><li>0</li><li>0</li><li>0</li><li>1</li><li>1</li><li>0</li><li>1</li><li>0</li><li>0</li><li>0</li><li>0</li><li>0</li><li>1</li><li>1</li><li>0</li><li>0</li><li>0</li><li>0</li><li>0</li><li>0</li><li>0</li><li>0</li><li>0</li><li>0</li><li>0</li><li>0</li><li>0</li><li>1</li><li>0</li><li>0</li><li>0</li><li>0</li><li>0</li><li>0</li><li>0</li><li>1</li><li>1</li><li>0</li><li>1</li><li>0</li><li>0</li><li>0</li><li>0</li><li>0</li><li>0</li><li>1</li><li>1</li><li>0</li><li>0</li><li>0</li><li>0</li><li>0</li><li>0</li><li>0</li><li>1</li><li>1</li><li>0</li><li>1</li><li>0</li><li>0</li><li>0</li><li>1</li><li>0</li><li>0</li><li>1</li><li>0</li><li>0</li><li>0</li><li>0</li><li>0</li><li>1</li><li>0</li><li>0</li><li>0</li><li>1</li><li>1</li><li>1</li><li>0</li><li>1</li><li>0</li><li>1</li><li>1</li><li>0</li><li>0</li><li>0</li><li>0</li><li>0</li><li>1</li><li>0</li><li>0</li><li>1</li><li>0</li><li>1</li><li>1</li><li>0</li><li>1</li><li>0</li><li>0</li><li>0</li><li>1</li><li>0</li><li>0</li><li>1</li><li>0</li><li>0</li><li>1</li><li>1</li><li>0</li><li>0</li><li>0</li><li>0</li><li>0</li><li>0</li><li>1</li><li>1</li><li>0</li><li>1</li><li>0</li><li>0</li><li>0</li><li>0</li><li>0</li><li>1</li><li>1</li><li>0</li><li>0</li><li>1</li><li>0</li><li>1</li><li>0</li><li>0</li><li>1</li><li>0</li><li>1</li><li>0</li><li>0</li><li>0</li><li>0</li><li>0</li><li>1</li><li>1</li><li>1</li><li>1</li><li>0</li><li>0</li><li>1</li><li>0</li><li>0</li><li>1</li></ol>\n",
              "\n",
              "<details>\n",
              "\t<summary style=display:list-item;cursor:pointer>\n",
              "\t\t<strong>Levels</strong>:\n",
              "\t</summary>\n",
              "\t<style>\n",
              "\t.list-inline {list-style: none; margin:0; padding: 0}\n",
              "\t.list-inline>li {display: inline-block}\n",
              "\t.list-inline>li:not(:last-child)::after {content: \"\\00b7\"; padding: 0 .5ex}\n",
              "\t</style>\n",
              "\t<ol class=list-inline><li>'0'</li><li>'1'</li></ol>\n",
              "</details>"
            ]
          },
          "metadata": {
            "tags": []
          }
        }
      ]
    },
    {
      "cell_type": "code",
      "metadata": {
        "colab": {
          "base_uri": "https://localhost:8080/",
          "height": 173
        },
        "id": "lPyLLJ7zeAXQ",
        "outputId": "fcaa3a5f-a21c-482c-fdc9-b5437c7d7182"
      },
      "source": [
        "as.numeric(predicao)"
      ],
      "execution_count": 77,
      "outputs": [
        {
          "output_type": "display_data",
          "data": {
            "text/plain": [
              "  [1] 1 1 1 1 2 1 1 1 2 1 1 1 2 1 2 2 1 1 1 2 1 2 2 1 2 1 2 1 1 1 1 1 2 1 1 1 1\n",
              " [38] 1 1 2 1 2 1 2 2 1 1 1 2 2 1 1 2 2 1 1 1 1 1 2 1 1 1 2 2 2 2 1 1 2 2 1 1 1\n",
              " [75] 2 1 1 2 1 2 2 1 1 1 1 1 2 1 2 2 2 1 2 1 1 1 2 1 1 1 2 1 1 1 2 1 1 1 1 1 1\n",
              "[112] 2 2 2 2 1 1 2 1 2 2 1 2 1 1 1 1 2 1 1 1 1 1 1 1 1 1 1 1 1 1 2 1 1 2 1 1 1\n",
              "[149] 2 1 2 1 1 2 1 1 2 1 2 2 2 2 2 1 1 1 1 1 2 1 1 1 1 1 1 2 2 1 2 2 1 1 2 1 2\n",
              "[186] 1 2 1 1 1 1 1 2 1 2 1 2 1 1 1 2 2 2 2 1 1 1 1 2 1 1 1 1 2 1 1 2 1 2 1 2 1\n",
              "[223] 2 1 2 1 1 2 1 1 1 2 1 1 1 1 1 1 2 2 2 2 1 1 1 1 2 1 2 1 2 1 1 1 1 1 1 1 2\n",
              "[260] 1 1 1 2 2 1 1 1 1 1 1 1 1 2 2 1 2 1 1 1 1 1 2 2 1 1 1 1 1 1 1 1 1 1 1 1 1\n",
              "[297] 2 1 1 1 1 1 1 1 2 2 1 2 1 1 1 1 1 1 2 2 1 1 1 1 1 1 1 2 2 1 2 1 1 1 2 1 1\n",
              "[334] 2 1 1 1 1 1 2 1 1 1 2 2 2 1 2 1 2 2 1 1 1 1 1 2 1 1 2 1 2 2 1 2 1 1 1 2 1\n",
              "[371] 1 2 1 1 2 2 1 1 1 1 1 1 2 2 1 2 1 1 1 1 1 2 2 1 1 2 1 2 1 1 2 1 2 1 1 1 1\n",
              "[408] 1 2 2 2 2 1 1 2 1 1 2"
            ],
            "text/latex": "\\begin{enumerate*}\n\\item 1\n\\item 1\n\\item 1\n\\item 1\n\\item 2\n\\item 1\n\\item 1\n\\item 1\n\\item 2\n\\item 1\n\\item 1\n\\item 1\n\\item 2\n\\item 1\n\\item 2\n\\item 2\n\\item 1\n\\item 1\n\\item 1\n\\item 2\n\\item 1\n\\item 2\n\\item 2\n\\item 1\n\\item 2\n\\item 1\n\\item 2\n\\item 1\n\\item 1\n\\item 1\n\\item 1\n\\item 1\n\\item 2\n\\item 1\n\\item 1\n\\item 1\n\\item 1\n\\item 1\n\\item 1\n\\item 2\n\\item 1\n\\item 2\n\\item 1\n\\item 2\n\\item 2\n\\item 1\n\\item 1\n\\item 1\n\\item 2\n\\item 2\n\\item 1\n\\item 1\n\\item 2\n\\item 2\n\\item 1\n\\item 1\n\\item 1\n\\item 1\n\\item 1\n\\item 2\n\\item 1\n\\item 1\n\\item 1\n\\item 2\n\\item 2\n\\item 2\n\\item 2\n\\item 1\n\\item 1\n\\item 2\n\\item 2\n\\item 1\n\\item 1\n\\item 1\n\\item 2\n\\item 1\n\\item 1\n\\item 2\n\\item 1\n\\item 2\n\\item 2\n\\item 1\n\\item 1\n\\item 1\n\\item 1\n\\item 1\n\\item 2\n\\item 1\n\\item 2\n\\item 2\n\\item 2\n\\item 1\n\\item 2\n\\item 1\n\\item 1\n\\item 1\n\\item 2\n\\item 1\n\\item 1\n\\item 1\n\\item 2\n\\item 1\n\\item 1\n\\item 1\n\\item 2\n\\item 1\n\\item 1\n\\item 1\n\\item 1\n\\item 1\n\\item 1\n\\item 2\n\\item 2\n\\item 2\n\\item 2\n\\item 1\n\\item 1\n\\item 2\n\\item 1\n\\item 2\n\\item 2\n\\item 1\n\\item 2\n\\item 1\n\\item 1\n\\item 1\n\\item 1\n\\item 2\n\\item 1\n\\item 1\n\\item 1\n\\item 1\n\\item 1\n\\item 1\n\\item 1\n\\item 1\n\\item 1\n\\item 1\n\\item 1\n\\item 1\n\\item 1\n\\item 2\n\\item 1\n\\item 1\n\\item 2\n\\item 1\n\\item 1\n\\item 1\n\\item 2\n\\item 1\n\\item 2\n\\item 1\n\\item 1\n\\item 2\n\\item 1\n\\item 1\n\\item 2\n\\item 1\n\\item 2\n\\item 2\n\\item 2\n\\item 2\n\\item 2\n\\item 1\n\\item 1\n\\item 1\n\\item 1\n\\item 1\n\\item 2\n\\item 1\n\\item 1\n\\item 1\n\\item 1\n\\item 1\n\\item 1\n\\item 2\n\\item 2\n\\item 1\n\\item 2\n\\item 2\n\\item 1\n\\item 1\n\\item 2\n\\item 1\n\\item 2\n\\item 1\n\\item 2\n\\item 1\n\\item 1\n\\item 1\n\\item 1\n\\item 1\n\\item 2\n\\item 1\n\\item 2\n\\item 1\n\\item 2\n\\item 1\n\\item 1\n\\item 1\n\\item ⋯\n\\item 2\n\\item 1\n\\item 2\n\\item 1\n\\item 2\n\\item 1\n\\item 2\n\\item 1\n\\item 1\n\\item 2\n\\item 1\n\\item 1\n\\item 1\n\\item 2\n\\item 1\n\\item 1\n\\item 1\n\\item 1\n\\item 1\n\\item 1\n\\item 2\n\\item 2\n\\item 2\n\\item 2\n\\item 1\n\\item 1\n\\item 1\n\\item 1\n\\item 2\n\\item 1\n\\item 2\n\\item 1\n\\item 2\n\\item 1\n\\item 1\n\\item 1\n\\item 1\n\\item 1\n\\item 1\n\\item 1\n\\item 2\n\\item 1\n\\item 1\n\\item 1\n\\item 2\n\\item 2\n\\item 1\n\\item 1\n\\item 1\n\\item 1\n\\item 1\n\\item 1\n\\item 1\n\\item 1\n\\item 2\n\\item 2\n\\item 1\n\\item 2\n\\item 1\n\\item 1\n\\item 1\n\\item 1\n\\item 1\n\\item 2\n\\item 2\n\\item 1\n\\item 1\n\\item 1\n\\item 1\n\\item 1\n\\item 1\n\\item 1\n\\item 1\n\\item 1\n\\item 1\n\\item 1\n\\item 1\n\\item 1\n\\item 2\n\\item 1\n\\item 1\n\\item 1\n\\item 1\n\\item 1\n\\item 1\n\\item 1\n\\item 2\n\\item 2\n\\item 1\n\\item 2\n\\item 1\n\\item 1\n\\item 1\n\\item 1\n\\item 1\n\\item 1\n\\item 2\n\\item 2\n\\item 1\n\\item 1\n\\item 1\n\\item 1\n\\item 1\n\\item 1\n\\item 1\n\\item 2\n\\item 2\n\\item 1\n\\item 2\n\\item 1\n\\item 1\n\\item 1\n\\item 2\n\\item 1\n\\item 1\n\\item 2\n\\item 1\n\\item 1\n\\item 1\n\\item 1\n\\item 1\n\\item 2\n\\item 1\n\\item 1\n\\item 1\n\\item 2\n\\item 2\n\\item 2\n\\item 1\n\\item 2\n\\item 1\n\\item 2\n\\item 2\n\\item 1\n\\item 1\n\\item 1\n\\item 1\n\\item 1\n\\item 2\n\\item 1\n\\item 1\n\\item 2\n\\item 1\n\\item 2\n\\item 2\n\\item 1\n\\item 2\n\\item 1\n\\item 1\n\\item 1\n\\item 2\n\\item 1\n\\item 1\n\\item 2\n\\item 1\n\\item 1\n\\item 2\n\\item 2\n\\item 1\n\\item 1\n\\item 1\n\\item 1\n\\item 1\n\\item 1\n\\item 2\n\\item 2\n\\item 1\n\\item 2\n\\item 1\n\\item 1\n\\item 1\n\\item 1\n\\item 1\n\\item 2\n\\item 2\n\\item 1\n\\item 1\n\\item 2\n\\item 1\n\\item 2\n\\item 1\n\\item 1\n\\item 2\n\\item 1\n\\item 2\n\\item 1\n\\item 1\n\\item 1\n\\item 1\n\\item 1\n\\item 2\n\\item 2\n\\item 2\n\\item 2\n\\item 1\n\\item 1\n\\item 2\n\\item 1\n\\item 1\n\\item 2\n\\end{enumerate*}\n",
            "text/markdown": "1. 1\n2. 1\n3. 1\n4. 1\n5. 2\n6. 1\n7. 1\n8. 1\n9. 2\n10. 1\n11. 1\n12. 1\n13. 2\n14. 1\n15. 2\n16. 2\n17. 1\n18. 1\n19. 1\n20. 2\n21. 1\n22. 2\n23. 2\n24. 1\n25. 2\n26. 1\n27. 2\n28. 1\n29. 1\n30. 1\n31. 1\n32. 1\n33. 2\n34. 1\n35. 1\n36. 1\n37. 1\n38. 1\n39. 1\n40. 2\n41. 1\n42. 2\n43. 1\n44. 2\n45. 2\n46. 1\n47. 1\n48. 1\n49. 2\n50. 2\n51. 1\n52. 1\n53. 2\n54. 2\n55. 1\n56. 1\n57. 1\n58. 1\n59. 1\n60. 2\n61. 1\n62. 1\n63. 1\n64. 2\n65. 2\n66. 2\n67. 2\n68. 1\n69. 1\n70. 2\n71. 2\n72. 1\n73. 1\n74. 1\n75. 2\n76. 1\n77. 1\n78. 2\n79. 1\n80. 2\n81. 2\n82. 1\n83. 1\n84. 1\n85. 1\n86. 1\n87. 2\n88. 1\n89. 2\n90. 2\n91. 2\n92. 1\n93. 2\n94. 1\n95. 1\n96. 1\n97. 2\n98. 1\n99. 1\n100. 1\n101. 2\n102. 1\n103. 1\n104. 1\n105. 2\n106. 1\n107. 1\n108. 1\n109. 1\n110. 1\n111. 1\n112. 2\n113. 2\n114. 2\n115. 2\n116. 1\n117. 1\n118. 2\n119. 1\n120. 2\n121. 2\n122. 1\n123. 2\n124. 1\n125. 1\n126. 1\n127. 1\n128. 2\n129. 1\n130. 1\n131. 1\n132. 1\n133. 1\n134. 1\n135. 1\n136. 1\n137. 1\n138. 1\n139. 1\n140. 1\n141. 1\n142. 2\n143. 1\n144. 1\n145. 2\n146. 1\n147. 1\n148. 1\n149. 2\n150. 1\n151. 2\n152. 1\n153. 1\n154. 2\n155. 1\n156. 1\n157. 2\n158. 1\n159. 2\n160. 2\n161. 2\n162. 2\n163. 2\n164. 1\n165. 1\n166. 1\n167. 1\n168. 1\n169. 2\n170. 1\n171. 1\n172. 1\n173. 1\n174. 1\n175. 1\n176. 2\n177. 2\n178. 1\n179. 2\n180. 2\n181. 1\n182. 1\n183. 2\n184. 1\n185. 2\n186. 1\n187. 2\n188. 1\n189. 1\n190. 1\n191. 1\n192. 1\n193. 2\n194. 1\n195. 2\n196. 1\n197. 2\n198. 1\n199. 1\n200. 1\n201. ⋯\n202. 2\n203. 1\n204. 2\n205. 1\n206. 2\n207. 1\n208. 2\n209. 1\n210. 1\n211. 2\n212. 1\n213. 1\n214. 1\n215. 2\n216. 1\n217. 1\n218. 1\n219. 1\n220. 1\n221. 1\n222. 2\n223. 2\n224. 2\n225. 2\n226. 1\n227. 1\n228. 1\n229. 1\n230. 2\n231. 1\n232. 2\n233. 1\n234. 2\n235. 1\n236. 1\n237. 1\n238. 1\n239. 1\n240. 1\n241. 1\n242. 2\n243. 1\n244. 1\n245. 1\n246. 2\n247. 2\n248. 1\n249. 1\n250. 1\n251. 1\n252. 1\n253. 1\n254. 1\n255. 1\n256. 2\n257. 2\n258. 1\n259. 2\n260. 1\n261. 1\n262. 1\n263. 1\n264. 1\n265. 2\n266. 2\n267. 1\n268. 1\n269. 1\n270. 1\n271. 1\n272. 1\n273. 1\n274. 1\n275. 1\n276. 1\n277. 1\n278. 1\n279. 1\n280. 2\n281. 1\n282. 1\n283. 1\n284. 1\n285. 1\n286. 1\n287. 1\n288. 2\n289. 2\n290. 1\n291. 2\n292. 1\n293. 1\n294. 1\n295. 1\n296. 1\n297. 1\n298. 2\n299. 2\n300. 1\n301. 1\n302. 1\n303. 1\n304. 1\n305. 1\n306. 1\n307. 2\n308. 2\n309. 1\n310. 2\n311. 1\n312. 1\n313. 1\n314. 2\n315. 1\n316. 1\n317. 2\n318. 1\n319. 1\n320. 1\n321. 1\n322. 1\n323. 2\n324. 1\n325. 1\n326. 1\n327. 2\n328. 2\n329. 2\n330. 1\n331. 2\n332. 1\n333. 2\n334. 2\n335. 1\n336. 1\n337. 1\n338. 1\n339. 1\n340. 2\n341. 1\n342. 1\n343. 2\n344. 1\n345. 2\n346. 2\n347. 1\n348. 2\n349. 1\n350. 1\n351. 1\n352. 2\n353. 1\n354. 1\n355. 2\n356. 1\n357. 1\n358. 2\n359. 2\n360. 1\n361. 1\n362. 1\n363. 1\n364. 1\n365. 1\n366. 2\n367. 2\n368. 1\n369. 2\n370. 1\n371. 1\n372. 1\n373. 1\n374. 1\n375. 2\n376. 2\n377. 1\n378. 1\n379. 2\n380. 1\n381. 2\n382. 1\n383. 1\n384. 2\n385. 1\n386. 2\n387. 1\n388. 1\n389. 1\n390. 1\n391. 1\n392. 2\n393. 2\n394. 2\n395. 2\n396. 1\n397. 1\n398. 2\n399. 1\n400. 1\n401. 2\n\n\n",
            "text/html": [
              "<style>\n",
              ".list-inline {list-style: none; margin:0; padding: 0}\n",
              ".list-inline>li {display: inline-block}\n",
              ".list-inline>li:not(:last-child)::after {content: \"\\00b7\"; padding: 0 .5ex}\n",
              "</style>\n",
              "<ol class=list-inline><li>1</li><li>1</li><li>1</li><li>1</li><li>2</li><li>1</li><li>1</li><li>1</li><li>2</li><li>1</li><li>1</li><li>1</li><li>2</li><li>1</li><li>2</li><li>2</li><li>1</li><li>1</li><li>1</li><li>2</li><li>1</li><li>2</li><li>2</li><li>1</li><li>2</li><li>1</li><li>2</li><li>1</li><li>1</li><li>1</li><li>1</li><li>1</li><li>2</li><li>1</li><li>1</li><li>1</li><li>1</li><li>1</li><li>1</li><li>2</li><li>1</li><li>2</li><li>1</li><li>2</li><li>2</li><li>1</li><li>1</li><li>1</li><li>2</li><li>2</li><li>1</li><li>1</li><li>2</li><li>2</li><li>1</li><li>1</li><li>1</li><li>1</li><li>1</li><li>2</li><li>1</li><li>1</li><li>1</li><li>2</li><li>2</li><li>2</li><li>2</li><li>1</li><li>1</li><li>2</li><li>2</li><li>1</li><li>1</li><li>1</li><li>2</li><li>1</li><li>1</li><li>2</li><li>1</li><li>2</li><li>2</li><li>1</li><li>1</li><li>1</li><li>1</li><li>1</li><li>2</li><li>1</li><li>2</li><li>2</li><li>2</li><li>1</li><li>2</li><li>1</li><li>1</li><li>1</li><li>2</li><li>1</li><li>1</li><li>1</li><li>2</li><li>1</li><li>1</li><li>1</li><li>2</li><li>1</li><li>1</li><li>1</li><li>1</li><li>1</li><li>1</li><li>2</li><li>2</li><li>2</li><li>2</li><li>1</li><li>1</li><li>2</li><li>1</li><li>2</li><li>2</li><li>1</li><li>2</li><li>1</li><li>1</li><li>1</li><li>1</li><li>2</li><li>1</li><li>1</li><li>1</li><li>1</li><li>1</li><li>1</li><li>1</li><li>1</li><li>1</li><li>1</li><li>1</li><li>1</li><li>1</li><li>2</li><li>1</li><li>1</li><li>2</li><li>1</li><li>1</li><li>1</li><li>2</li><li>1</li><li>2</li><li>1</li><li>1</li><li>2</li><li>1</li><li>1</li><li>2</li><li>1</li><li>2</li><li>2</li><li>2</li><li>2</li><li>2</li><li>1</li><li>1</li><li>1</li><li>1</li><li>1</li><li>2</li><li>1</li><li>1</li><li>1</li><li>1</li><li>1</li><li>1</li><li>2</li><li>2</li><li>1</li><li>2</li><li>2</li><li>1</li><li>1</li><li>2</li><li>1</li><li>2</li><li>1</li><li>2</li><li>1</li><li>1</li><li>1</li><li>1</li><li>1</li><li>2</li><li>1</li><li>2</li><li>1</li><li>2</li><li>1</li><li>1</li><li>1</li><li>⋯</li><li>2</li><li>1</li><li>2</li><li>1</li><li>2</li><li>1</li><li>2</li><li>1</li><li>1</li><li>2</li><li>1</li><li>1</li><li>1</li><li>2</li><li>1</li><li>1</li><li>1</li><li>1</li><li>1</li><li>1</li><li>2</li><li>2</li><li>2</li><li>2</li><li>1</li><li>1</li><li>1</li><li>1</li><li>2</li><li>1</li><li>2</li><li>1</li><li>2</li><li>1</li><li>1</li><li>1</li><li>1</li><li>1</li><li>1</li><li>1</li><li>2</li><li>1</li><li>1</li><li>1</li><li>2</li><li>2</li><li>1</li><li>1</li><li>1</li><li>1</li><li>1</li><li>1</li><li>1</li><li>1</li><li>2</li><li>2</li><li>1</li><li>2</li><li>1</li><li>1</li><li>1</li><li>1</li><li>1</li><li>2</li><li>2</li><li>1</li><li>1</li><li>1</li><li>1</li><li>1</li><li>1</li><li>1</li><li>1</li><li>1</li><li>1</li><li>1</li><li>1</li><li>1</li><li>2</li><li>1</li><li>1</li><li>1</li><li>1</li><li>1</li><li>1</li><li>1</li><li>2</li><li>2</li><li>1</li><li>2</li><li>1</li><li>1</li><li>1</li><li>1</li><li>1</li><li>1</li><li>2</li><li>2</li><li>1</li><li>1</li><li>1</li><li>1</li><li>1</li><li>1</li><li>1</li><li>2</li><li>2</li><li>1</li><li>2</li><li>1</li><li>1</li><li>1</li><li>2</li><li>1</li><li>1</li><li>2</li><li>1</li><li>1</li><li>1</li><li>1</li><li>1</li><li>2</li><li>1</li><li>1</li><li>1</li><li>2</li><li>2</li><li>2</li><li>1</li><li>2</li><li>1</li><li>2</li><li>2</li><li>1</li><li>1</li><li>1</li><li>1</li><li>1</li><li>2</li><li>1</li><li>1</li><li>2</li><li>1</li><li>2</li><li>2</li><li>1</li><li>2</li><li>1</li><li>1</li><li>1</li><li>2</li><li>1</li><li>1</li><li>2</li><li>1</li><li>1</li><li>2</li><li>2</li><li>1</li><li>1</li><li>1</li><li>1</li><li>1</li><li>1</li><li>2</li><li>2</li><li>1</li><li>2</li><li>1</li><li>1</li><li>1</li><li>1</li><li>1</li><li>2</li><li>2</li><li>1</li><li>1</li><li>2</li><li>1</li><li>2</li><li>1</li><li>1</li><li>2</li><li>1</li><li>2</li><li>1</li><li>1</li><li>1</li><li>1</li><li>1</li><li>2</li><li>2</li><li>2</li><li>2</li><li>1</li><li>1</li><li>2</li><li>1</li><li>1</li><li>2</li></ol>\n"
            ]
          },
          "metadata": {
            "tags": []
          }
        }
      ]
    },
    {
      "cell_type": "code",
      "metadata": {
        "id": "zp-Bp__Uw8zm"
      },
      "source": [
        "predicao = as.numeric(predicao) - 1"
      ],
      "execution_count": 78,
      "outputs": []
    },
    {
      "cell_type": "code",
      "metadata": {
        "id": "Zf9a3PuOst0t"
      },
      "source": [
        "submissao = data.frame(cbind(892:1309, predicao))\n",
        "colnames(submissao) = c('PassengerId', 'Survived')"
      ],
      "execution_count": 79,
      "outputs": []
    },
    {
      "cell_type": "code",
      "metadata": {
        "colab": {
          "base_uri": "https://localhost:8080/",
          "height": 207
        },
        "id": "-fVQywbxvLpy",
        "outputId": "76073d9d-d18c-4e82-dc0c-06239f07a88b"
      },
      "source": [
        "head(submissao)"
      ],
      "execution_count": 80,
      "outputs": [
        {
          "output_type": "display_data",
          "data": {
            "text/plain": [
              "  PassengerId Survived\n",
              "1 892         0       \n",
              "2 893         0       \n",
              "3 894         0       \n",
              "4 895         0       \n",
              "5 896         1       \n",
              "6 897         0       "
            ],
            "text/latex": "A data.frame: 6 × 2\n\\begin{tabular}{r|ll}\n  & PassengerId & Survived\\\\\n  & <dbl> & <dbl>\\\\\n\\hline\n\t1 & 892 & 0\\\\\n\t2 & 893 & 0\\\\\n\t3 & 894 & 0\\\\\n\t4 & 895 & 0\\\\\n\t5 & 896 & 1\\\\\n\t6 & 897 & 0\\\\\n\\end{tabular}\n",
            "text/markdown": "\nA data.frame: 6 × 2\n\n| <!--/--> | PassengerId &lt;dbl&gt; | Survived &lt;dbl&gt; |\n|---|---|---|\n| 1 | 892 | 0 |\n| 2 | 893 | 0 |\n| 3 | 894 | 0 |\n| 4 | 895 | 0 |\n| 5 | 896 | 1 |\n| 6 | 897 | 0 |\n\n",
            "text/html": [
              "<table>\n",
              "<caption>A data.frame: 6 × 2</caption>\n",
              "<thead>\n",
              "\t<tr><th></th><th scope=col>PassengerId</th><th scope=col>Survived</th></tr>\n",
              "\t<tr><th></th><th scope=col>&lt;dbl&gt;</th><th scope=col>&lt;dbl&gt;</th></tr>\n",
              "</thead>\n",
              "<tbody>\n",
              "\t<tr><th scope=row>1</th><td>892</td><td>0</td></tr>\n",
              "\t<tr><th scope=row>2</th><td>893</td><td>0</td></tr>\n",
              "\t<tr><th scope=row>3</th><td>894</td><td>0</td></tr>\n",
              "\t<tr><th scope=row>4</th><td>895</td><td>0</td></tr>\n",
              "\t<tr><th scope=row>5</th><td>896</td><td>1</td></tr>\n",
              "\t<tr><th scope=row>6</th><td>897</td><td>0</td></tr>\n",
              "</tbody>\n",
              "</table>\n"
            ]
          },
          "metadata": {
            "tags": []
          }
        }
      ]
    },
    {
      "cell_type": "code",
      "metadata": {
        "id": "Y4I6GZ_1vYBu"
      },
      "source": [
        "write.csv(submissao, 'submissao.csv', row.names = FALSE)"
      ],
      "execution_count": 81,
      "outputs": []
    },
    {
      "cell_type": "markdown",
      "metadata": {
        "id": "UZDYhez56PgU"
      },
      "source": [
        "---"
      ]
    },
    {
      "cell_type": "markdown",
      "metadata": {
        "id": "d6ev7Z1_6P9X"
      },
      "source": [
        "## O que poderíamos ter feito diferente?\n",
        "\n",
        "* Descartar variáveis que não possuem informação (supostamente)\n",
        "\n",
        "Não há mesmo informação nas variáveis descartadas? Veja se há alguma tentativa que valha a pena tentar ao reavaliar as variáveis que foram retiradas inicialmente.\n",
        "\n",
        "* Verificar se há dados faltantes nos dados\n",
        "\n",
        "Completamos os dados faltantes pela média. Será que tem maneiras melhores de imputar esses dados faltantes? Pela mediana? Pela média considerando grupos (por ex. media das mulheres e media dos homens são imputados separadamente). E se fizessemos um modelo pra prever os valores faltantes?\n",
        "\n",
        "* Dummificação de variáveis categóricas\n",
        "\n",
        "Aqui o procedimento não tem muito o que modificar. Uma alteração possível é descartar uma das colunas dummificadas para evitar multicolinearidade. Alguns modelos de ML são prejudicados por isso. Outra ideia seria dummificar as variáveis Parch e SibSp.\n",
        "\n",
        "* Verificar a escala das variáveis numéricas\n",
        "\n",
        "Será que se fizessemos uma normalização, ao invés da padronização, como fizemos, teríamos um resultado melhor? Existem outras maneiras de transformar meus dados numéricos?\n",
        "\n",
        "* Engenharia de variáveis\n",
        "\n",
        "Quais outras variáveis seria possível criar para que meu modelo tenha mais informação para sua modelagem? Use a criatividade. \n",
        "\n",
        "* Outros procedimentos que é interessante considerar aplicar:\n",
        "\n",
        "    - Remover outliers nas variáveis numéricas.\n",
        "    - Transformar as variáveis numéricas em categóricas (por exemplo: transformar as idade em faixas do tipo [0,18), [18, 30), [30, 45), [45, 100) ).\n",
        "    - Remover variáveis com pouca variância (muito comum após o processo de dummyficação, nas variáveis resultantes das classes poucos frequentes).\n",
        "    - Em variáveis categóricas, combinar as categorias menos frequentes em apenas uma. \n",
        "    - Fazer transformações de forma nas variáveis contínuas (por exemplo, utilizar a transformação Box-Cox para obter normalidade nos dados).\n",
        "    - Testar diferentes subconjuntos de variáveis (nem todas carregam informação útil para o modelo e, a príncipio, podem haver variáveis que pioram o resultado de uma modelagem. "
      ]
    },
    {
      "cell_type": "code",
      "metadata": {
        "id": "3q7mEpzg-dQZ"
      },
      "source": [
        ""
      ],
      "execution_count": null,
      "outputs": []
    }
  ]
}